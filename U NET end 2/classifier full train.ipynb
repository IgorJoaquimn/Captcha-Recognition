{
  "cells": [
    {
      "cell_type": "code",
      "execution_count": 1,
      "metadata": {
        "id": "gxI4LLcnZqRN"
      },
      "outputs": [],
      "source": [
        "import pandas as pd\n",
        "import numpy as np\n",
        "import os\n",
        "import matplotlib.pyplot as plt\n",
        "import cv2"
      ]
    },
    {
      "cell_type": "code",
      "execution_count": 2,
      "metadata": {
        "id": "SY3XUmVsqEM1"
      },
      "outputs": [
        {
          "name": "stderr",
          "output_type": "stream",
          "text": [
            "2024-08-02 10:16:45.065804: I tensorflow/core/platform/cpu_feature_guard.cc:182] This TensorFlow binary is optimized to use available CPU instructions in performance-critical operations.\n",
            "To enable the following instructions: AVX2 FMA, in other operations, rebuild TensorFlow with the appropriate compiler flags.\n",
            "/home/igu/miniconda3/envs/ml/lib/python3.9/site-packages/requests/__init__.py:86: RequestsDependencyWarning: Unable to find acceptable character detection dependency (chardet or charset_normalizer).\n",
            "  warnings.warn(\n"
          ]
        }
      ],
      "source": [
        "from keras.models import Sequential, Model\n",
        "from keras.layers import Dense, Conv2D, MaxPooling2D, UpSampling2D, Input,Flatten,Reshape,AveragePooling2D,Dropout,LayerNormalization, ReLU,concatenate,Cropping2D, BatchNormalization\n",
        "from keras.layers import Conv2D, Conv2DTranspose, Input,Dropout, ReLU,BatchNormalization,Concatenate,LeakyReLU,Identity\n",
        "import tensorflow as tf\n",
        "\n",
        "import keras\n",
        "from keras import regularizers\n",
        "from tensorflow.keras.preprocessing.image import ImageDataGenerator\n",
        "from tensorflow.keras.callbacks import ModelCheckpoint\n"
      ]
    },
    {
      "cell_type": "code",
      "execution_count": 3,
      "metadata": {},
      "outputs": [],
      "source": [
        "from PIL import Image, ImageDraw, ImageFont\n",
        "font_path = '../dados/targa/Targa.ttf'"
      ]
    },
    {
      "cell_type": "code",
      "execution_count": 4,
      "metadata": {
        "colab": {
          "base_uri": "https://localhost:8080/"
        },
        "id": "dVhNVxxbZ6qj",
        "outputId": "1ac5b4e0-1aad-4cd1-f1a3-70c23c374ef6"
      },
      "outputs": [
        {
          "name": "stdout",
          "output_type": "stream",
          "text": [
            "/bin/bash: /home/igu/miniconda3/envs/ml/lib/python3.9/site-packages/cv2/../../../../lib/libtinfo.so.6: no version information available (required by /bin/bash)\n",
            "/bin/bash: /home/igu/miniconda3/envs/ml/lib/python3.9/site-packages/cv2/../../../../lib/libtinfo.so.6: no version information available (required by /bin/bash)\n",
            "unzip:  cannot find or open dados.zip?rlkey=lnqcb79vbu8j6cdbfgofogius, dados.zip?rlkey=lnqcb79vbu8j6cdbfgofogius.zip or dados.zip?rlkey=lnqcb79vbu8j6cdbfgofogius.ZIP.\n",
            "\n",
            "No zipfiles found.\n"
          ]
        }
      ],
      "source": [
        "!wget  -nc https://www.dropbox.com/scl/fi/uaiyxp0t2l8hfcszfadtj/dados.zip?rlkey=lnqcb79vbu8j6cdbfgofogius&dl=1\n",
        "!unzip -n -q dados.zip?rlkey=lnqcb79vbu8j6cdbfgofogius"
      ]
    },
    {
      "cell_type": "code",
      "execution_count": 5,
      "metadata": {
        "colab": {
          "base_uri": "https://localhost:8080/",
          "height": 206
        },
        "id": "-owKNFD5ah24",
        "outputId": "adecb30f-3918-47dd-f02d-b8c94163f530"
      },
      "outputs": [
        {
          "data": {
            "text/html": [
              "<div>\n",
              "<style scoped>\n",
              "    .dataframe tbody tr th:only-of-type {\n",
              "        vertical-align: middle;\n",
              "    }\n",
              "\n",
              "    .dataframe tbody tr th {\n",
              "        vertical-align: top;\n",
              "    }\n",
              "\n",
              "    .dataframe thead th {\n",
              "        text-align: right;\n",
              "    }\n",
              "</style>\n",
              "<table border=\"1\" class=\"dataframe\">\n",
              "  <thead>\n",
              "    <tr style=\"text-align: right;\">\n",
              "      <th></th>\n",
              "      <th>jpg_file</th>\n",
              "      <th>txt_content</th>\n",
              "    </tr>\n",
              "  </thead>\n",
              "  <tbody>\n",
              "    <tr>\n",
              "      <th>0</th>\n",
              "      <td>000001.jpg</td>\n",
              "      <td>RNINIC</td>\n",
              "    </tr>\n",
              "    <tr>\n",
              "      <th>1</th>\n",
              "      <td>000002.jpg</td>\n",
              "      <td>TVCFS8</td>\n",
              "    </tr>\n",
              "    <tr>\n",
              "      <th>2</th>\n",
              "      <td>000003.jpg</td>\n",
              "      <td>N1O1EH</td>\n",
              "    </tr>\n",
              "    <tr>\n",
              "      <th>3</th>\n",
              "      <td>000004.jpg</td>\n",
              "      <td>OQZSL4</td>\n",
              "    </tr>\n",
              "    <tr>\n",
              "      <th>4</th>\n",
              "      <td>000005.jpg</td>\n",
              "      <td>GST2YA</td>\n",
              "    </tr>\n",
              "  </tbody>\n",
              "</table>\n",
              "</div>"
            ],
            "text/plain": [
              "     jpg_file txt_content\n",
              "0  000001.jpg      RNINIC\n",
              "1  000002.jpg      TVCFS8\n",
              "2  000003.jpg      N1O1EH\n",
              "3  000004.jpg      OQZSL4\n",
              "4  000005.jpg      GST2YA"
            ]
          },
          "execution_count": 5,
          "metadata": {},
          "output_type": "execute_result"
        }
      ],
      "source": [
        "image_path = '../dados/CAPTCHA-10k/treinamento'\n",
        "def generate_df(image_path):\n",
        "  label_path = '../dados/CAPTCHA-10k/labels10k'\n",
        "\n",
        "  jpg_files = [f for f in os.listdir(image_path) if f.endswith('.jpg')]\n",
        "  jpg_files.sort()\n",
        "  data = []\n",
        "\n",
        "  for jpg_file in jpg_files:\n",
        "      txt_file = os.path.splitext(jpg_file)[0] + '.txt'\n",
        "      txt_file_path = os.path.join(label_path, txt_file)\n",
        "\n",
        "      if os.path.exists(txt_file_path):\n",
        "          with open(txt_file_path, 'r') as file:\n",
        "              txt_content = file.read().strip()\n",
        "\n",
        "          data.append({'jpg_file': jpg_file, 'txt_content': txt_content})\n",
        "  return pd.DataFrame(data)\n",
        "\n",
        "df = generate_df(image_path)\n",
        "df.head()"
      ]
    },
    {
      "cell_type": "code",
      "execution_count": 6,
      "metadata": {},
      "outputs": [
        {
          "data": {
            "text/plain": [
              "array(['0', '1', '2', '3', '4', '5', '6', '7', '8', '9', '?', 'A', 'B',\n",
              "       'C', 'D', 'E', 'F', 'G', 'H', 'I', 'J', 'K', 'L', 'M', 'N', 'O',\n",
              "       'P', 'Q', 'R', 'S', 'T', 'U', 'V', 'W', 'X', 'Y', 'Z', ']'],\n",
              "      dtype='<U1')"
            ]
          },
          "execution_count": 6,
          "metadata": {},
          "output_type": "execute_result"
        }
      ],
      "source": [
        "vocab = np.unique(list(df['txt_content'].sum()) + [\"]\"])\n",
        "np.array(vocab)"
      ]
    },
    {
      "cell_type": "code",
      "execution_count": 7,
      "metadata": {},
      "outputs": [],
      "source": [
        "def rmse(y_true, y_pred):\n",
        "    return tf.sqrt(tf.reduce_mean(tf.square(y_pred - y_true)))\n",
        "\n",
        "def psnr(y_true, y_pred):\n",
        "    max_pixel = 1.0\n",
        "    return tf.image.psnr(y_true, y_pred, max_val=max_pixel)"
      ]
    },
    {
      "cell_type": "code",
      "execution_count": 9,
      "metadata": {},
      "outputs": [],
      "source": [
        "autoencoder = tf.keras.models.load_model('model_MSE_aug_best_unet.tf',custom_objects={\"rmse\": rmse,\"psnr\":psnr})\n",
        "classifier = tf.keras.models.load_model('classifier_pre_trained.tf')"
      ]
    },
    {
      "cell_type": "code",
      "execution_count": 10,
      "metadata": {},
      "outputs": [],
      "source": [
        "def preprocess(img):\n",
        "  kernel  = cv2.getStructuringElement(cv2.MORPH_RECT, (4, 4))\n",
        "  img     = cv2.morphologyEx(img, cv2.MORPH_CLOSE, kernel)\n",
        "  _, img  = cv2.threshold(img, 90, 255, cv2.THRESH_BINARY)\n",
        "  return img"
      ]
    },
    {
      "cell_type": "code",
      "execution_count": 11,
      "metadata": {},
      "outputs": [
        {
          "name": "stderr",
          "output_type": "stream",
          "text": [
            "2024-08-02 10:17:05.406830: I tensorflow/compiler/xla/stream_executor/cuda/cuda_dnn.cc:432] Loaded cuDNN version 8907\n"
          ]
        },
        {
          "name": "stdout",
          "output_type": "stream",
          "text": [
            "250/250 [==============================] - 8s 25ms/step\n"
          ]
        }
      ],
      "source": [
        "def generate_X_Y(image_path):\n",
        "  df = generate_df(image_path)\n",
        "  df['txt_content'] = df['txt_content'].apply(lambda x: x + \"]\" if len(x) == 6 else x)\n",
        "\n",
        "  num_classes = len(vocab)\n",
        "  char_to_index = {char: idx for idx, char in enumerate(vocab)}\n",
        "  images = [preprocess(cv2.imread(os.path.join(image_path, x),cv2.IMREAD_GRAYSCALE)) for x in df[\"jpg_file\"]]\n",
        "  images = np.array(images)\n",
        "  images = np.expand_dims(images, axis=-1)\n",
        "  images = images.astype('float32') / 255.\n",
        "  images = autoencoder.predict(images)\n",
        "\n",
        "  X = []\n",
        "  Y = []\n",
        "\n",
        "  for i,text in enumerate(df['txt_content']):\n",
        "    x = images[i]    \n",
        "    interval = [0, 25, 50, 75, 100, 125, 150, 175]  # Adjusted intervals for 7 parts\n",
        "    for i in range(len(interval)-1):\n",
        "        fake_img = x[:,interval[i]:interval[i+1]]\n",
        "        y = np.zeros((1,num_classes))\n",
        "        y[0,char_to_index[text[i]]] = 1\n",
        "        X.append(fake_img)\n",
        "        Y.append(y)\n",
        "\n",
        "  X = np.array(X)\n",
        "  Y = np.array(Y)\n",
        "\n",
        "  X = X.reshape(-1,50,25,1)\n",
        "  Y = Y.reshape(-1,num_classes)\n",
        "  return X,Y,images\n",
        "\n",
        "X,Y,images = generate_X_Y('../dados/CAPTCHA-10k/treinamento')"
      ]
    },
    {
      "cell_type": "code",
      "execution_count": 12,
      "metadata": {},
      "outputs": [
        {
          "data": {
            "image/png": "[encoded data removed]",
            "text/plain": [
              "<Figure size 2000x300 with 7 Axes>"
            ]
          },
          "metadata": {},
          "output_type": "display_data"
        }
      ],
      "source": [
        "fig, axes = plt.subplots(1, 7, figsize=(20, 3))\n",
        "for i in range(7):\n",
        "    axes[i].imshow(X[i].reshape(50, 25), cmap='gray')\n",
        "    axes[i].axis('off')\n",
        "plt.show()"
      ]
    },
    {
      "cell_type": "code",
      "execution_count": 13,
      "metadata": {},
      "outputs": [],
      "source": [
        "from tensorflow.keras.preprocessing.image import ImageDataGenerator\n",
        "datagen = ImageDataGenerator(\n",
        "    rotation_range=0.1,\n",
        "    width_shift_range=0.1,\n",
        "    height_shift_range=0.05,\n",
        "    shear_range=0.1,\n",
        "    zoom_range=0.1,\n",
        "    horizontal_flip=False,\n",
        "    fill_mode='nearest'\n",
        ")\n",
        "\n",
        "datagen.fit(X)\n",
        "batch_size = 8\n",
        "augmented_data_generator = datagen.flow(X, Y, batch_size=batch_size)"
      ]
    },
    {
      "cell_type": "code",
      "execution_count": 14,
      "metadata": {},
      "outputs": [],
      "source": [
        "class StopTrainingCallback(tf.keras.callbacks.Callback):\n",
        "    def on_epoch_end(self, epoch, logs=None):\n",
        "        if logs.get('accuracy') == 1.0:\n",
        "            print(\"\\nReached 100% accuracy, stopping training!\")\n",
        "            self.model.stop_training = True\n",
        "        \n",
        "        if logs.get('val_accuracy') == 1.0:\n",
        "            print(\"\\nReached 100% accuracy on val, stopping training!\")\n",
        "            self.model.stop_training = True\n",
        "\n",
        "checkpoint = ModelCheckpoint(\n",
        "    'classifier_full_trained_best.tf',\n",
        "    monitor='val_accuracy',\n",
        "    save_best_only=True,\n",
        "    mode='max',\n",
        "    verbose=1\n",
        ")"
      ]
    },
    {
      "cell_type": "code",
      "execution_count": 15,
      "metadata": {},
      "outputs": [
        {
          "name": "stdout",
          "output_type": "stream",
          "text": [
            "Epoch 1/500\n"
          ]
        },
        {
          "name": "stderr",
          "output_type": "stream",
          "text": [
            "2024-08-02 10:17:15.288191: I tensorflow/compiler/xla/stream_executor/cuda/cuda_blas.cc:606] TensorFloat-32 will be used for the matrix multiplication. This will only be logged once.\n",
            "2024-08-02 10:17:15.308630: I tensorflow/compiler/xla/service/service.cc:168] XLA service 0x762650bb83c0 initialized for platform CUDA (this does not guarantee that XLA will be used). Devices:\n",
            "2024-08-02 10:17:15.308668: I tensorflow/compiler/xla/service/service.cc:176]   StreamExecutor device (0): NVIDIA GeForce RTX 4060 Ti, Compute Capability 8.9\n",
            "2024-08-02 10:17:15.312714: I tensorflow/compiler/mlir/tensorflow/utils/dump_mlir_util.cc:255] disabling MLIR crash reproducer, set env var `MLIR_CRASH_REPRODUCER_DIRECTORY` to enable.\n",
            "2024-08-02 10:17:15.424735: I ./tensorflow/compiler/jit/device_compiler.h:186] Compiled cluster using XLA!  This line is logged at most once for the lifetime of the process.\n"
          ]
        },
        {
          "name": "stdout",
          "output_type": "stream",
          "text": [
            "6996/7000 [============================>.] - ETA: 0s - loss: 0.1581 - accuracy: 0.9706\n",
            "Epoch 1: val_accuracy improved from -inf to 0.97630, saving model to classifier_full_trained_best.tf\n",
            "INFO:tensorflow:Assets written to: classifier_full_trained_best.tf/assets\n"
          ]
        },
        {
          "name": "stderr",
          "output_type": "stream",
          "text": [
            "INFO:tensorflow:Assets written to: classifier_full_trained_best.tf/assets\n"
          ]
        },
        {
          "name": "stdout",
          "output_type": "stream",
          "text": [
            "7000/7000 [==============================] - 45s 6ms/step - loss: 0.1580 - accuracy: 0.9706 - val_loss: 0.1238 - val_accuracy: 0.9763\n",
            "Epoch 2/500\n",
            "6993/7000 [============================>.] - ETA: 0s - loss: 0.1294 - accuracy: 0.9734\n",
            "Epoch 2: val_accuracy did not improve from 0.97630\n",
            "7000/7000 [==============================] - 39s 6ms/step - loss: 0.1294 - accuracy: 0.9734 - val_loss: 0.1235 - val_accuracy: 0.9747\n",
            "Epoch 3/500\n",
            "6995/7000 [============================>.] - ETA: 0s - loss: 0.1221 - accuracy: 0.9739\n",
            "Epoch 3: val_accuracy improved from 0.97630 to 0.97643, saving model to classifier_full_trained_best.tf\n",
            "INFO:tensorflow:Assets written to: classifier_full_trained_best.tf/assets\n"
          ]
        },
        {
          "name": "stderr",
          "output_type": "stream",
          "text": [
            "INFO:tensorflow:Assets written to: classifier_full_trained_best.tf/assets\n"
          ]
        },
        {
          "name": "stdout",
          "output_type": "stream",
          "text": [
            "7000/7000 [==============================] - 39s 6ms/step - loss: 0.1220 - accuracy: 0.9739 - val_loss: 0.1054 - val_accuracy: 0.9764\n",
            "Epoch 4/500\n",
            "6993/7000 [============================>.] - ETA: 0s - loss: 0.1178 - accuracy: 0.9751\n",
            "Epoch 4: val_accuracy did not improve from 0.97643\n",
            "7000/7000 [==============================] - 39s 6ms/step - loss: 0.1179 - accuracy: 0.9751 - val_loss: 0.1105 - val_accuracy: 0.9761\n",
            "Epoch 5/500\n",
            "6993/7000 [============================>.] - ETA: 0s - loss: 0.1119 - accuracy: 0.9752\n",
            "Epoch 5: val_accuracy improved from 0.97643 to 0.97804, saving model to classifier_full_trained_best.tf\n",
            "INFO:tensorflow:Assets written to: classifier_full_trained_best.tf/assets\n"
          ]
        },
        {
          "name": "stderr",
          "output_type": "stream",
          "text": [
            "INFO:tensorflow:Assets written to: classifier_full_trained_best.tf/assets\n"
          ]
        },
        {
          "name": "stdout",
          "output_type": "stream",
          "text": [
            "7000/7000 [==============================] - 40s 6ms/step - loss: 0.1118 - accuracy: 0.9752 - val_loss: 0.0974 - val_accuracy: 0.9780\n",
            "Epoch 6/500\n",
            "6994/7000 [============================>.] - ETA: 0s - loss: 0.1101 - accuracy: 0.9763\n",
            "Epoch 6: val_accuracy did not improve from 0.97804\n",
            "7000/7000 [==============================] - 38s 5ms/step - loss: 0.1101 - accuracy: 0.9763 - val_loss: 0.1104 - val_accuracy: 0.9766\n",
            "Epoch 7/500\n",
            "6990/7000 [============================>.] - ETA: 0s - loss: 0.1079 - accuracy: 0.9757\n",
            "Epoch 7: val_accuracy improved from 0.97804 to 0.97918, saving model to classifier_full_trained_best.tf\n",
            "INFO:tensorflow:Assets written to: classifier_full_trained_best.tf/assets\n"
          ]
        },
        {
          "name": "stderr",
          "output_type": "stream",
          "text": [
            "INFO:tensorflow:Assets written to: classifier_full_trained_best.tf/assets\n"
          ]
        },
        {
          "name": "stdout",
          "output_type": "stream",
          "text": [
            "7000/7000 [==============================] - 39s 6ms/step - loss: 0.1078 - accuracy: 0.9758 - val_loss: 0.0944 - val_accuracy: 0.9792\n",
            "Epoch 8/500\n",
            "6999/7000 [============================>.] - ETA: 0s - loss: 0.1057 - accuracy: 0.9765\n",
            "Epoch 8: val_accuracy improved from 0.97918 to 0.97936, saving model to classifier_full_trained_best.tf\n",
            "INFO:tensorflow:Assets written to: classifier_full_trained_best.tf/assets\n"
          ]
        },
        {
          "name": "stderr",
          "output_type": "stream",
          "text": [
            "INFO:tensorflow:Assets written to: classifier_full_trained_best.tf/assets\n"
          ]
        },
        {
          "name": "stdout",
          "output_type": "stream",
          "text": [
            "7000/7000 [==============================] - 39s 6ms/step - loss: 0.1057 - accuracy: 0.9765 - val_loss: 0.0896 - val_accuracy: 0.9794\n",
            "Epoch 9/500\n",
            "6990/7000 [============================>.] - ETA: 0s - loss: 0.1042 - accuracy: 0.9767\n",
            "Epoch 9: val_accuracy did not improve from 0.97936\n",
            "7000/7000 [==============================] - 38s 5ms/step - loss: 0.1041 - accuracy: 0.9767 - val_loss: 0.0933 - val_accuracy: 0.9786\n",
            "Epoch 10/500\n",
            "7000/7000 [==============================] - ETA: 0s - loss: 0.1027 - accuracy: 0.9771\n",
            "Epoch 10: val_accuracy did not improve from 0.97936\n",
            "7000/7000 [==============================] - 37s 5ms/step - loss: 0.1027 - accuracy: 0.9771 - val_loss: 0.1030 - val_accuracy: 0.9771\n",
            "Epoch 11/500\n",
            "6992/7000 [============================>.] - ETA: 0s - loss: 0.1017 - accuracy: 0.9778\n",
            "Epoch 11: val_accuracy improved from 0.97936 to 0.97962, saving model to classifier_full_trained_best.tf\n",
            "INFO:tensorflow:Assets written to: classifier_full_trained_best.tf/assets\n"
          ]
        },
        {
          "name": "stderr",
          "output_type": "stream",
          "text": [
            "INFO:tensorflow:Assets written to: classifier_full_trained_best.tf/assets\n"
          ]
        },
        {
          "name": "stdout",
          "output_type": "stream",
          "text": [
            "7000/7000 [==============================] - 40s 6ms/step - loss: 0.1017 - accuracy: 0.9778 - val_loss: 0.0897 - val_accuracy: 0.9796\n",
            "Epoch 12/500\n",
            "6997/7000 [============================>.] - ETA: 0s - loss: 0.1013 - accuracy: 0.9776\n",
            "Epoch 12: val_accuracy improved from 0.97962 to 0.98018, saving model to classifier_full_trained_best.tf\n",
            "INFO:tensorflow:Assets written to: classifier_full_trained_best.tf/assets\n"
          ]
        },
        {
          "name": "stderr",
          "output_type": "stream",
          "text": [
            "INFO:tensorflow:Assets written to: classifier_full_trained_best.tf/assets\n"
          ]
        },
        {
          "name": "stdout",
          "output_type": "stream",
          "text": [
            "7000/7000 [==============================] - 44s 6ms/step - loss: 0.1013 - accuracy: 0.9776 - val_loss: 0.0866 - val_accuracy: 0.9802\n",
            "Epoch 13/500\n",
            "6997/7000 [============================>.] - ETA: 0s - loss: 0.0977 - accuracy: 0.9777\n",
            "Epoch 13: val_accuracy did not improve from 0.98018\n",
            "7000/7000 [==============================] - 49s 7ms/step - loss: 0.0976 - accuracy: 0.9777 - val_loss: 0.0898 - val_accuracy: 0.9792\n",
            "Epoch 14/500\n",
            "6998/7000 [============================>.] - ETA: 0s - loss: 0.0997 - accuracy: 0.9775\n",
            "Epoch 14: val_accuracy did not improve from 0.98018\n",
            "7000/7000 [==============================] - 44s 6ms/step - loss: 0.0998 - accuracy: 0.9775 - val_loss: 0.0911 - val_accuracy: 0.9792\n",
            "Epoch 15/500\n",
            "6993/7000 [============================>.] - ETA: 0s - loss: 0.0971 - accuracy: 0.9779\n",
            "Epoch 15: val_accuracy did not improve from 0.98018\n",
            "7000/7000 [==============================] - 43s 6ms/step - loss: 0.0970 - accuracy: 0.9780 - val_loss: 0.0880 - val_accuracy: 0.9797\n",
            "Epoch 16/500\n",
            "6995/7000 [============================>.] - ETA: 0s - loss: 0.0967 - accuracy: 0.9776\n",
            "Epoch 16: val_accuracy did not improve from 0.98018\n",
            "7000/7000 [==============================] - 42s 6ms/step - loss: 0.0967 - accuracy: 0.9776 - val_loss: 0.0928 - val_accuracy: 0.9793\n",
            "Epoch 17/500\n",
            "6992/7000 [============================>.] - ETA: 0s - loss: 0.0949 - accuracy: 0.9782\n",
            "Epoch 17: val_accuracy did not improve from 0.98018\n",
            "7000/7000 [==============================] - 42s 6ms/step - loss: 0.0948 - accuracy: 0.9782 - val_loss: 0.0952 - val_accuracy: 0.9779\n",
            "Epoch 18/500\n",
            "6999/7000 [============================>.] - ETA: 0s - loss: 0.0969 - accuracy: 0.9782\n",
            "Epoch 18: val_accuracy did not improve from 0.98018\n",
            "7000/7000 [==============================] - 41s 6ms/step - loss: 0.0969 - accuracy: 0.9783 - val_loss: 0.0919 - val_accuracy: 0.9797\n",
            "Epoch 19/500\n",
            "6993/7000 [============================>.] - ETA: 0s - loss: 0.0949 - accuracy: 0.9779\n",
            "Epoch 19: val_accuracy improved from 0.98018 to 0.98021, saving model to classifier_full_trained_best.tf\n",
            "INFO:tensorflow:Assets written to: classifier_full_trained_best.tf/assets\n"
          ]
        },
        {
          "name": "stderr",
          "output_type": "stream",
          "text": [
            "INFO:tensorflow:Assets written to: classifier_full_trained_best.tf/assets\n"
          ]
        },
        {
          "name": "stdout",
          "output_type": "stream",
          "text": [
            "7000/7000 [==============================] - 42s 6ms/step - loss: 0.0949 - accuracy: 0.9779 - val_loss: 0.0889 - val_accuracy: 0.9802\n",
            "Epoch 20/500\n",
            "6997/7000 [============================>.] - ETA: 0s - loss: 0.0946 - accuracy: 0.9785\n",
            "Epoch 20: val_accuracy did not improve from 0.98021\n",
            "7000/7000 [==============================] - 41s 6ms/step - loss: 0.0946 - accuracy: 0.9785 - val_loss: 0.0882 - val_accuracy: 0.9800\n",
            "Epoch 21/500\n",
            "6999/7000 [============================>.] - ETA: 0s - loss: 0.0950 - accuracy: 0.9782\n",
            "Epoch 21: val_accuracy did not improve from 0.98021\n",
            "7000/7000 [==============================] - 41s 6ms/step - loss: 0.0950 - accuracy: 0.9783 - val_loss: 0.0820 - val_accuracy: 0.9801\n",
            "Epoch 22/500\n",
            "7000/7000 [==============================] - ETA: 0s - loss: 0.0931 - accuracy: 0.9785\n",
            "Epoch 22: val_accuracy did not improve from 0.98021\n",
            "7000/7000 [==============================] - 40s 6ms/step - loss: 0.0931 - accuracy: 0.9785 - val_loss: 0.0967 - val_accuracy: 0.9787\n",
            "Epoch 23/500\n",
            "6996/7000 [============================>.] - ETA: 0s - loss: 0.0942 - accuracy: 0.9782\n",
            "Epoch 23: val_accuracy did not improve from 0.98021\n",
            "7000/7000 [==============================] - 40s 6ms/step - loss: 0.0941 - accuracy: 0.9782 - val_loss: 0.0943 - val_accuracy: 0.9791\n",
            "Epoch 24/500\n",
            "6995/7000 [============================>.] - ETA: 0s - loss: 0.0925 - accuracy: 0.9784\n",
            "Epoch 24: val_accuracy did not improve from 0.98021\n",
            "7000/7000 [==============================] - 40s 6ms/step - loss: 0.0926 - accuracy: 0.9784 - val_loss: 0.0867 - val_accuracy: 0.9801\n",
            "Epoch 25/500\n",
            "6991/7000 [============================>.] - ETA: 0s - loss: 0.0932 - accuracy: 0.9785\n",
            "Epoch 25: val_accuracy did not improve from 0.98021\n",
            "7000/7000 [==============================] - 41s 6ms/step - loss: 0.0931 - accuracy: 0.9785 - val_loss: 0.1119 - val_accuracy: 0.9772\n",
            "Epoch 26/500\n",
            "6991/7000 [============================>.] - ETA: 0s - loss: 0.0915 - accuracy: 0.9789\n",
            "Epoch 26: val_accuracy did not improve from 0.98021\n",
            "7000/7000 [==============================] - 41s 6ms/step - loss: 0.0915 - accuracy: 0.9789 - val_loss: 0.0855 - val_accuracy: 0.9802\n",
            "Epoch 27/500\n",
            "7000/7000 [==============================] - ETA: 0s - loss: 0.0910 - accuracy: 0.9791\n",
            "Epoch 27: val_accuracy did not improve from 0.98021\n",
            "7000/7000 [==============================] - 40s 6ms/step - loss: 0.0910 - accuracy: 0.9791 - val_loss: 0.0881 - val_accuracy: 0.9802\n",
            "Epoch 28/500\n",
            "6997/7000 [============================>.] - ETA: 0s - loss: 0.0923 - accuracy: 0.9783\n",
            "Epoch 28: val_accuracy improved from 0.98021 to 0.98048, saving model to classifier_full_trained_best.tf\n",
            "INFO:tensorflow:Assets written to: classifier_full_trained_best.tf/assets\n"
          ]
        },
        {
          "name": "stderr",
          "output_type": "stream",
          "text": [
            "INFO:tensorflow:Assets written to: classifier_full_trained_best.tf/assets\n"
          ]
        },
        {
          "name": "stdout",
          "output_type": "stream",
          "text": [
            "7000/7000 [==============================] - 42s 6ms/step - loss: 0.0923 - accuracy: 0.9783 - val_loss: 0.0845 - val_accuracy: 0.9805\n",
            "Epoch 29/500\n",
            "6993/7000 [============================>.] - ETA: 0s - loss: 0.0910 - accuracy: 0.9789\n",
            "Epoch 29: val_accuracy did not improve from 0.98048\n",
            "7000/7000 [==============================] - 40s 6ms/step - loss: 0.0910 - accuracy: 0.9790 - val_loss: 0.0883 - val_accuracy: 0.9804\n",
            "Epoch 30/500\n",
            "7000/7000 [==============================] - ETA: 0s - loss: 0.0901 - accuracy: 0.9792\n",
            "Epoch 30: val_accuracy did not improve from 0.98048\n",
            "7000/7000 [==============================] - 40s 6ms/step - loss: 0.0901 - accuracy: 0.9792 - val_loss: 0.0828 - val_accuracy: 0.9804\n",
            "Epoch 31/500\n",
            "6997/7000 [============================>.] - ETA: 0s - loss: 0.0907 - accuracy: 0.9791\n",
            "Epoch 31: val_accuracy improved from 0.98048 to 0.98088, saving model to classifier_full_trained_best.tf\n",
            "INFO:tensorflow:Assets written to: classifier_full_trained_best.tf/assets\n"
          ]
        },
        {
          "name": "stderr",
          "output_type": "stream",
          "text": [
            "INFO:tensorflow:Assets written to: classifier_full_trained_best.tf/assets\n"
          ]
        },
        {
          "name": "stdout",
          "output_type": "stream",
          "text": [
            "7000/7000 [==============================] - 42s 6ms/step - loss: 0.0906 - accuracy: 0.9791 - val_loss: 0.0824 - val_accuracy: 0.9809\n",
            "Epoch 32/500\n",
            "6993/7000 [============================>.] - ETA: 0s - loss: 0.0897 - accuracy: 0.9794\n",
            "Epoch 32: val_accuracy did not improve from 0.98088\n",
            "7000/7000 [==============================] - 41s 6ms/step - loss: 0.0896 - accuracy: 0.9794 - val_loss: 0.0884 - val_accuracy: 0.9803\n",
            "Epoch 33/500\n",
            "6993/7000 [============================>.] - ETA: 0s - loss: 0.0883 - accuracy: 0.9797\n",
            "Epoch 33: val_accuracy improved from 0.98088 to 0.98095, saving model to classifier_full_trained_best.tf\n",
            "INFO:tensorflow:Assets written to: classifier_full_trained_best.tf/assets\n"
          ]
        },
        {
          "name": "stderr",
          "output_type": "stream",
          "text": [
            "INFO:tensorflow:Assets written to: classifier_full_trained_best.tf/assets\n"
          ]
        },
        {
          "name": "stdout",
          "output_type": "stream",
          "text": [
            "7000/7000 [==============================] - 42s 6ms/step - loss: 0.0883 - accuracy: 0.9797 - val_loss: 0.0836 - val_accuracy: 0.9809\n",
            "Epoch 34/500\n",
            "6991/7000 [============================>.] - ETA: 0s - loss: 0.0884 - accuracy: 0.9796\n",
            "Epoch 34: val_accuracy did not improve from 0.98095\n",
            "7000/7000 [==============================] - 40s 6ms/step - loss: 0.0884 - accuracy: 0.9796 - val_loss: 0.0830 - val_accuracy: 0.9805\n",
            "Epoch 35/500\n",
            "6992/7000 [============================>.] - ETA: 0s - loss: 0.0889 - accuracy: 0.9788\n",
            "Epoch 35: val_accuracy did not improve from 0.98095\n",
            "7000/7000 [==============================] - 41s 6ms/step - loss: 0.0888 - accuracy: 0.9788 - val_loss: 0.0887 - val_accuracy: 0.9802\n",
            "Epoch 36/500\n",
            "6997/7000 [============================>.] - ETA: 0s - loss: 0.0892 - accuracy: 0.9788\n",
            "Epoch 36: val_accuracy did not improve from 0.98095\n",
            "7000/7000 [==============================] - 38s 5ms/step - loss: 0.0891 - accuracy: 0.9789 - val_loss: 0.0802 - val_accuracy: 0.9807\n",
            "Epoch 37/500\n",
            "7000/7000 [==============================] - ETA: 0s - loss: 0.0882 - accuracy: 0.9795\n",
            "Epoch 37: val_accuracy did not improve from 0.98095\n",
            "7000/7000 [==============================] - 39s 6ms/step - loss: 0.0882 - accuracy: 0.9795 - val_loss: 0.0816 - val_accuracy: 0.9808\n",
            "Epoch 38/500\n",
            "6991/7000 [============================>.] - ETA: 0s - loss: 0.0878 - accuracy: 0.9789\n",
            "Epoch 38: val_accuracy did not improve from 0.98095\n",
            "7000/7000 [==============================] - 40s 6ms/step - loss: 0.0878 - accuracy: 0.9790 - val_loss: 0.0818 - val_accuracy: 0.9806\n",
            "Epoch 39/500\n",
            "6998/7000 [============================>.] - ETA: 0s - loss: 0.0887 - accuracy: 0.9792\n",
            "Epoch 39: val_accuracy did not improve from 0.98095\n",
            "7000/7000 [==============================] - 39s 6ms/step - loss: 0.0887 - accuracy: 0.9792 - val_loss: 0.0806 - val_accuracy: 0.9807\n",
            "Epoch 40/500\n",
            "6998/7000 [============================>.] - ETA: 0s - loss: 0.0874 - accuracy: 0.9796\n",
            "Epoch 40: val_accuracy did not improve from 0.98095\n",
            "7000/7000 [==============================] - 39s 6ms/step - loss: 0.0873 - accuracy: 0.9796 - val_loss: 0.0854 - val_accuracy: 0.9805\n",
            "Epoch 41/500\n",
            "6997/7000 [============================>.] - ETA: 0s - loss: 0.0873 - accuracy: 0.9794\n",
            "Epoch 41: val_accuracy improved from 0.98095 to 0.98121, saving model to classifier_full_trained_best.tf\n",
            "INFO:tensorflow:Assets written to: classifier_full_trained_best.tf/assets\n"
          ]
        },
        {
          "name": "stderr",
          "output_type": "stream",
          "text": [
            "INFO:tensorflow:Assets written to: classifier_full_trained_best.tf/assets\n"
          ]
        },
        {
          "name": "stdout",
          "output_type": "stream",
          "text": [
            "7000/7000 [==============================] - 40s 6ms/step - loss: 0.0874 - accuracy: 0.9793 - val_loss: 0.0857 - val_accuracy: 0.9812\n",
            "Epoch 42/500\n",
            "6997/7000 [============================>.] - ETA: 0s - loss: 0.0883 - accuracy: 0.9792\n",
            "Epoch 42: val_accuracy did not improve from 0.98121\n",
            "7000/7000 [==============================] - 38s 5ms/step - loss: 0.0884 - accuracy: 0.9792 - val_loss: 0.0876 - val_accuracy: 0.9808\n",
            "Epoch 43/500\n",
            "7000/7000 [==============================] - ETA: 0s - loss: 0.0878 - accuracy: 0.9794\n",
            "Epoch 43: val_accuracy did not improve from 0.98121\n",
            "7000/7000 [==============================] - 39s 6ms/step - loss: 0.0878 - accuracy: 0.9794 - val_loss: 0.0797 - val_accuracy: 0.9807\n",
            "Epoch 44/500\n",
            "6990/7000 [============================>.] - ETA: 0s - loss: 0.0862 - accuracy: 0.9800\n",
            "Epoch 44: val_accuracy did not improve from 0.98121\n",
            "7000/7000 [==============================] - 38s 5ms/step - loss: 0.0862 - accuracy: 0.9800 - val_loss: 0.0800 - val_accuracy: 0.9808\n",
            "Epoch 45/500\n",
            "6998/7000 [============================>.] - ETA: 0s - loss: 0.0867 - accuracy: 0.9797\n",
            "Epoch 45: val_accuracy did not improve from 0.98121\n",
            "7000/7000 [==============================] - 38s 5ms/step - loss: 0.0867 - accuracy: 0.9797 - val_loss: 0.0844 - val_accuracy: 0.9805\n",
            "Epoch 46/500\n",
            "6993/7000 [============================>.] - ETA: 0s - loss: 0.0865 - accuracy: 0.9796\n",
            "Epoch 46: val_accuracy did not improve from 0.98121\n",
            "7000/7000 [==============================] - 38s 5ms/step - loss: 0.0865 - accuracy: 0.9796 - val_loss: 0.0816 - val_accuracy: 0.9806\n",
            "Epoch 47/500\n",
            "6994/7000 [============================>.] - ETA: 0s - loss: 0.0862 - accuracy: 0.9794\n",
            "Epoch 47: val_accuracy improved from 0.98121 to 0.98129, saving model to classifier_full_trained_best.tf\n",
            "INFO:tensorflow:Assets written to: classifier_full_trained_best.tf/assets\n"
          ]
        },
        {
          "name": "stderr",
          "output_type": "stream",
          "text": [
            "INFO:tensorflow:Assets written to: classifier_full_trained_best.tf/assets\n"
          ]
        },
        {
          "name": "stdout",
          "output_type": "stream",
          "text": [
            "7000/7000 [==============================] - 40s 6ms/step - loss: 0.0861 - accuracy: 0.9794 - val_loss: 0.0893 - val_accuracy: 0.9813\n",
            "Epoch 48/500\n",
            "6991/7000 [============================>.] - ETA: 0s - loss: 0.0862 - accuracy: 0.9797\n",
            "Epoch 48: val_accuracy improved from 0.98129 to 0.98141, saving model to classifier_full_trained_best.tf\n",
            "INFO:tensorflow:Assets written to: classifier_full_trained_best.tf/assets\n"
          ]
        },
        {
          "name": "stderr",
          "output_type": "stream",
          "text": [
            "INFO:tensorflow:Assets written to: classifier_full_trained_best.tf/assets\n"
          ]
        },
        {
          "name": "stdout",
          "output_type": "stream",
          "text": [
            "7000/7000 [==============================] - 40s 6ms/step - loss: 0.0863 - accuracy: 0.9797 - val_loss: 0.0807 - val_accuracy: 0.9814\n",
            "Epoch 49/500\n",
            "6994/7000 [============================>.] - ETA: 0s - loss: 0.0870 - accuracy: 0.9796\n",
            "Epoch 49: val_accuracy did not improve from 0.98141\n",
            "7000/7000 [==============================] - 38s 5ms/step - loss: 0.0869 - accuracy: 0.9796 - val_loss: 0.0867 - val_accuracy: 0.9808\n",
            "Epoch 50/500\n",
            "6998/7000 [============================>.] - ETA: 0s - loss: 0.0859 - accuracy: 0.9798\n",
            "Epoch 50: val_accuracy did not improve from 0.98141\n",
            "7000/7000 [==============================] - 39s 5ms/step - loss: 0.0859 - accuracy: 0.9798 - val_loss: 0.0798 - val_accuracy: 0.9813\n",
            "Epoch 51/500\n",
            "6997/7000 [============================>.] - ETA: 0s - loss: 0.0850 - accuracy: 0.9796\n",
            "Epoch 51: val_accuracy did not improve from 0.98141\n",
            "7000/7000 [==============================] - 39s 6ms/step - loss: 0.0850 - accuracy: 0.9796 - val_loss: 0.0839 - val_accuracy: 0.9807\n",
            "Epoch 52/500\n",
            "6991/7000 [============================>.] - ETA: 0s - loss: 0.0861 - accuracy: 0.9795\n",
            "Epoch 52: val_accuracy did not improve from 0.98141\n",
            "7000/7000 [==============================] - 38s 5ms/step - loss: 0.0861 - accuracy: 0.9795 - val_loss: 0.0851 - val_accuracy: 0.9810\n",
            "Epoch 53/500\n",
            "6994/7000 [============================>.] - ETA: 0s - loss: 0.0867 - accuracy: 0.9791\n",
            "Epoch 53: val_accuracy did not improve from 0.98141\n",
            "7000/7000 [==============================] - 38s 5ms/step - loss: 0.0867 - accuracy: 0.9791 - val_loss: 0.0788 - val_accuracy: 0.9812\n",
            "Epoch 54/500\n",
            "7000/7000 [==============================] - ETA: 0s - loss: 0.0860 - accuracy: 0.9793\n",
            "Epoch 54: val_accuracy did not improve from 0.98141\n",
            "7000/7000 [==============================] - 39s 5ms/step - loss: 0.0860 - accuracy: 0.9793 - val_loss: 0.0759 - val_accuracy: 0.9808\n",
            "Epoch 55/500\n",
            "6997/7000 [============================>.] - ETA: 0s - loss: 0.0850 - accuracy: 0.9795\n",
            "Epoch 55: val_accuracy improved from 0.98141 to 0.98152, saving model to classifier_full_trained_best.tf\n",
            "INFO:tensorflow:Assets written to: classifier_full_trained_best.tf/assets\n"
          ]
        },
        {
          "name": "stderr",
          "output_type": "stream",
          "text": [
            "INFO:tensorflow:Assets written to: classifier_full_trained_best.tf/assets\n"
          ]
        },
        {
          "name": "stdout",
          "output_type": "stream",
          "text": [
            "7000/7000 [==============================] - 40s 6ms/step - loss: 0.0850 - accuracy: 0.9795 - val_loss: 0.0781 - val_accuracy: 0.9815\n",
            "Epoch 56/500\n",
            "6997/7000 [============================>.] - ETA: 0s - loss: 0.0855 - accuracy: 0.9795\n",
            "Epoch 56: val_accuracy did not improve from 0.98152\n",
            "7000/7000 [==============================] - 38s 5ms/step - loss: 0.0855 - accuracy: 0.9796 - val_loss: 0.0778 - val_accuracy: 0.9814\n",
            "Epoch 57/500\n",
            "6994/7000 [============================>.] - ETA: 0s - loss: 0.0853 - accuracy: 0.9797\n",
            "Epoch 57: val_accuracy did not improve from 0.98152\n",
            "7000/7000 [==============================] - 38s 5ms/step - loss: 0.0852 - accuracy: 0.9797 - val_loss: 0.0853 - val_accuracy: 0.9814\n",
            "Epoch 58/500\n",
            "6995/7000 [============================>.] - ETA: 0s - loss: 0.0853 - accuracy: 0.9796\n",
            "Epoch 58: val_accuracy did not improve from 0.98152\n",
            "7000/7000 [==============================] - 38s 5ms/step - loss: 0.0852 - accuracy: 0.9797 - val_loss: 0.0749 - val_accuracy: 0.9812\n",
            "Epoch 59/500\n",
            "6991/7000 [============================>.] - ETA: 0s - loss: 0.0852 - accuracy: 0.9797\n",
            "Epoch 59: val_accuracy did not improve from 0.98152\n",
            "7000/7000 [==============================] - 38s 5ms/step - loss: 0.0853 - accuracy: 0.9796 - val_loss: 0.0846 - val_accuracy: 0.9810\n",
            "Epoch 60/500\n",
            "7000/7000 [==============================] - ETA: 0s - loss: 0.0855 - accuracy: 0.9797\n",
            "Epoch 60: val_accuracy did not improve from 0.98152\n",
            "7000/7000 [==============================] - 38s 5ms/step - loss: 0.0855 - accuracy: 0.9797 - val_loss: 0.0834 - val_accuracy: 0.9809\n",
            "Epoch 61/500\n",
            "6991/7000 [============================>.] - ETA: 0s - loss: 0.0842 - accuracy: 0.9798\n",
            "Epoch 61: val_accuracy did not improve from 0.98152\n",
            "7000/7000 [==============================] - 38s 5ms/step - loss: 0.0843 - accuracy: 0.9798 - val_loss: 0.0882 - val_accuracy: 0.9809\n",
            "Epoch 62/500\n",
            "6990/7000 [============================>.] - ETA: 0s - loss: 0.0844 - accuracy: 0.9793\n",
            "Epoch 62: val_accuracy did not improve from 0.98152\n",
            "7000/7000 [==============================] - 39s 6ms/step - loss: 0.0846 - accuracy: 0.9793 - val_loss: 0.0810 - val_accuracy: 0.9811\n",
            "Epoch 63/500\n",
            "6995/7000 [============================>.] - ETA: 0s - loss: 0.0852 - accuracy: 0.9797\n",
            "Epoch 63: val_accuracy did not improve from 0.98152\n",
            "7000/7000 [==============================] - 38s 5ms/step - loss: 0.0852 - accuracy: 0.9797 - val_loss: 0.0786 - val_accuracy: 0.9809\n",
            "Epoch 64/500\n",
            "6994/7000 [============================>.] - ETA: 0s - loss: 0.0843 - accuracy: 0.9805\n",
            "Epoch 64: val_accuracy did not improve from 0.98152\n",
            "7000/7000 [==============================] - 38s 5ms/step - loss: 0.0843 - accuracy: 0.9805 - val_loss: 0.0785 - val_accuracy: 0.9809\n",
            "Epoch 65/500\n",
            "6998/7000 [============================>.] - ETA: 0s - loss: 0.0841 - accuracy: 0.9799\n",
            "Epoch 65: val_accuracy did not improve from 0.98152\n",
            "7000/7000 [==============================] - 38s 5ms/step - loss: 0.0841 - accuracy: 0.9799 - val_loss: 0.0834 - val_accuracy: 0.9790\n",
            "Epoch 66/500\n",
            "6992/7000 [============================>.] - ETA: 0s - loss: 0.0840 - accuracy: 0.9800\n",
            "Epoch 66: val_accuracy did not improve from 0.98152\n",
            "7000/7000 [==============================] - 38s 5ms/step - loss: 0.0839 - accuracy: 0.9800 - val_loss: 0.0778 - val_accuracy: 0.9814\n",
            "Epoch 67/500\n",
            "6998/7000 [============================>.] - ETA: 0s - loss: 0.0844 - accuracy: 0.9802\n",
            "Epoch 67: val_accuracy did not improve from 0.98152\n",
            "7000/7000 [==============================] - 39s 5ms/step - loss: 0.0844 - accuracy: 0.9802 - val_loss: 0.0815 - val_accuracy: 0.9805\n",
            "Epoch 68/500\n",
            "6993/7000 [============================>.] - ETA: 0s - loss: 0.0833 - accuracy: 0.9801\n",
            "Epoch 68: val_accuracy did not improve from 0.98152\n",
            "7000/7000 [==============================] - 37s 5ms/step - loss: 0.0835 - accuracy: 0.9801 - val_loss: 0.0774 - val_accuracy: 0.9814\n",
            "Epoch 69/500\n",
            "6992/7000 [============================>.] - ETA: 0s - loss: 0.0846 - accuracy: 0.9796\n",
            "Epoch 69: val_accuracy did not improve from 0.98152\n",
            "7000/7000 [==============================] - 38s 5ms/step - loss: 0.0845 - accuracy: 0.9796 - val_loss: 0.0824 - val_accuracy: 0.9813\n",
            "Epoch 70/500\n",
            "6997/7000 [============================>.] - ETA: 0s - loss: 0.0835 - accuracy: 0.9801\n",
            "Epoch 70: val_accuracy did not improve from 0.98152\n",
            "7000/7000 [==============================] - 38s 5ms/step - loss: 0.0834 - accuracy: 0.9801 - val_loss: 0.0836 - val_accuracy: 0.9813\n",
            "Epoch 71/500\n",
            "6998/7000 [============================>.] - ETA: 0s - loss: 0.0849 - accuracy: 0.9801\n",
            "Epoch 71: val_accuracy did not improve from 0.98152\n",
            "7000/7000 [==============================] - 38s 5ms/step - loss: 0.0849 - accuracy: 0.9801 - val_loss: 0.0760 - val_accuracy: 0.9813\n",
            "Epoch 72/500\n",
            "6994/7000 [============================>.] - ETA: 0s - loss: 0.0839 - accuracy: 0.9800\n",
            "Epoch 72: val_accuracy improved from 0.98152 to 0.98166, saving model to classifier_full_trained_best.tf\n",
            "INFO:tensorflow:Assets written to: classifier_full_trained_best.tf/assets\n"
          ]
        },
        {
          "name": "stderr",
          "output_type": "stream",
          "text": [
            "INFO:tensorflow:Assets written to: classifier_full_trained_best.tf/assets\n"
          ]
        },
        {
          "name": "stdout",
          "output_type": "stream",
          "text": [
            "7000/7000 [==============================] - 40s 6ms/step - loss: 0.0839 - accuracy: 0.9800 - val_loss: 0.0760 - val_accuracy: 0.9817\n",
            "Epoch 73/500\n",
            "6994/7000 [============================>.] - ETA: 0s - loss: 0.0853 - accuracy: 0.9800\n",
            "Epoch 73: val_accuracy did not improve from 0.98166\n",
            "7000/7000 [==============================] - 38s 5ms/step - loss: 0.0852 - accuracy: 0.9800 - val_loss: 0.0815 - val_accuracy: 0.9808\n",
            "Epoch 74/500\n",
            "6991/7000 [============================>.] - ETA: 0s - loss: 0.0838 - accuracy: 0.9796\n",
            "Epoch 74: val_accuracy did not improve from 0.98166\n",
            "7000/7000 [==============================] - 38s 5ms/step - loss: 0.0838 - accuracy: 0.9796 - val_loss: 0.0809 - val_accuracy: 0.9816\n",
            "Epoch 75/500\n",
            "6997/7000 [============================>.] - ETA: 0s - loss: 0.0835 - accuracy: 0.9798\n",
            "Epoch 75: val_accuracy improved from 0.98166 to 0.98173, saving model to classifier_full_trained_best.tf\n",
            "INFO:tensorflow:Assets written to: classifier_full_trained_best.tf/assets\n"
          ]
        },
        {
          "name": "stderr",
          "output_type": "stream",
          "text": [
            "INFO:tensorflow:Assets written to: classifier_full_trained_best.tf/assets\n"
          ]
        },
        {
          "name": "stdout",
          "output_type": "stream",
          "text": [
            "7000/7000 [==============================] - 40s 6ms/step - loss: 0.0835 - accuracy: 0.9798 - val_loss: 0.0780 - val_accuracy: 0.9817\n",
            "Epoch 76/500\n",
            "6991/7000 [============================>.] - ETA: 0s - loss: 0.0832 - accuracy: 0.9799\n",
            "Epoch 76: val_accuracy did not improve from 0.98173\n",
            "7000/7000 [==============================] - 38s 5ms/step - loss: 0.0832 - accuracy: 0.9799 - val_loss: 0.0787 - val_accuracy: 0.9814\n",
            "Epoch 77/500\n",
            "6996/7000 [============================>.] - ETA: 0s - loss: 0.0841 - accuracy: 0.9798\n",
            "Epoch 77: val_accuracy did not improve from 0.98173\n",
            "7000/7000 [==============================] - 38s 5ms/step - loss: 0.0841 - accuracy: 0.9798 - val_loss: 0.0764 - val_accuracy: 0.9816\n",
            "Epoch 78/500\n",
            "6992/7000 [============================>.] - ETA: 0s - loss: 0.0830 - accuracy: 0.9800\n",
            "Epoch 78: val_accuracy did not improve from 0.98173\n",
            "7000/7000 [==============================] - 39s 6ms/step - loss: 0.0829 - accuracy: 0.9800 - val_loss: 0.0834 - val_accuracy: 0.9814\n",
            "Epoch 79/500\n",
            "6994/7000 [============================>.] - ETA: 0s - loss: 0.0830 - accuracy: 0.9799\n",
            "Epoch 79: val_accuracy did not improve from 0.98173\n",
            "7000/7000 [==============================] - 38s 5ms/step - loss: 0.0831 - accuracy: 0.9799 - val_loss: 0.0797 - val_accuracy: 0.9809\n",
            "Epoch 80/500\n",
            "6994/7000 [============================>.] - ETA: 0s - loss: 0.0841 - accuracy: 0.9797\n",
            "Epoch 80: val_accuracy did not improve from 0.98173\n",
            "7000/7000 [==============================] - 38s 5ms/step - loss: 0.0841 - accuracy: 0.9797 - val_loss: 0.0812 - val_accuracy: 0.9816\n",
            "Epoch 81/500\n",
            "6990/7000 [============================>.] - ETA: 0s - loss: 0.0837 - accuracy: 0.9800\n",
            "Epoch 81: val_accuracy did not improve from 0.98173\n",
            "7000/7000 [==============================] - 38s 5ms/step - loss: 0.0837 - accuracy: 0.9800 - val_loss: 0.0843 - val_accuracy: 0.9810\n",
            "Epoch 82/500\n",
            "6997/7000 [============================>.] - ETA: 0s - loss: 0.0819 - accuracy: 0.9803\n",
            "Epoch 82: val_accuracy did not improve from 0.98173\n",
            "7000/7000 [==============================] - 39s 5ms/step - loss: 0.0819 - accuracy: 0.9803 - val_loss: 0.0748 - val_accuracy: 0.9815\n",
            "Epoch 83/500\n",
            "6999/7000 [============================>.] - ETA: 0s - loss: 0.0838 - accuracy: 0.9796\n",
            "Epoch 83: val_accuracy improved from 0.98173 to 0.98179, saving model to classifier_full_trained_best.tf\n",
            "INFO:tensorflow:Assets written to: classifier_full_trained_best.tf/assets\n"
          ]
        },
        {
          "name": "stderr",
          "output_type": "stream",
          "text": [
            "INFO:tensorflow:Assets written to: classifier_full_trained_best.tf/assets\n"
          ]
        },
        {
          "name": "stdout",
          "output_type": "stream",
          "text": [
            "7000/7000 [==============================] - 41s 6ms/step - loss: 0.0838 - accuracy: 0.9796 - val_loss: 0.0781 - val_accuracy: 0.9818\n",
            "Epoch 84/500\n",
            "6996/7000 [============================>.] - ETA: 0s - loss: 0.0818 - accuracy: 0.9798\n",
            "Epoch 84: val_accuracy did not improve from 0.98179\n",
            "7000/7000 [==============================] - 38s 5ms/step - loss: 0.0818 - accuracy: 0.9798 - val_loss: 0.0807 - val_accuracy: 0.9809\n",
            "Epoch 85/500\n",
            "7000/7000 [==============================] - ETA: 0s - loss: 0.0827 - accuracy: 0.9800\n",
            "Epoch 85: val_accuracy did not improve from 0.98179\n",
            "7000/7000 [==============================] - 38s 5ms/step - loss: 0.0827 - accuracy: 0.9800 - val_loss: 0.0776 - val_accuracy: 0.9814\n",
            "Epoch 86/500\n",
            "6992/7000 [============================>.] - ETA: 0s - loss: 0.0823 - accuracy: 0.9803\n",
            "Epoch 86: val_accuracy did not improve from 0.98179\n",
            "7000/7000 [==============================] - 38s 5ms/step - loss: 0.0822 - accuracy: 0.9804 - val_loss: 0.0780 - val_accuracy: 0.9811\n",
            "Epoch 87/500\n",
            "6990/7000 [============================>.] - ETA: 0s - loss: 0.0826 - accuracy: 0.9800\n",
            "Epoch 87: val_accuracy did not improve from 0.98179\n",
            "7000/7000 [==============================] - 38s 5ms/step - loss: 0.0825 - accuracy: 0.9800 - val_loss: 0.0850 - val_accuracy: 0.9807\n",
            "Epoch 88/500\n",
            "6998/7000 [============================>.] - ETA: 0s - loss: 0.0828 - accuracy: 0.9803\n",
            "Epoch 88: val_accuracy did not improve from 0.98179\n",
            "7000/7000 [==============================] - 38s 5ms/step - loss: 0.0828 - accuracy: 0.9803 - val_loss: 0.0795 - val_accuracy: 0.9814\n",
            "Epoch 89/500\n",
            "6992/7000 [============================>.] - ETA: 0s - loss: 0.0829 - accuracy: 0.9804\n",
            "Epoch 89: val_accuracy improved from 0.98179 to 0.98188, saving model to classifier_full_trained_best.tf\n",
            "INFO:tensorflow:Assets written to: classifier_full_trained_best.tf/assets\n"
          ]
        },
        {
          "name": "stderr",
          "output_type": "stream",
          "text": [
            "INFO:tensorflow:Assets written to: classifier_full_trained_best.tf/assets\n"
          ]
        },
        {
          "name": "stdout",
          "output_type": "stream",
          "text": [
            "7000/7000 [==============================] - 40s 6ms/step - loss: 0.0831 - accuracy: 0.9803 - val_loss: 0.0766 - val_accuracy: 0.9819\n",
            "Epoch 90/500\n",
            "6999/7000 [============================>.] - ETA: 0s - loss: 0.0826 - accuracy: 0.9803\n",
            "Epoch 90: val_accuracy did not improve from 0.98188\n",
            "7000/7000 [==============================] - 38s 5ms/step - loss: 0.0826 - accuracy: 0.9803 - val_loss: 0.0768 - val_accuracy: 0.9815\n",
            "Epoch 91/500\n",
            "6993/7000 [============================>.] - ETA: 0s - loss: 0.0827 - accuracy: 0.9801\n",
            "Epoch 91: val_accuracy did not improve from 0.98188\n",
            "7000/7000 [==============================] - 39s 6ms/step - loss: 0.0827 - accuracy: 0.9800 - val_loss: 0.0767 - val_accuracy: 0.9816\n",
            "Epoch 92/500\n",
            "6994/7000 [============================>.] - ETA: 0s - loss: 0.0818 - accuracy: 0.9802\n",
            "Epoch 92: val_accuracy did not improve from 0.98188\n",
            "7000/7000 [==============================] - 38s 5ms/step - loss: 0.0818 - accuracy: 0.9802 - val_loss: 0.0827 - val_accuracy: 0.9813\n",
            "Epoch 93/500\n",
            "6998/7000 [============================>.] - ETA: 0s - loss: 0.0829 - accuracy: 0.9802\n",
            "Epoch 93: val_accuracy did not improve from 0.98188\n",
            "7000/7000 [==============================] - 39s 6ms/step - loss: 0.0829 - accuracy: 0.9802 - val_loss: 0.0773 - val_accuracy: 0.9815\n",
            "Epoch 94/500\n",
            "6991/7000 [============================>.] - ETA: 0s - loss: 0.0817 - accuracy: 0.9802\n",
            "Epoch 94: val_accuracy did not improve from 0.98188\n",
            "7000/7000 [==============================] - 38s 5ms/step - loss: 0.0816 - accuracy: 0.9803 - val_loss: 0.0775 - val_accuracy: 0.9816\n",
            "Epoch 95/500\n",
            "6993/7000 [============================>.] - ETA: 0s - loss: 0.0813 - accuracy: 0.9803\n",
            "Epoch 95: val_accuracy did not improve from 0.98188\n",
            "7000/7000 [==============================] - 38s 5ms/step - loss: 0.0813 - accuracy: 0.9803 - val_loss: 0.0776 - val_accuracy: 0.9818\n",
            "Epoch 96/500\n",
            "6999/7000 [============================>.] - ETA: 0s - loss: 0.0814 - accuracy: 0.9805\n",
            "Epoch 96: val_accuracy did not improve from 0.98188\n",
            "7000/7000 [==============================] - 38s 5ms/step - loss: 0.0814 - accuracy: 0.9805 - val_loss: 0.0801 - val_accuracy: 0.9813\n",
            "Epoch 97/500\n",
            "6997/7000 [============================>.] - ETA: 0s - loss: 0.0824 - accuracy: 0.9806\n",
            "Epoch 97: val_accuracy did not improve from 0.98188\n",
            "7000/7000 [==============================] - 38s 5ms/step - loss: 0.0823 - accuracy: 0.9806 - val_loss: 0.0759 - val_accuracy: 0.9816\n",
            "Epoch 98/500\n",
            "6995/7000 [============================>.] - ETA: 0s - loss: 0.0829 - accuracy: 0.9802\n",
            "Epoch 98: val_accuracy did not improve from 0.98188\n",
            "7000/7000 [==============================] - 38s 5ms/step - loss: 0.0829 - accuracy: 0.9802 - val_loss: 0.0799 - val_accuracy: 0.9812\n",
            "Epoch 99/500\n",
            "6997/7000 [============================>.] - ETA: 0s - loss: 0.0810 - accuracy: 0.9808\n",
            "Epoch 99: val_accuracy did not improve from 0.98188\n",
            "7000/7000 [==============================] - 39s 6ms/step - loss: 0.0810 - accuracy: 0.9808 - val_loss: 0.0774 - val_accuracy: 0.9814\n",
            "Epoch 100/500\n",
            "6998/7000 [============================>.] - ETA: 0s - loss: 0.0811 - accuracy: 0.9805\n",
            "Epoch 100: val_accuracy did not improve from 0.98188\n",
            "7000/7000 [==============================] - 38s 5ms/step - loss: 0.0811 - accuracy: 0.9805 - val_loss: 0.0794 - val_accuracy: 0.9815\n",
            "Epoch 101/500\n",
            "6991/7000 [============================>.] - ETA: 0s - loss: 0.0814 - accuracy: 0.9808\n",
            "Epoch 101: val_accuracy did not improve from 0.98188\n",
            "7000/7000 [==============================] - 38s 5ms/step - loss: 0.0814 - accuracy: 0.9808 - val_loss: 0.1441 - val_accuracy: 0.9630\n",
            "Epoch 102/500\n",
            "6995/7000 [============================>.] - ETA: 0s - loss: 0.0837 - accuracy: 0.9802\n",
            "Epoch 102: val_accuracy did not improve from 0.98188\n",
            "7000/7000 [==============================] - 38s 5ms/step - loss: 0.0836 - accuracy: 0.9802 - val_loss: 0.0758 - val_accuracy: 0.9817\n",
            "Epoch 103/500\n",
            "6994/7000 [============================>.] - ETA: 0s - loss: 0.0816 - accuracy: 0.9801\n",
            "Epoch 103: val_accuracy did not improve from 0.98188\n",
            "7000/7000 [==============================] - 38s 5ms/step - loss: 0.0815 - accuracy: 0.9802 - val_loss: 0.0727 - val_accuracy: 0.9819\n",
            "Epoch 104/500\n",
            "6993/7000 [============================>.] - ETA: 0s - loss: 0.0814 - accuracy: 0.9807\n",
            "Epoch 104: val_accuracy did not improve from 0.98188\n",
            "7000/7000 [==============================] - 39s 5ms/step - loss: 0.0813 - accuracy: 0.9807 - val_loss: 0.0829 - val_accuracy: 0.9807\n",
            "Epoch 105/500\n",
            "6995/7000 [============================>.] - ETA: 0s - loss: 0.0815 - accuracy: 0.9805\n",
            "Epoch 105: val_accuracy did not improve from 0.98188\n",
            "7000/7000 [==============================] - 38s 5ms/step - loss: 0.0815 - accuracy: 0.9805 - val_loss: 0.0850 - val_accuracy: 0.9814\n",
            "Epoch 106/500\n",
            "6999/7000 [============================>.] - ETA: 0s - loss: 0.0829 - accuracy: 0.9800\n",
            "Epoch 106: val_accuracy did not improve from 0.98188\n",
            "7000/7000 [==============================] - 39s 6ms/step - loss: 0.0829 - accuracy: 0.9800 - val_loss: 0.0797 - val_accuracy: 0.9816\n",
            "Epoch 107/500\n",
            "6994/7000 [============================>.] - ETA: 0s - loss: 0.0820 - accuracy: 0.9797\n",
            "Epoch 107: val_accuracy did not improve from 0.98188\n",
            "7000/7000 [==============================] - 38s 5ms/step - loss: 0.0819 - accuracy: 0.9797 - val_loss: 0.0744 - val_accuracy: 0.9819\n",
            "Epoch 108/500\n",
            "6995/7000 [============================>.] - ETA: 0s - loss: 0.0819 - accuracy: 0.9802\n",
            "Epoch 108: val_accuracy improved from 0.98188 to 0.98196, saving model to classifier_full_trained_best.tf\n",
            "INFO:tensorflow:Assets written to: classifier_full_trained_best.tf/assets\n"
          ]
        },
        {
          "name": "stderr",
          "output_type": "stream",
          "text": [
            "INFO:tensorflow:Assets written to: classifier_full_trained_best.tf/assets\n"
          ]
        },
        {
          "name": "stdout",
          "output_type": "stream",
          "text": [
            "7000/7000 [==============================] - 40s 6ms/step - loss: 0.0820 - accuracy: 0.9802 - val_loss: 0.0766 - val_accuracy: 0.9820\n",
            "Epoch 109/500\n",
            "6990/7000 [============================>.] - ETA: 0s - loss: 0.0817 - accuracy: 0.9805\n",
            "Epoch 109: val_accuracy did not improve from 0.98196\n",
            "7000/7000 [==============================] - 38s 5ms/step - loss: 0.0818 - accuracy: 0.9805 - val_loss: 0.0792 - val_accuracy: 0.9814\n",
            "Epoch 110/500\n",
            "6993/7000 [============================>.] - ETA: 0s - loss: 0.0808 - accuracy: 0.9807\n",
            "Epoch 110: val_accuracy improved from 0.98196 to 0.98202, saving model to classifier_full_trained_best.tf\n",
            "INFO:tensorflow:Assets written to: classifier_full_trained_best.tf/assets\n"
          ]
        },
        {
          "name": "stderr",
          "output_type": "stream",
          "text": [
            "INFO:tensorflow:Assets written to: classifier_full_trained_best.tf/assets\n"
          ]
        },
        {
          "name": "stdout",
          "output_type": "stream",
          "text": [
            "7000/7000 [==============================] - 39s 6ms/step - loss: 0.0808 - accuracy: 0.9808 - val_loss: 0.0761 - val_accuracy: 0.9820\n",
            "Epoch 111/500\n",
            "7000/7000 [==============================] - ETA: 0s - loss: 0.0820 - accuracy: 0.9804\n",
            "Epoch 111: val_accuracy did not improve from 0.98202\n",
            "7000/7000 [==============================] - 38s 5ms/step - loss: 0.0820 - accuracy: 0.9804 - val_loss: 0.0767 - val_accuracy: 0.9817\n",
            "Epoch 112/500\n",
            "6995/7000 [============================>.] - ETA: 0s - loss: 0.0817 - accuracy: 0.9804\n",
            "Epoch 112: val_accuracy did not improve from 0.98202\n",
            "7000/7000 [==============================] - 38s 5ms/step - loss: 0.0817 - accuracy: 0.9804 - val_loss: 0.0810 - val_accuracy: 0.9816\n",
            "Epoch 113/500\n",
            "6999/7000 [============================>.] - ETA: 0s - loss: 0.0803 - accuracy: 0.9806\n",
            "Epoch 113: val_accuracy did not improve from 0.98202\n",
            "7000/7000 [==============================] - 38s 5ms/step - loss: 0.0802 - accuracy: 0.9806 - val_loss: 0.0863 - val_accuracy: 0.9811\n",
            "Epoch 114/500\n",
            "6991/7000 [============================>.] - ETA: 0s - loss: 0.0803 - accuracy: 0.9802\n",
            "Epoch 114: val_accuracy did not improve from 0.98202\n",
            "7000/7000 [==============================] - 38s 5ms/step - loss: 0.0804 - accuracy: 0.9801 - val_loss: 0.0801 - val_accuracy: 0.9813\n",
            "Epoch 115/500\n",
            "6996/7000 [============================>.] - ETA: 0s - loss: 0.0809 - accuracy: 0.9801\n",
            "Epoch 115: val_accuracy did not improve from 0.98202\n",
            "7000/7000 [==============================] - 39s 6ms/step - loss: 0.0809 - accuracy: 0.9801 - val_loss: 0.0764 - val_accuracy: 0.9820\n",
            "Epoch 116/500\n",
            "6996/7000 [============================>.] - ETA: 0s - loss: 0.0813 - accuracy: 0.9797\n",
            "Epoch 116: val_accuracy did not improve from 0.98202\n",
            "7000/7000 [==============================] - 38s 5ms/step - loss: 0.0814 - accuracy: 0.9797 - val_loss: 0.0730 - val_accuracy: 0.9814\n",
            "Epoch 117/500\n",
            "6996/7000 [============================>.] - ETA: 0s - loss: 0.0815 - accuracy: 0.9797\n",
            "Epoch 117: val_accuracy did not improve from 0.98202\n",
            "7000/7000 [==============================] - 38s 5ms/step - loss: 0.0816 - accuracy: 0.9797 - val_loss: 0.0766 - val_accuracy: 0.9817\n",
            "Epoch 118/500\n",
            "6991/7000 [============================>.] - ETA: 0s - loss: 0.0804 - accuracy: 0.9807\n",
            "Epoch 118: val_accuracy did not improve from 0.98202\n",
            "7000/7000 [==============================] - 38s 5ms/step - loss: 0.0805 - accuracy: 0.9806 - val_loss: 0.0779 - val_accuracy: 0.9813\n",
            "Epoch 119/500\n",
            "6992/7000 [============================>.] - ETA: 0s - loss: 0.0813 - accuracy: 0.9807\n",
            "Epoch 119: val_accuracy did not improve from 0.98202\n",
            "7000/7000 [==============================] - 38s 5ms/step - loss: 0.0812 - accuracy: 0.9807 - val_loss: 0.0864 - val_accuracy: 0.9807\n",
            "Epoch 120/500\n",
            "7000/7000 [==============================] - ETA: 0s - loss: 0.0809 - accuracy: 0.9806\n",
            "Epoch 120: val_accuracy did not improve from 0.98202\n",
            "7000/7000 [==============================] - 38s 5ms/step - loss: 0.0809 - accuracy: 0.9806 - val_loss: 0.0806 - val_accuracy: 0.9818\n",
            "Epoch 121/500\n",
            "6996/7000 [============================>.] - ETA: 0s - loss: 0.0830 - accuracy: 0.9803\n",
            "Epoch 121: val_accuracy did not improve from 0.98202\n",
            "7000/7000 [==============================] - 38s 5ms/step - loss: 0.0830 - accuracy: 0.9803 - val_loss: 0.0757 - val_accuracy: 0.9819\n",
            "Epoch 122/500\n",
            "7000/7000 [==============================] - ETA: 0s - loss: 0.0819 - accuracy: 0.9806\n",
            "Epoch 122: val_accuracy did not improve from 0.98202\n",
            "7000/7000 [==============================] - 38s 5ms/step - loss: 0.0819 - accuracy: 0.9806 - val_loss: 0.0770 - val_accuracy: 0.9820\n",
            "Epoch 123/500\n",
            "6997/7000 [============================>.] - ETA: 0s - loss: 0.0817 - accuracy: 0.9802\n",
            "Epoch 123: val_accuracy did not improve from 0.98202\n",
            "7000/7000 [==============================] - 38s 5ms/step - loss: 0.0816 - accuracy: 0.9802 - val_loss: 0.0792 - val_accuracy: 0.9816\n",
            "Epoch 124/500\n",
            "6995/7000 [============================>.] - ETA: 0s - loss: 0.0813 - accuracy: 0.9801\n",
            "Epoch 124: val_accuracy did not improve from 0.98202\n",
            "7000/7000 [==============================] - 38s 5ms/step - loss: 0.0814 - accuracy: 0.9801 - val_loss: 0.0746 - val_accuracy: 0.9819\n",
            "Epoch 125/500\n",
            "7000/7000 [==============================] - ETA: 0s - loss: 0.0799 - accuracy: 0.9803\n",
            "Epoch 125: val_accuracy did not improve from 0.98202\n",
            "7000/7000 [==============================] - 38s 5ms/step - loss: 0.0799 - accuracy: 0.9803 - val_loss: 0.0767 - val_accuracy: 0.9818\n",
            "Epoch 126/500\n",
            "6992/7000 [============================>.] - ETA: 0s - loss: 0.0802 - accuracy: 0.9806\n",
            "Epoch 126: val_accuracy did not improve from 0.98202\n",
            "7000/7000 [==============================] - 38s 5ms/step - loss: 0.0802 - accuracy: 0.9806 - val_loss: 0.0783 - val_accuracy: 0.9817\n",
            "Epoch 127/500\n",
            "7000/7000 [==============================] - ETA: 0s - loss: 0.0818 - accuracy: 0.9801\n",
            "Epoch 127: val_accuracy did not improve from 0.98202\n",
            "7000/7000 [==============================] - 39s 6ms/step - loss: 0.0818 - accuracy: 0.9801 - val_loss: 0.0733 - val_accuracy: 0.9820\n",
            "Epoch 128/500\n",
            "6993/7000 [============================>.] - ETA: 0s - loss: 0.0810 - accuracy: 0.9798\n",
            "Epoch 128: val_accuracy did not improve from 0.98202\n",
            "7000/7000 [==============================] - 38s 5ms/step - loss: 0.0810 - accuracy: 0.9798 - val_loss: 0.0814 - val_accuracy: 0.9815\n",
            "Epoch 129/500\n",
            "6994/7000 [============================>.] - ETA: 0s - loss: 0.0814 - accuracy: 0.9804\n",
            "Epoch 129: val_accuracy did not improve from 0.98202\n",
            "7000/7000 [==============================] - 38s 5ms/step - loss: 0.0814 - accuracy: 0.9804 - val_loss: 0.0743 - val_accuracy: 0.9818\n",
            "Epoch 130/500\n",
            "6994/7000 [============================>.] - ETA: 0s - loss: 0.0807 - accuracy: 0.9800\n",
            "Epoch 130: val_accuracy improved from 0.98202 to 0.98243, saving model to classifier_full_trained_best.tf\n",
            "INFO:tensorflow:Assets written to: classifier_full_trained_best.tf/assets\n"
          ]
        },
        {
          "name": "stderr",
          "output_type": "stream",
          "text": [
            "INFO:tensorflow:Assets written to: classifier_full_trained_best.tf/assets\n"
          ]
        },
        {
          "name": "stdout",
          "output_type": "stream",
          "text": [
            "7000/7000 [==============================] - 39s 6ms/step - loss: 0.0807 - accuracy: 0.9800 - val_loss: 0.0753 - val_accuracy: 0.9824\n",
            "Epoch 131/500\n",
            "6999/7000 [============================>.] - ETA: 0s - loss: 0.0813 - accuracy: 0.9806\n",
            "Epoch 131: val_accuracy did not improve from 0.98243\n",
            "7000/7000 [==============================] - 38s 5ms/step - loss: 0.0813 - accuracy: 0.9806 - val_loss: 0.0806 - val_accuracy: 0.9817\n",
            "Epoch 132/500\n",
            "6994/7000 [============================>.] - ETA: 0s - loss: 0.0808 - accuracy: 0.9804\n",
            "Epoch 132: val_accuracy did not improve from 0.98243\n",
            "7000/7000 [==============================] - 38s 5ms/step - loss: 0.0807 - accuracy: 0.9804 - val_loss: 0.0799 - val_accuracy: 0.9815\n",
            "Epoch 133/500\n",
            "6999/7000 [============================>.] - ETA: 0s - loss: 0.0806 - accuracy: 0.9801\n",
            "Epoch 133: val_accuracy did not improve from 0.98243\n",
            "7000/7000 [==============================] - 39s 6ms/step - loss: 0.0806 - accuracy: 0.9801 - val_loss: 0.0756 - val_accuracy: 0.9819\n",
            "Epoch 134/500\n",
            "6991/7000 [============================>.] - ETA: 0s - loss: 0.0805 - accuracy: 0.9803\n",
            "Epoch 134: val_accuracy did not improve from 0.98243\n",
            "7000/7000 [==============================] - 38s 5ms/step - loss: 0.0805 - accuracy: 0.9803 - val_loss: 0.0725 - val_accuracy: 0.9824\n",
            "Epoch 135/500\n",
            "6996/7000 [============================>.] - ETA: 0s - loss: 0.0798 - accuracy: 0.9807\n",
            "Epoch 135: val_accuracy did not improve from 0.98243\n",
            "7000/7000 [==============================] - 38s 5ms/step - loss: 0.0797 - accuracy: 0.9807 - val_loss: 0.0803 - val_accuracy: 0.9814\n",
            "Epoch 136/500\n",
            "6997/7000 [============================>.] - ETA: 0s - loss: 0.0806 - accuracy: 0.9807\n",
            "Epoch 136: val_accuracy improved from 0.98243 to 0.98263, saving model to classifier_full_trained_best.tf\n",
            "INFO:tensorflow:Assets written to: classifier_full_trained_best.tf/assets\n"
          ]
        },
        {
          "name": "stderr",
          "output_type": "stream",
          "text": [
            "INFO:tensorflow:Assets written to: classifier_full_trained_best.tf/assets\n"
          ]
        },
        {
          "name": "stdout",
          "output_type": "stream",
          "text": [
            "7000/7000 [==============================] - 40s 6ms/step - loss: 0.0806 - accuracy: 0.9808 - val_loss: 0.0710 - val_accuracy: 0.9826\n",
            "Epoch 137/500\n",
            "7000/7000 [==============================] - ETA: 0s - loss: 0.0806 - accuracy: 0.9804\n",
            "Epoch 137: val_accuracy improved from 0.98263 to 0.98270, saving model to classifier_full_trained_best.tf\n",
            "INFO:tensorflow:Assets written to: classifier_full_trained_best.tf/assets\n"
          ]
        },
        {
          "name": "stderr",
          "output_type": "stream",
          "text": [
            "INFO:tensorflow:Assets written to: classifier_full_trained_best.tf/assets\n"
          ]
        },
        {
          "name": "stdout",
          "output_type": "stream",
          "text": [
            "7000/7000 [==============================] - 40s 6ms/step - loss: 0.0806 - accuracy: 0.9804 - val_loss: 0.0743 - val_accuracy: 0.9827\n",
            "Epoch 138/500\n",
            "6997/7000 [============================>.] - ETA: 0s - loss: 0.0799 - accuracy: 0.9806\n",
            "Epoch 138: val_accuracy did not improve from 0.98270\n",
            "7000/7000 [==============================] - 38s 5ms/step - loss: 0.0799 - accuracy: 0.9806 - val_loss: 0.0762 - val_accuracy: 0.9819\n",
            "Epoch 139/500\n",
            "6992/7000 [============================>.] - ETA: 0s - loss: 0.0792 - accuracy: 0.9810\n",
            "Epoch 139: val_accuracy did not improve from 0.98270\n",
            "7000/7000 [==============================] - 38s 5ms/step - loss: 0.0792 - accuracy: 0.9810 - val_loss: 0.0813 - val_accuracy: 0.9813\n",
            "Epoch 140/500\n",
            "6996/7000 [============================>.] - ETA: 0s - loss: 0.0809 - accuracy: 0.9804\n",
            "Epoch 140: val_accuracy did not improve from 0.98270\n",
            "7000/7000 [==============================] - 38s 5ms/step - loss: 0.0809 - accuracy: 0.9804 - val_loss: 0.0721 - val_accuracy: 0.9816\n",
            "Epoch 141/500\n",
            "6992/7000 [============================>.] - ETA: 0s - loss: 0.0800 - accuracy: 0.9807\n",
            "Epoch 141: val_accuracy did not improve from 0.98270\n",
            "7000/7000 [==============================] - 39s 6ms/step - loss: 0.0800 - accuracy: 0.9807 - val_loss: 0.0766 - val_accuracy: 0.9813\n",
            "Epoch 142/500\n",
            "6993/7000 [============================>.] - ETA: 0s - loss: 0.0791 - accuracy: 0.9809\n",
            "Epoch 142: val_accuracy did not improve from 0.98270\n",
            "7000/7000 [==============================] - 38s 5ms/step - loss: 0.0791 - accuracy: 0.9809 - val_loss: 0.0751 - val_accuracy: 0.9818\n",
            "Epoch 143/500\n",
            "6993/7000 [============================>.] - ETA: 0s - loss: 0.0800 - accuracy: 0.9804\n",
            "Epoch 143: val_accuracy did not improve from 0.98270\n",
            "7000/7000 [==============================] - 38s 5ms/step - loss: 0.0800 - accuracy: 0.9804 - val_loss: 0.0793 - val_accuracy: 0.9822\n",
            "Epoch 144/500\n",
            "6991/7000 [============================>.] - ETA: 0s - loss: 0.0793 - accuracy: 0.9808\n",
            "Epoch 144: val_accuracy did not improve from 0.98270\n",
            "7000/7000 [==============================] - 38s 5ms/step - loss: 0.0794 - accuracy: 0.9808 - val_loss: 0.0769 - val_accuracy: 0.9822\n",
            "Epoch 145/500\n",
            "6995/7000 [============================>.] - ETA: 0s - loss: 0.0801 - accuracy: 0.9806\n",
            "Epoch 145: val_accuracy did not improve from 0.98270\n",
            "7000/7000 [==============================] - 38s 5ms/step - loss: 0.0800 - accuracy: 0.9806 - val_loss: 0.0747 - val_accuracy: 0.9818\n",
            "Epoch 146/500\n",
            "6993/7000 [============================>.] - ETA: 0s - loss: 0.0798 - accuracy: 0.9807\n",
            "Epoch 146: val_accuracy did not improve from 0.98270\n",
            "7000/7000 [==============================] - 38s 5ms/step - loss: 0.0798 - accuracy: 0.9807 - val_loss: 0.0734 - val_accuracy: 0.9812\n",
            "Epoch 147/500\n",
            "6997/7000 [============================>.] - ETA: 0s - loss: 0.0797 - accuracy: 0.9808\n",
            "Epoch 147: val_accuracy did not improve from 0.98270\n",
            "7000/7000 [==============================] - 38s 5ms/step - loss: 0.0797 - accuracy: 0.9808 - val_loss: 0.0725 - val_accuracy: 0.9821\n",
            "Epoch 148/500\n",
            "6992/7000 [============================>.] - ETA: 0s - loss: 0.0804 - accuracy: 0.9806\n",
            "Epoch 148: val_accuracy did not improve from 0.98270\n",
            "7000/7000 [==============================] - 39s 6ms/step - loss: 0.0803 - accuracy: 0.9806 - val_loss: 0.0810 - val_accuracy: 0.9818\n",
            "Epoch 149/500\n",
            "6996/7000 [============================>.] - ETA: 0s - loss: 0.0797 - accuracy: 0.9805\n",
            "Epoch 149: val_accuracy did not improve from 0.98270\n",
            "7000/7000 [==============================] - 39s 6ms/step - loss: 0.0797 - accuracy: 0.9805 - val_loss: 0.0722 - val_accuracy: 0.9826\n",
            "Epoch 150/500\n",
            "6999/7000 [============================>.] - ETA: 0s - loss: 0.0788 - accuracy: 0.9808\n",
            "Epoch 150: val_accuracy did not improve from 0.98270\n",
            "7000/7000 [==============================] - 39s 6ms/step - loss: 0.0788 - accuracy: 0.9808 - val_loss: 0.0759 - val_accuracy: 0.9823\n",
            "Epoch 151/500\n",
            "6998/7000 [============================>.] - ETA: 0s - loss: 0.0804 - accuracy: 0.9805\n",
            "Epoch 151: val_accuracy did not improve from 0.98270\n",
            "7000/7000 [==============================] - 38s 5ms/step - loss: 0.0803 - accuracy: 0.9805 - val_loss: 0.0774 - val_accuracy: 0.9816\n",
            "Epoch 152/500\n",
            "6991/7000 [============================>.] - ETA: 0s - loss: 0.0794 - accuracy: 0.9810\n",
            "Epoch 152: val_accuracy did not improve from 0.98270\n",
            "7000/7000 [==============================] - 38s 5ms/step - loss: 0.0794 - accuracy: 0.9810 - val_loss: 0.0756 - val_accuracy: 0.9816\n",
            "Epoch 153/500\n",
            "6995/7000 [============================>.] - ETA: 0s - loss: 0.0781 - accuracy: 0.9807\n",
            "Epoch 153: val_accuracy did not improve from 0.98270\n",
            "7000/7000 [==============================] - 39s 6ms/step - loss: 0.0781 - accuracy: 0.9807 - val_loss: 0.0817 - val_accuracy: 0.9811\n",
            "Epoch 154/500\n",
            "6999/7000 [============================>.] - ETA: 0s - loss: 0.0800 - accuracy: 0.9810\n",
            "Epoch 154: val_accuracy did not improve from 0.98270\n",
            "7000/7000 [==============================] - 39s 6ms/step - loss: 0.0800 - accuracy: 0.9810 - val_loss: 0.0731 - val_accuracy: 0.9822\n",
            "Epoch 155/500\n",
            "6990/7000 [============================>.] - ETA: 0s - loss: 0.0797 - accuracy: 0.9802\n",
            "Epoch 155: val_accuracy did not improve from 0.98270\n",
            "7000/7000 [==============================] - 39s 6ms/step - loss: 0.0797 - accuracy: 0.9802 - val_loss: 0.0749 - val_accuracy: 0.9813\n",
            "Epoch 156/500\n",
            "6995/7000 [============================>.] - ETA: 0s - loss: 0.0785 - accuracy: 0.9808\n",
            "Epoch 156: val_accuracy did not improve from 0.98270\n",
            "7000/7000 [==============================] - 38s 5ms/step - loss: 0.0785 - accuracy: 0.9808 - val_loss: 0.0749 - val_accuracy: 0.9818\n",
            "Epoch 157/500\n",
            "6992/7000 [============================>.] - ETA: 0s - loss: 0.0794 - accuracy: 0.9811\n",
            "Epoch 157: val_accuracy did not improve from 0.98270\n",
            "7000/7000 [==============================] - 38s 5ms/step - loss: 0.0794 - accuracy: 0.9811 - val_loss: 0.0722 - val_accuracy: 0.9823\n",
            "Epoch 158/500\n",
            "6996/7000 [============================>.] - ETA: 0s - loss: 0.0797 - accuracy: 0.9810\n",
            "Epoch 158: val_accuracy did not improve from 0.98270\n",
            "7000/7000 [==============================] - 38s 5ms/step - loss: 0.0797 - accuracy: 0.9810 - val_loss: 0.0750 - val_accuracy: 0.9816\n",
            "Epoch 159/500\n",
            "6999/7000 [============================>.] - ETA: 0s - loss: 0.0789 - accuracy: 0.9804\n",
            "Epoch 159: val_accuracy did not improve from 0.98270\n",
            "7000/7000 [==============================] - 39s 6ms/step - loss: 0.0789 - accuracy: 0.9804 - val_loss: 0.0705 - val_accuracy: 0.9824\n",
            "Epoch 160/500\n",
            "6991/7000 [============================>.] - ETA: 0s - loss: 0.0798 - accuracy: 0.9804\n",
            "Epoch 160: val_accuracy did not improve from 0.98270\n",
            "7000/7000 [==============================] - 39s 6ms/step - loss: 0.0799 - accuracy: 0.9804 - val_loss: 0.0800 - val_accuracy: 0.9815\n",
            "Epoch 161/500\n",
            "6997/7000 [============================>.] - ETA: 0s - loss: 0.0791 - accuracy: 0.9808\n",
            "Epoch 161: val_accuracy did not improve from 0.98270\n",
            "7000/7000 [==============================] - 38s 5ms/step - loss: 0.0791 - accuracy: 0.9808 - val_loss: 0.0736 - val_accuracy: 0.9816\n",
            "Epoch 162/500\n",
            "6995/7000 [============================>.] - ETA: 0s - loss: 0.0786 - accuracy: 0.9808\n",
            "Epoch 162: val_accuracy did not improve from 0.98270\n",
            "7000/7000 [==============================] - 38s 5ms/step - loss: 0.0787 - accuracy: 0.9808 - val_loss: 0.0743 - val_accuracy: 0.9819\n",
            "Epoch 163/500\n",
            "6991/7000 [============================>.] - ETA: 0s - loss: 0.0789 - accuracy: 0.9807\n",
            "Epoch 163: val_accuracy did not improve from 0.98270\n",
            "7000/7000 [==============================] - 38s 5ms/step - loss: 0.0788 - accuracy: 0.9808 - val_loss: 0.0778 - val_accuracy: 0.9818\n",
            "Epoch 164/500\n",
            "6998/7000 [============================>.] - ETA: 0s - loss: 0.0795 - accuracy: 0.9810\n",
            "Epoch 164: val_accuracy did not improve from 0.98270\n",
            "7000/7000 [==============================] - 38s 5ms/step - loss: 0.0796 - accuracy: 0.9810 - val_loss: 0.0713 - val_accuracy: 0.9825\n",
            "Epoch 165/500\n",
            "6991/7000 [============================>.] - ETA: 0s - loss: 0.0781 - accuracy: 0.9806\n",
            "Epoch 165: val_accuracy did not improve from 0.98270\n",
            "7000/7000 [==============================] - 39s 6ms/step - loss: 0.0781 - accuracy: 0.9806 - val_loss: 0.0757 - val_accuracy: 0.9820\n",
            "Epoch 166/500\n",
            "6996/7000 [============================>.] - ETA: 0s - loss: 0.0791 - accuracy: 0.9808\n",
            "Epoch 166: val_accuracy did not improve from 0.98270\n",
            "7000/7000 [==============================] - 39s 6ms/step - loss: 0.0791 - accuracy: 0.9808 - val_loss: 0.0751 - val_accuracy: 0.9820\n",
            "Epoch 167/500\n",
            "6996/7000 [============================>.] - ETA: 0s - loss: 0.0799 - accuracy: 0.9803\n",
            "Epoch 167: val_accuracy did not improve from 0.98270\n",
            "7000/7000 [==============================] - 38s 5ms/step - loss: 0.0799 - accuracy: 0.9803 - val_loss: 0.0719 - val_accuracy: 0.9817\n",
            "Epoch 168/500\n",
            "6998/7000 [============================>.] - ETA: 0s - loss: 0.0806 - accuracy: 0.9805\n",
            "Epoch 168: val_accuracy did not improve from 0.98270\n",
            "7000/7000 [==============================] - 39s 6ms/step - loss: 0.0805 - accuracy: 0.9805 - val_loss: 0.0828 - val_accuracy: 0.9811\n",
            "Epoch 169/500\n",
            "6996/7000 [============================>.] - ETA: 0s - loss: 0.0796 - accuracy: 0.9807\n",
            "Epoch 169: val_accuracy did not improve from 0.98270\n",
            "7000/7000 [==============================] - 39s 6ms/step - loss: 0.0796 - accuracy: 0.9807 - val_loss: 0.0829 - val_accuracy: 0.9805\n",
            "Epoch 170/500\n",
            "7000/7000 [==============================] - ETA: 0s - loss: 0.0796 - accuracy: 0.9803\n",
            "Epoch 170: val_accuracy did not improve from 0.98270\n",
            "7000/7000 [==============================] - 38s 5ms/step - loss: 0.0796 - accuracy: 0.9803 - val_loss: 0.0733 - val_accuracy: 0.9816\n",
            "Epoch 171/500\n",
            "6994/7000 [============================>.] - ETA: 0s - loss: 0.0797 - accuracy: 0.9805\n",
            "Epoch 171: val_accuracy did not improve from 0.98270\n",
            "7000/7000 [==============================] - 38s 5ms/step - loss: 0.0797 - accuracy: 0.9805 - val_loss: 0.0754 - val_accuracy: 0.9809\n",
            "Epoch 172/500\n",
            "6991/7000 [============================>.] - ETA: 0s - loss: 0.0788 - accuracy: 0.9809\n",
            "Epoch 172: val_accuracy did not improve from 0.98270\n",
            "7000/7000 [==============================] - 38s 5ms/step - loss: 0.0789 - accuracy: 0.9809 - val_loss: 0.0701 - val_accuracy: 0.9823\n",
            "Epoch 173/500\n",
            "6999/7000 [============================>.] - ETA: 0s - loss: 0.0798 - accuracy: 0.9811\n",
            "Epoch 173: val_accuracy did not improve from 0.98270\n",
            "7000/7000 [==============================] - 39s 6ms/step - loss: 0.0798 - accuracy: 0.9811 - val_loss: 0.0739 - val_accuracy: 0.9818\n",
            "Epoch 174/500\n",
            "6993/7000 [============================>.] - ETA: 0s - loss: 0.0794 - accuracy: 0.9810\n",
            "Epoch 174: val_accuracy did not improve from 0.98270\n",
            "7000/7000 [==============================] - 38s 5ms/step - loss: 0.0794 - accuracy: 0.9810 - val_loss: 0.0757 - val_accuracy: 0.9826\n",
            "Epoch 175/500\n",
            "6990/7000 [============================>.] - ETA: 0s - loss: 0.0783 - accuracy: 0.9815\n",
            "Epoch 175: val_accuracy did not improve from 0.98270\n",
            "7000/7000 [==============================] - 39s 6ms/step - loss: 0.0782 - accuracy: 0.9815 - val_loss: 0.0753 - val_accuracy: 0.9818\n",
            "Epoch 176/500\n",
            "6999/7000 [============================>.] - ETA: 0s - loss: 0.0791 - accuracy: 0.9810\n",
            "Epoch 176: val_accuracy did not improve from 0.98270\n",
            "7000/7000 [==============================] - 39s 6ms/step - loss: 0.0791 - accuracy: 0.9810 - val_loss: 0.0777 - val_accuracy: 0.9811\n",
            "Epoch 177/500\n",
            "6997/7000 [============================>.] - ETA: 0s - loss: 0.0787 - accuracy: 0.9811\n",
            "Epoch 177: val_accuracy did not improve from 0.98270\n",
            "7000/7000 [==============================] - 38s 5ms/step - loss: 0.0786 - accuracy: 0.9811 - val_loss: 0.0724 - val_accuracy: 0.9820\n",
            "Epoch 178/500\n",
            "6998/7000 [============================>.] - ETA: 0s - loss: 0.0789 - accuracy: 0.9807\n",
            "Epoch 178: val_accuracy did not improve from 0.98270\n",
            "7000/7000 [==============================] - 38s 5ms/step - loss: 0.0790 - accuracy: 0.9807 - val_loss: 0.0771 - val_accuracy: 0.9819\n",
            "Epoch 179/500\n",
            "6993/7000 [============================>.] - ETA: 0s - loss: 0.0784 - accuracy: 0.9811\n",
            "Epoch 179: val_accuracy did not improve from 0.98270\n",
            "7000/7000 [==============================] - 38s 5ms/step - loss: 0.0784 - accuracy: 0.9811 - val_loss: 0.0718 - val_accuracy: 0.9820\n",
            "Epoch 180/500\n",
            "6996/7000 [============================>.] - ETA: 0s - loss: 0.0790 - accuracy: 0.9811\n",
            "Epoch 180: val_accuracy did not improve from 0.98270\n",
            "7000/7000 [==============================] - 39s 6ms/step - loss: 0.0789 - accuracy: 0.9811 - val_loss: 0.0747 - val_accuracy: 0.9821\n",
            "Epoch 181/500\n",
            "6994/7000 [============================>.] - ETA: 0s - loss: 0.0778 - accuracy: 0.9817\n",
            "Epoch 181: val_accuracy did not improve from 0.98270\n",
            "7000/7000 [==============================] - 39s 6ms/step - loss: 0.0777 - accuracy: 0.9817 - val_loss: 0.0787 - val_accuracy: 0.9809\n",
            "Epoch 182/500\n",
            "4437/7000 [==================>...........] - ETA: 13s - loss: 0.0786 - accuracy: 0.9814"
          ]
        },
        {
          "ename": "KeyboardInterrupt",
          "evalue": "",
          "output_type": "error",
          "traceback": [
            "\u001b[0;31m---------------------------------------------------------------------------\u001b[0m",
            "\u001b[0;31mKeyboardInterrupt\u001b[0m                         Traceback (most recent call last)",
            "Cell \u001b[0;32mIn[15], line 2\u001b[0m\n\u001b[1;32m      1\u001b[0m stop_training_callback \u001b[38;5;241m=\u001b[39m StopTrainingCallback()\n\u001b[0;32m----> 2\u001b[0m \u001b[43mclassifier\u001b[49m\u001b[38;5;241;43m.\u001b[39;49m\u001b[43mfit\u001b[49m\u001b[43m(\u001b[49m\u001b[43maugmented_data_generator\u001b[49m\u001b[43m,\u001b[49m\u001b[43msteps_per_epoch\u001b[49m\u001b[38;5;241;43m=\u001b[39;49m\u001b[38;5;28;43mlen\u001b[39;49m\u001b[43m(\u001b[49m\u001b[43mX\u001b[49m\u001b[43m)\u001b[49m\u001b[43m \u001b[49m\u001b[38;5;241;43m/\u001b[39;49m\u001b[38;5;241;43m/\u001b[39;49m\u001b[43m \u001b[49m\u001b[43mbatch_size\u001b[49m\u001b[43m,\u001b[49m\u001b[43m \u001b[49m\u001b[43mepochs\u001b[49m\u001b[38;5;241;43m=\u001b[39;49m\u001b[38;5;241;43m500\u001b[39;49m\u001b[43m,\u001b[49m\u001b[43m \u001b[49m\n\u001b[1;32m      3\u001b[0m \u001b[43m               \u001b[49m\u001b[43mcallbacks\u001b[49m\u001b[38;5;241;43m=\u001b[39;49m\u001b[43m[\u001b[49m\u001b[43mstop_training_callback\u001b[49m\u001b[43m,\u001b[49m\u001b[43mcheckpoint\u001b[49m\u001b[43m]\u001b[49m\u001b[43m,\u001b[49m\n\u001b[1;32m      4\u001b[0m \u001b[43m               \u001b[49m\u001b[43mvalidation_data\u001b[49m\u001b[38;5;241;43m=\u001b[39;49m\u001b[43m(\u001b[49m\u001b[43mX\u001b[49m\u001b[43m,\u001b[49m\u001b[43m \u001b[49m\u001b[43mY\u001b[49m\u001b[43m)\u001b[49m\u001b[43m)\u001b[49m\n",
            "File \u001b[0;32m~/.local/lib/python3.9/site-packages/keras/src/utils/traceback_utils.py:65\u001b[0m, in \u001b[0;36mfilter_traceback.<locals>.error_handler\u001b[0;34m(*args, **kwargs)\u001b[0m\n\u001b[1;32m     63\u001b[0m filtered_tb \u001b[38;5;241m=\u001b[39m \u001b[38;5;28;01mNone\u001b[39;00m\n\u001b[1;32m     64\u001b[0m \u001b[38;5;28;01mtry\u001b[39;00m:\n\u001b[0;32m---> 65\u001b[0m     \u001b[38;5;28;01mreturn\u001b[39;00m \u001b[43mfn\u001b[49m\u001b[43m(\u001b[49m\u001b[38;5;241;43m*\u001b[39;49m\u001b[43margs\u001b[49m\u001b[43m,\u001b[49m\u001b[43m \u001b[49m\u001b[38;5;241;43m*\u001b[39;49m\u001b[38;5;241;43m*\u001b[39;49m\u001b[43mkwargs\u001b[49m\u001b[43m)\u001b[49m\n\u001b[1;32m     66\u001b[0m \u001b[38;5;28;01mexcept\u001b[39;00m \u001b[38;5;167;01mException\u001b[39;00m \u001b[38;5;28;01mas\u001b[39;00m e:\n\u001b[1;32m     67\u001b[0m     filtered_tb \u001b[38;5;241m=\u001b[39m _process_traceback_frames(e\u001b[38;5;241m.\u001b[39m__traceback__)\n",
            "File \u001b[0;32m~/.local/lib/python3.9/site-packages/keras/src/engine/training.py:1742\u001b[0m, in \u001b[0;36mModel.fit\u001b[0;34m(self, x, y, batch_size, epochs, verbose, callbacks, validation_split, validation_data, shuffle, class_weight, sample_weight, initial_epoch, steps_per_epoch, validation_steps, validation_batch_size, validation_freq, max_queue_size, workers, use_multiprocessing)\u001b[0m\n\u001b[1;32m   1734\u001b[0m \u001b[38;5;28;01mwith\u001b[39;00m tf\u001b[38;5;241m.\u001b[39mprofiler\u001b[38;5;241m.\u001b[39mexperimental\u001b[38;5;241m.\u001b[39mTrace(\n\u001b[1;32m   1735\u001b[0m     \u001b[38;5;124m\"\u001b[39m\u001b[38;5;124mtrain\u001b[39m\u001b[38;5;124m\"\u001b[39m,\n\u001b[1;32m   1736\u001b[0m     epoch_num\u001b[38;5;241m=\u001b[39mepoch,\n\u001b[0;32m   (...)\u001b[0m\n\u001b[1;32m   1739\u001b[0m     _r\u001b[38;5;241m=\u001b[39m\u001b[38;5;241m1\u001b[39m,\n\u001b[1;32m   1740\u001b[0m ):\n\u001b[1;32m   1741\u001b[0m     callbacks\u001b[38;5;241m.\u001b[39mon_train_batch_begin(step)\n\u001b[0;32m-> 1742\u001b[0m     tmp_logs \u001b[38;5;241m=\u001b[39m \u001b[38;5;28;43mself\u001b[39;49m\u001b[38;5;241;43m.\u001b[39;49m\u001b[43mtrain_function\u001b[49m\u001b[43m(\u001b[49m\u001b[43miterator\u001b[49m\u001b[43m)\u001b[49m\n\u001b[1;32m   1743\u001b[0m     \u001b[38;5;28;01mif\u001b[39;00m data_handler\u001b[38;5;241m.\u001b[39mshould_sync:\n\u001b[1;32m   1744\u001b[0m         context\u001b[38;5;241m.\u001b[39masync_wait()\n",
            "File \u001b[0;32m~/.local/lib/python3.9/site-packages/tensorflow/python/util/traceback_utils.py:150\u001b[0m, in \u001b[0;36mfilter_traceback.<locals>.error_handler\u001b[0;34m(*args, **kwargs)\u001b[0m\n\u001b[1;32m    148\u001b[0m filtered_tb \u001b[38;5;241m=\u001b[39m \u001b[38;5;28;01mNone\u001b[39;00m\n\u001b[1;32m    149\u001b[0m \u001b[38;5;28;01mtry\u001b[39;00m:\n\u001b[0;32m--> 150\u001b[0m   \u001b[38;5;28;01mreturn\u001b[39;00m \u001b[43mfn\u001b[49m\u001b[43m(\u001b[49m\u001b[38;5;241;43m*\u001b[39;49m\u001b[43margs\u001b[49m\u001b[43m,\u001b[49m\u001b[43m \u001b[49m\u001b[38;5;241;43m*\u001b[39;49m\u001b[38;5;241;43m*\u001b[39;49m\u001b[43mkwargs\u001b[49m\u001b[43m)\u001b[49m\n\u001b[1;32m    151\u001b[0m \u001b[38;5;28;01mexcept\u001b[39;00m \u001b[38;5;167;01mException\u001b[39;00m \u001b[38;5;28;01mas\u001b[39;00m e:\n\u001b[1;32m    152\u001b[0m   filtered_tb \u001b[38;5;241m=\u001b[39m _process_traceback_frames(e\u001b[38;5;241m.\u001b[39m__traceback__)\n",
            "File \u001b[0;32m~/.local/lib/python3.9/site-packages/tensorflow/python/eager/polymorphic_function/polymorphic_function.py:825\u001b[0m, in \u001b[0;36mFunction.__call__\u001b[0;34m(self, *args, **kwds)\u001b[0m\n\u001b[1;32m    822\u001b[0m compiler \u001b[38;5;241m=\u001b[39m \u001b[38;5;124m\"\u001b[39m\u001b[38;5;124mxla\u001b[39m\u001b[38;5;124m\"\u001b[39m \u001b[38;5;28;01mif\u001b[39;00m \u001b[38;5;28mself\u001b[39m\u001b[38;5;241m.\u001b[39m_jit_compile \u001b[38;5;28;01melse\u001b[39;00m \u001b[38;5;124m\"\u001b[39m\u001b[38;5;124mnonXla\u001b[39m\u001b[38;5;124m\"\u001b[39m\n\u001b[1;32m    824\u001b[0m \u001b[38;5;28;01mwith\u001b[39;00m OptionalXlaContext(\u001b[38;5;28mself\u001b[39m\u001b[38;5;241m.\u001b[39m_jit_compile):\n\u001b[0;32m--> 825\u001b[0m   result \u001b[38;5;241m=\u001b[39m \u001b[38;5;28;43mself\u001b[39;49m\u001b[38;5;241;43m.\u001b[39;49m\u001b[43m_call\u001b[49m\u001b[43m(\u001b[49m\u001b[38;5;241;43m*\u001b[39;49m\u001b[43margs\u001b[49m\u001b[43m,\u001b[49m\u001b[43m \u001b[49m\u001b[38;5;241;43m*\u001b[39;49m\u001b[38;5;241;43m*\u001b[39;49m\u001b[43mkwds\u001b[49m\u001b[43m)\u001b[49m\n\u001b[1;32m    827\u001b[0m new_tracing_count \u001b[38;5;241m=\u001b[39m \u001b[38;5;28mself\u001b[39m\u001b[38;5;241m.\u001b[39mexperimental_get_tracing_count()\n\u001b[1;32m    828\u001b[0m without_tracing \u001b[38;5;241m=\u001b[39m (tracing_count \u001b[38;5;241m==\u001b[39m new_tracing_count)\n",
            "File \u001b[0;32m~/.local/lib/python3.9/site-packages/tensorflow/python/eager/polymorphic_function/polymorphic_function.py:857\u001b[0m, in \u001b[0;36mFunction._call\u001b[0;34m(self, *args, **kwds)\u001b[0m\n\u001b[1;32m    854\u001b[0m   \u001b[38;5;28mself\u001b[39m\u001b[38;5;241m.\u001b[39m_lock\u001b[38;5;241m.\u001b[39mrelease()\n\u001b[1;32m    855\u001b[0m   \u001b[38;5;66;03m# In this case we have created variables on the first call, so we run the\u001b[39;00m\n\u001b[1;32m    856\u001b[0m   \u001b[38;5;66;03m# defunned version which is guaranteed to never create variables.\u001b[39;00m\n\u001b[0;32m--> 857\u001b[0m   \u001b[38;5;28;01mreturn\u001b[39;00m \u001b[38;5;28;43mself\u001b[39;49m\u001b[38;5;241;43m.\u001b[39;49m\u001b[43m_no_variable_creation_fn\u001b[49m\u001b[43m(\u001b[49m\u001b[38;5;241;43m*\u001b[39;49m\u001b[43margs\u001b[49m\u001b[43m,\u001b[49m\u001b[43m \u001b[49m\u001b[38;5;241;43m*\u001b[39;49m\u001b[38;5;241;43m*\u001b[39;49m\u001b[43mkwds\u001b[49m\u001b[43m)\u001b[49m  \u001b[38;5;66;03m# pylint: disable=not-callable\u001b[39;00m\n\u001b[1;32m    858\u001b[0m \u001b[38;5;28;01melif\u001b[39;00m \u001b[38;5;28mself\u001b[39m\u001b[38;5;241m.\u001b[39m_variable_creation_fn \u001b[38;5;129;01mis\u001b[39;00m \u001b[38;5;129;01mnot\u001b[39;00m \u001b[38;5;28;01mNone\u001b[39;00m:\n\u001b[1;32m    859\u001b[0m   \u001b[38;5;66;03m# Release the lock early so that multiple threads can perform the call\u001b[39;00m\n\u001b[1;32m    860\u001b[0m   \u001b[38;5;66;03m# in parallel.\u001b[39;00m\n\u001b[1;32m    861\u001b[0m   \u001b[38;5;28mself\u001b[39m\u001b[38;5;241m.\u001b[39m_lock\u001b[38;5;241m.\u001b[39mrelease()\n",
            "File \u001b[0;32m~/.local/lib/python3.9/site-packages/tensorflow/python/eager/polymorphic_function/tracing_compiler.py:148\u001b[0m, in \u001b[0;36mTracingCompiler.__call__\u001b[0;34m(self, *args, **kwargs)\u001b[0m\n\u001b[1;32m    145\u001b[0m \u001b[38;5;28;01mwith\u001b[39;00m \u001b[38;5;28mself\u001b[39m\u001b[38;5;241m.\u001b[39m_lock:\n\u001b[1;32m    146\u001b[0m   (concrete_function,\n\u001b[1;32m    147\u001b[0m    filtered_flat_args) \u001b[38;5;241m=\u001b[39m \u001b[38;5;28mself\u001b[39m\u001b[38;5;241m.\u001b[39m_maybe_define_function(args, kwargs)\n\u001b[0;32m--> 148\u001b[0m \u001b[38;5;28;01mreturn\u001b[39;00m \u001b[43mconcrete_function\u001b[49m\u001b[38;5;241;43m.\u001b[39;49m\u001b[43m_call_flat\u001b[49m\u001b[43m(\u001b[49m\n\u001b[1;32m    149\u001b[0m \u001b[43m    \u001b[49m\u001b[43mfiltered_flat_args\u001b[49m\u001b[43m,\u001b[49m\u001b[43m \u001b[49m\u001b[43mcaptured_inputs\u001b[49m\u001b[38;5;241;43m=\u001b[39;49m\u001b[43mconcrete_function\u001b[49m\u001b[38;5;241;43m.\u001b[39;49m\u001b[43mcaptured_inputs\u001b[49m\u001b[43m)\u001b[49m\n",
            "File \u001b[0;32m~/.local/lib/python3.9/site-packages/tensorflow/python/eager/polymorphic_function/monomorphic_function.py:1349\u001b[0m, in \u001b[0;36mConcreteFunction._call_flat\u001b[0;34m(self, args, captured_inputs)\u001b[0m\n\u001b[1;32m   1345\u001b[0m possible_gradient_type \u001b[38;5;241m=\u001b[39m gradients_util\u001b[38;5;241m.\u001b[39mPossibleTapeGradientTypes(args)\n\u001b[1;32m   1346\u001b[0m \u001b[38;5;28;01mif\u001b[39;00m (possible_gradient_type \u001b[38;5;241m==\u001b[39m gradients_util\u001b[38;5;241m.\u001b[39mPOSSIBLE_GRADIENT_TYPES_NONE\n\u001b[1;32m   1347\u001b[0m     \u001b[38;5;129;01mand\u001b[39;00m executing_eagerly):\n\u001b[1;32m   1348\u001b[0m   \u001b[38;5;66;03m# No tape is watching; skip to running the function.\u001b[39;00m\n\u001b[0;32m-> 1349\u001b[0m   \u001b[38;5;28;01mreturn\u001b[39;00m \u001b[38;5;28mself\u001b[39m\u001b[38;5;241m.\u001b[39m_build_call_outputs(\u001b[38;5;28;43mself\u001b[39;49m\u001b[38;5;241;43m.\u001b[39;49m\u001b[43m_inference_function\u001b[49m\u001b[43m(\u001b[49m\u001b[38;5;241;43m*\u001b[39;49m\u001b[43margs\u001b[49m\u001b[43m)\u001b[49m)\n\u001b[1;32m   1350\u001b[0m forward_backward \u001b[38;5;241m=\u001b[39m \u001b[38;5;28mself\u001b[39m\u001b[38;5;241m.\u001b[39m_select_forward_and_backward_functions(\n\u001b[1;32m   1351\u001b[0m     args,\n\u001b[1;32m   1352\u001b[0m     possible_gradient_type,\n\u001b[1;32m   1353\u001b[0m     executing_eagerly)\n\u001b[1;32m   1354\u001b[0m forward_function, args_with_tangents \u001b[38;5;241m=\u001b[39m forward_backward\u001b[38;5;241m.\u001b[39mforward()\n",
            "File \u001b[0;32m~/.local/lib/python3.9/site-packages/tensorflow/python/eager/polymorphic_function/atomic_function.py:196\u001b[0m, in \u001b[0;36mAtomicFunction.__call__\u001b[0;34m(self, *args)\u001b[0m\n\u001b[1;32m    194\u001b[0m \u001b[38;5;28;01mwith\u001b[39;00m record\u001b[38;5;241m.\u001b[39mstop_recording():\n\u001b[1;32m    195\u001b[0m   \u001b[38;5;28;01mif\u001b[39;00m \u001b[38;5;28mself\u001b[39m\u001b[38;5;241m.\u001b[39m_bound_context\u001b[38;5;241m.\u001b[39mexecuting_eagerly():\n\u001b[0;32m--> 196\u001b[0m     outputs \u001b[38;5;241m=\u001b[39m \u001b[38;5;28;43mself\u001b[39;49m\u001b[38;5;241;43m.\u001b[39;49m\u001b[43m_bound_context\u001b[49m\u001b[38;5;241;43m.\u001b[39;49m\u001b[43mcall_function\u001b[49m\u001b[43m(\u001b[49m\n\u001b[1;32m    197\u001b[0m \u001b[43m        \u001b[49m\u001b[38;5;28;43mself\u001b[39;49m\u001b[38;5;241;43m.\u001b[39;49m\u001b[43mname\u001b[49m\u001b[43m,\u001b[49m\n\u001b[1;32m    198\u001b[0m \u001b[43m        \u001b[49m\u001b[38;5;28;43mlist\u001b[39;49m\u001b[43m(\u001b[49m\u001b[43margs\u001b[49m\u001b[43m)\u001b[49m\u001b[43m,\u001b[49m\n\u001b[1;32m    199\u001b[0m \u001b[43m        \u001b[49m\u001b[38;5;28;43mlen\u001b[39;49m\u001b[43m(\u001b[49m\u001b[38;5;28;43mself\u001b[39;49m\u001b[38;5;241;43m.\u001b[39;49m\u001b[43mfunction_type\u001b[49m\u001b[38;5;241;43m.\u001b[39;49m\u001b[43mflat_outputs\u001b[49m\u001b[43m)\u001b[49m\u001b[43m,\u001b[49m\n\u001b[1;32m    200\u001b[0m \u001b[43m    \u001b[49m\u001b[43m)\u001b[49m\n\u001b[1;32m    201\u001b[0m   \u001b[38;5;28;01melse\u001b[39;00m:\n\u001b[1;32m    202\u001b[0m     outputs \u001b[38;5;241m=\u001b[39m make_call_op_in_graph(\u001b[38;5;28mself\u001b[39m, \u001b[38;5;28mlist\u001b[39m(args))\n",
            "File \u001b[0;32m~/.local/lib/python3.9/site-packages/tensorflow/python/eager/context.py:1457\u001b[0m, in \u001b[0;36mContext.call_function\u001b[0;34m(self, name, tensor_inputs, num_outputs)\u001b[0m\n\u001b[1;32m   1455\u001b[0m cancellation_context \u001b[38;5;241m=\u001b[39m cancellation\u001b[38;5;241m.\u001b[39mcontext()\n\u001b[1;32m   1456\u001b[0m \u001b[38;5;28;01mif\u001b[39;00m cancellation_context \u001b[38;5;129;01mis\u001b[39;00m \u001b[38;5;28;01mNone\u001b[39;00m:\n\u001b[0;32m-> 1457\u001b[0m   outputs \u001b[38;5;241m=\u001b[39m \u001b[43mexecute\u001b[49m\u001b[38;5;241;43m.\u001b[39;49m\u001b[43mexecute\u001b[49m\u001b[43m(\u001b[49m\n\u001b[1;32m   1458\u001b[0m \u001b[43m      \u001b[49m\u001b[43mname\u001b[49m\u001b[38;5;241;43m.\u001b[39;49m\u001b[43mdecode\u001b[49m\u001b[43m(\u001b[49m\u001b[38;5;124;43m\"\u001b[39;49m\u001b[38;5;124;43mutf-8\u001b[39;49m\u001b[38;5;124;43m\"\u001b[39;49m\u001b[43m)\u001b[49m\u001b[43m,\u001b[49m\n\u001b[1;32m   1459\u001b[0m \u001b[43m      \u001b[49m\u001b[43mnum_outputs\u001b[49m\u001b[38;5;241;43m=\u001b[39;49m\u001b[43mnum_outputs\u001b[49m\u001b[43m,\u001b[49m\n\u001b[1;32m   1460\u001b[0m \u001b[43m      \u001b[49m\u001b[43minputs\u001b[49m\u001b[38;5;241;43m=\u001b[39;49m\u001b[43mtensor_inputs\u001b[49m\u001b[43m,\u001b[49m\n\u001b[1;32m   1461\u001b[0m \u001b[43m      \u001b[49m\u001b[43mattrs\u001b[49m\u001b[38;5;241;43m=\u001b[39;49m\u001b[43mattrs\u001b[49m\u001b[43m,\u001b[49m\n\u001b[1;32m   1462\u001b[0m \u001b[43m      \u001b[49m\u001b[43mctx\u001b[49m\u001b[38;5;241;43m=\u001b[39;49m\u001b[38;5;28;43mself\u001b[39;49m\u001b[43m,\u001b[49m\n\u001b[1;32m   1463\u001b[0m \u001b[43m  \u001b[49m\u001b[43m)\u001b[49m\n\u001b[1;32m   1464\u001b[0m \u001b[38;5;28;01melse\u001b[39;00m:\n\u001b[1;32m   1465\u001b[0m   outputs \u001b[38;5;241m=\u001b[39m execute\u001b[38;5;241m.\u001b[39mexecute_with_cancellation(\n\u001b[1;32m   1466\u001b[0m       name\u001b[38;5;241m.\u001b[39mdecode(\u001b[38;5;124m\"\u001b[39m\u001b[38;5;124mutf-8\u001b[39m\u001b[38;5;124m\"\u001b[39m),\n\u001b[1;32m   1467\u001b[0m       num_outputs\u001b[38;5;241m=\u001b[39mnum_outputs,\n\u001b[0;32m   (...)\u001b[0m\n\u001b[1;32m   1471\u001b[0m       cancellation_manager\u001b[38;5;241m=\u001b[39mcancellation_context,\n\u001b[1;32m   1472\u001b[0m   )\n",
            "File \u001b[0;32m~/.local/lib/python3.9/site-packages/tensorflow/python/eager/execute.py:53\u001b[0m, in \u001b[0;36mquick_execute\u001b[0;34m(op_name, num_outputs, inputs, attrs, ctx, name)\u001b[0m\n\u001b[1;32m     51\u001b[0m \u001b[38;5;28;01mtry\u001b[39;00m:\n\u001b[1;32m     52\u001b[0m   ctx\u001b[38;5;241m.\u001b[39mensure_initialized()\n\u001b[0;32m---> 53\u001b[0m   tensors \u001b[38;5;241m=\u001b[39m \u001b[43mpywrap_tfe\u001b[49m\u001b[38;5;241;43m.\u001b[39;49m\u001b[43mTFE_Py_Execute\u001b[49m\u001b[43m(\u001b[49m\u001b[43mctx\u001b[49m\u001b[38;5;241;43m.\u001b[39;49m\u001b[43m_handle\u001b[49m\u001b[43m,\u001b[49m\u001b[43m \u001b[49m\u001b[43mdevice_name\u001b[49m\u001b[43m,\u001b[49m\u001b[43m \u001b[49m\u001b[43mop_name\u001b[49m\u001b[43m,\u001b[49m\n\u001b[1;32m     54\u001b[0m \u001b[43m                                      \u001b[49m\u001b[43minputs\u001b[49m\u001b[43m,\u001b[49m\u001b[43m \u001b[49m\u001b[43mattrs\u001b[49m\u001b[43m,\u001b[49m\u001b[43m \u001b[49m\u001b[43mnum_outputs\u001b[49m\u001b[43m)\u001b[49m\n\u001b[1;32m     55\u001b[0m \u001b[38;5;28;01mexcept\u001b[39;00m core\u001b[38;5;241m.\u001b[39m_NotOkStatusException \u001b[38;5;28;01mas\u001b[39;00m e:\n\u001b[1;32m     56\u001b[0m   \u001b[38;5;28;01mif\u001b[39;00m name \u001b[38;5;129;01mis\u001b[39;00m \u001b[38;5;129;01mnot\u001b[39;00m \u001b[38;5;28;01mNone\u001b[39;00m:\n",
            "\u001b[0;31mKeyboardInterrupt\u001b[0m: "
          ]
        }
      ],
      "source": [
        "stop_training_callback = StopTrainingCallback()\n",
        "classifier.fit(augmented_data_generator,steps_per_epoch=len(X) // batch_size, epochs=500, \n",
        "               callbacks=[stop_training_callback,checkpoint],\n",
        "               validation_data=(X, Y))"
      ]
    },
    {
      "cell_type": "code",
      "execution_count": 16,
      "metadata": {},
      "outputs": [
        {
          "name": "stdout",
          "output_type": "stream",
          "text": [
            "INFO:tensorflow:Assets written to: classifier_full_trained.tf/assets\n"
          ]
        },
        {
          "name": "stderr",
          "output_type": "stream",
          "text": [
            "INFO:tensorflow:Assets written to: classifier_full_trained.tf/assets\n"
          ]
        }
      ],
      "source": [
        "classifier.save(\"classifier_full_trained.tf\")"
      ]
    },
    {
      "cell_type": "code",
      "execution_count": 17,
      "metadata": {},
      "outputs": [
        {
          "name": "stdout",
          "output_type": "stream",
          "text": [
            "1750/1750 [==============================] - 4s 2ms/step - loss: 0.0749 - accuracy: 0.9823\n"
          ]
        },
        {
          "data": {
            "text/plain": [
              "[0.0749092847108841, 0.9823214411735535]"
            ]
          },
          "execution_count": 17,
          "metadata": {},
          "output_type": "execute_result"
        }
      ],
      "source": [
        "classifier.evaluate(X,Y)"
      ]
    }
  ],
  "metadata": {
    "accelerator": "GPU",
    "colab": {
      "gpuType": "T4",
      "provenance": []
    },
    "kernelspec": {
      "display_name": "Python 3",
      "name": "python3"
    },
    "language_info": {
      "codemirror_mode": {
        "name": "ipython",
        "version": 3
      },
      "file_extension": ".py",
      "mimetype": "text/x-python",
      "name": "python",
      "nbconvert_exporter": "python",
      "pygments_lexer": "ipython3",
      "version": "3.9.19"
    }
  },
  "nbformat": 4,
  "nbformat_minor": 0
}

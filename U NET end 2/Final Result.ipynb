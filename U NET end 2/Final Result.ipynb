{
  "cells": [
    {
      "cell_type": "code",
      "execution_count": 1,
      "metadata": {
        "id": "gxI4LLcnZqRN"
      },
      "outputs": [],
      "source": [
        "import pandas as pd\n",
        "import numpy as np\n",
        "import os\n",
        "import matplotlib.pyplot as plt\n",
        "import cv2"
      ]
    },
    {
      "cell_type": "code",
      "execution_count": 2,
      "metadata": {
        "id": "SY3XUmVsqEM1"
      },
      "outputs": [
        {
          "name": "stderr",
          "output_type": "stream",
          "text": [
            "2024-08-02 16:33:33.380278: I tensorflow/core/platform/cpu_feature_guard.cc:182] This TensorFlow binary is optimized to use available CPU instructions in performance-critical operations.\n",
            "To enable the following instructions: AVX2 FMA, in other operations, rebuild TensorFlow with the appropriate compiler flags.\n",
            "/home/igu/miniconda3/envs/ml/lib/python3.9/site-packages/requests/__init__.py:86: RequestsDependencyWarning: Unable to find acceptable character detection dependency (chardet or charset_normalizer).\n",
            "  warnings.warn(\n"
          ]
        }
      ],
      "source": [
        "from keras.models import Sequential, Model\n",
        "from keras.layers import Dense, Conv2D, MaxPooling2D, UpSampling2D, Input,Flatten,Reshape,AveragePooling2D,Dropout,LayerNormalization, ReLU,concatenate,Cropping2D, BatchNormalization\n",
        "from keras.datasets import mnist\n",
        "import tensorflow as tf\n",
        "\n",
        "import keras\n",
        "from keras import regularizers\n",
        "from tensorflow.keras.preprocessing.image import ImageDataGenerator\n",
        "from tensorflow.keras.callbacks import ModelCheckpoint\n"
      ]
    },
    {
      "cell_type": "code",
      "execution_count": 3,
      "metadata": {
        "colab": {
          "base_uri": "https://localhost:8080/",
          "height": 206
        },
        "id": "-owKNFD5ah24",
        "outputId": "adecb30f-3918-47dd-f02d-b8c94163f530"
      },
      "outputs": [
        {
          "data": {
            "text/html": [
              "<div>\n",
              "<style scoped>\n",
              "    .dataframe tbody tr th:only-of-type {\n",
              "        vertical-align: middle;\n",
              "    }\n",
              "\n",
              "    .dataframe tbody tr th {\n",
              "        vertical-align: top;\n",
              "    }\n",
              "\n",
              "    .dataframe thead th {\n",
              "        text-align: right;\n",
              "    }\n",
              "</style>\n",
              "<table border=\"1\" class=\"dataframe\">\n",
              "  <thead>\n",
              "    <tr style=\"text-align: right;\">\n",
              "      <th></th>\n",
              "      <th>jpg_file</th>\n",
              "      <th>txt_content</th>\n",
              "    </tr>\n",
              "  </thead>\n",
              "  <tbody>\n",
              "    <tr>\n",
              "      <th>0</th>\n",
              "      <td>009001.jpg</td>\n",
              "      <td>JW4CZF</td>\n",
              "    </tr>\n",
              "    <tr>\n",
              "      <th>1</th>\n",
              "      <td>009002.jpg</td>\n",
              "      <td>H27LCM</td>\n",
              "    </tr>\n",
              "    <tr>\n",
              "      <th>2</th>\n",
              "      <td>009003.jpg</td>\n",
              "      <td>1EF8W0</td>\n",
              "    </tr>\n",
              "    <tr>\n",
              "      <th>3</th>\n",
              "      <td>009004.jpg</td>\n",
              "      <td>HZ1HQE</td>\n",
              "    </tr>\n",
              "    <tr>\n",
              "      <th>4</th>\n",
              "      <td>009005.jpg</td>\n",
              "      <td>97CZ9Z</td>\n",
              "    </tr>\n",
              "  </tbody>\n",
              "</table>\n",
              "</div>"
            ],
            "text/plain": [
              "     jpg_file txt_content\n",
              "0  009001.jpg      JW4CZF\n",
              "1  009002.jpg      H27LCM\n",
              "2  009003.jpg      1EF8W0\n",
              "3  009004.jpg      HZ1HQE\n",
              "4  009005.jpg      97CZ9Z"
            ]
          },
          "execution_count": 3,
          "metadata": {},
          "output_type": "execute_result"
        }
      ],
      "source": [
        "image_path = '../dados/CAPTCHA-10k/teste'\n",
        "def generate_df(image_path):\n",
        "  label_path = '../dados/CAPTCHA-10k/labels10k'\n",
        "\n",
        "  jpg_files = [f for f in os.listdir(image_path) if f.endswith('.jpg')]\n",
        "  jpg_files.sort()\n",
        "  data = []\n",
        "\n",
        "  for jpg_file in jpg_files:\n",
        "      txt_file = os.path.splitext(jpg_file)[0] + '.txt'\n",
        "      txt_file_path = os.path.join(label_path, txt_file)\n",
        "\n",
        "      if os.path.exists(txt_file_path):\n",
        "          with open(txt_file_path, 'r') as file:\n",
        "              txt_content = file.read().strip()\n",
        "\n",
        "          data.append({'jpg_file': jpg_file, 'txt_content': txt_content})\n",
        "  return pd.DataFrame(data)\n",
        "\n",
        "df = generate_df(image_path)\n",
        "df.head()"
      ]
    },
    {
      "cell_type": "code",
      "execution_count": 4,
      "metadata": {},
      "outputs": [
        {
          "data": {
            "text/plain": [
              "array(['0', '1', '2', '3', '4', '5', '6', '7', '8', '9', '?', 'A', 'B',\n",
              "       'C', 'D', 'E', 'F', 'G', 'H', 'I', 'J', 'K', 'L', 'M', 'N', 'O',\n",
              "       'P', 'Q', 'R', 'S', 'T', 'U', 'V', 'W', 'X', 'Y', 'Z', ']'],\n",
              "      dtype='<U1')"
            ]
          },
          "execution_count": 4,
          "metadata": {},
          "output_type": "execute_result"
        }
      ],
      "source": [
        "vocab = [ '0', '1', '2', '3', '4', '5', '6', '7', '8', '9', '?', 'A', 'B',\n",
        "       'C', 'D', 'E', 'F', 'G', 'H', 'I', 'J', 'K', 'L', 'M', 'N', 'O',\n",
        "       'P', 'Q', 'R', 'S', 'T', 'U', 'V', 'W', 'X', 'Y', 'Z', ']']\n",
        "np.array(vocab)"
      ]
    },
    {
      "cell_type": "code",
      "execution_count": 5,
      "metadata": {},
      "outputs": [],
      "source": [
        "def preprocess(img):\n",
        "  kernel  = cv2.getStructuringElement(cv2.MORPH_RECT, (4, 4))\n",
        "  img     = cv2.morphologyEx(img, cv2.MORPH_CLOSE, kernel)\n",
        "  _, img  = cv2.threshold(img, 90, 255, cv2.THRESH_BINARY)\n",
        "  return img"
      ]
    },
    {
      "cell_type": "code",
      "execution_count": 6,
      "metadata": {
        "id": "zpd9GwIhpKMe"
      },
      "outputs": [],
      "source": [
        "def generate_X_Y(image_path):\n",
        "  df = generate_df(image_path)\n",
        "  X = [preprocess(cv2.imread(os.path.join(image_path, x),cv2.IMREAD_GRAYSCALE)) for x in df[\"jpg_file\"]]\n",
        "  X = np.array(X)\n",
        "  X = np.expand_dims(X, axis=-1)\n",
        "\n",
        "  X = X.astype('float32') / 255.\n",
        "  return X,df['txt_content']\n",
        "\n",
        "X_teste,labels_teste = generate_X_Y('../dados/CAPTCHA-10k/teste')"
      ]
    },
    {
      "cell_type": "code",
      "execution_count": 7,
      "metadata": {},
      "outputs": [
        {
          "data": {
            "text/plain": [
              "<matplotlib.image.AxesImage at 0x78694b4a4340>"
            ]
          },
          "execution_count": 7,
          "metadata": {},
          "output_type": "execute_result"
        },
        {
          "data": {
            "image/png": "[encoded data removed]",
            "text/plain": [
              "<Figure size 640x480 with 1 Axes>"
            ]
          },
          "metadata": {},
          "output_type": "display_data"
        }
      ],
      "source": [
        "plt.imshow(X_teste[0], cmap='gray')"
      ]
    },
    {
      "cell_type": "code",
      "execution_count": 8,
      "metadata": {},
      "outputs": [],
      "source": [
        "def rmse(y_true, y_pred):\n",
        "    return tf.sqrt(tf.reduce_mean(tf.square(y_pred - y_true)))\n",
        "\n",
        "def psnr(y_true, y_pred):\n",
        "    max_pixel = 1.0\n",
        "    return tf.image.psnr(y_true, y_pred, max_val=max_pixel)"
      ]
    },
    {
      "cell_type": "code",
      "execution_count": 9,
      "metadata": {},
      "outputs": [
        {
          "name": "stderr",
          "output_type": "stream",
          "text": [
            "2024-08-02 16:33:35.446560: I tensorflow/core/common_runtime/gpu/gpu_device.cc:1639] Created device /job:localhost/replica:0/task:0/device:GPU:0 with 1124 MB memory:  -> device: 0, name: NVIDIA GeForce RTX 4060 Ti, pci bus id: 0000:01:00.0, compute capability: 8.9\n"
          ]
        }
      ],
      "source": [
        "autoencoder = tf.keras.models.load_model('model_BCE_aug_best_unet.tf',custom_objects={\"rmse\": rmse,\"psnr\":psnr})\n",
        "classifier = tf.keras.models.load_model('classifier_full_trained_best.tf')"
      ]
    },
    {
      "cell_type": "code",
      "execution_count": 10,
      "metadata": {},
      "outputs": [
        {
          "name": "stderr",
          "output_type": "stream",
          "text": [
            "2024-08-02 16:33:39.236534: I tensorflow/compiler/xla/stream_executor/cuda/cuda_dnn.cc:432] Loaded cuDNN version 8907\n",
            "2024-08-02 16:33:39.737769: I tensorflow/compiler/xla/stream_executor/cuda/cuda_blas.cc:606] TensorFloat-32 will be used for the matrix multiplication. This will only be logged once.\n"
          ]
        },
        {
          "data": {
            "text/plain": [
              "<matplotlib.image.AxesImage at 0x786946713c10>"
            ]
          },
          "execution_count": 10,
          "metadata": {},
          "output_type": "execute_result"
        },
        {
          "data": {
            "image/png": "[encoded data removed]",
            "text/plain": [
              "<Figure size 640x480 with 1 Axes>"
            ]
          },
          "metadata": {},
          "output_type": "display_data"
        }
      ],
      "source": [
        "plt.imshow(autoencoder(X_teste[:1])[0],cmap=\"grey\")"
      ]
    },
    {
      "cell_type": "code",
      "execution_count": 11,
      "metadata": {},
      "outputs": [
        {
          "name": "stderr",
          "output_type": "stream",
          "text": [
            "2024-08-02 16:33:40.926865: W tensorflow/tsl/framework/bfc_allocator.cc:296] Allocator (GPU_0_bfc) ran out of memory trying to allocate 1.02GiB with freed_by_count=0. The caller indicates that this is not a failure, but this may mean that there could be performance gains if more memory were available.\n",
            "2024-08-02 16:33:41.338129: W tensorflow/tsl/framework/bfc_allocator.cc:296] Allocator (GPU_0_bfc) ran out of memory trying to allocate 1.21GiB with freed_by_count=0. The caller indicates that this is not a failure, but this may mean that there could be performance gains if more memory were available.\n"
          ]
        },
        {
          "name": "stdout",
          "output_type": "stream",
          "text": [
            "32/32 [==============================] - 3s 43ms/step\n"
          ]
        },
        {
          "name": "stderr",
          "output_type": "stream",
          "text": [
            "2024-08-02 16:33:43.690042: W tensorflow/tsl/framework/bfc_allocator.cc:296] Allocator (GPU_0_bfc) ran out of memory trying to allocate 1.72GiB with freed_by_count=0. The caller indicates that this is not a failure, but this may mean that there could be performance gains if more memory were available.\n"
          ]
        }
      ],
      "source": [
        "def inference(input_images):\n",
        "    # Forward pass through the autoencoder\n",
        "    autoencoder_output = autoencoder.predict(input_images)\n",
        "    predictions_list = []\n",
        "\n",
        "    interval = [0, 25, 50, 75, 100, 125, 150, 175]\n",
        "\n",
        "    for i in range(len(interval) - 1):\n",
        "        fake_img = autoencoder_output[:, :, interval[i]:interval[i + 1], :]\n",
        "        y_pred = classifier(fake_img, training=False)\n",
        "        predictions_list.append(y_pred)\n",
        "\n",
        "    # Concatenate predictions from all patches\n",
        "    predictions = tf.stack(predictions_list,axis=1)\n",
        "    predictions = tf.argmax(predictions, axis=2)  # Convert to class indices\n",
        "    return predictions.numpy()\n",
        "\n",
        "preds = inference(X_teste)"
      ]
    },
    {
      "cell_type": "code",
      "execution_count": 12,
      "metadata": {},
      "outputs": [],
      "source": [
        "vocab_tensor = np.array(vocab)"
      ]
    },
    {
      "cell_type": "code",
      "execution_count": 13,
      "metadata": {},
      "outputs": [],
      "source": [
        "all_preds = vocab_tensor[preds]\n",
        "words = [\"\".join(list(word)) for word in all_preds]\n",
        "words = [w.replace(\"]\",\"\") for w in words]\n",
        "df[\"preds\"] = words"
      ]
    },
    {
      "cell_type": "code",
      "execution_count": 14,
      "metadata": {},
      "outputs": [
        {
          "data": {
            "text/html": [
              "<div>\n",
              "<style scoped>\n",
              "    .dataframe tbody tr th:only-of-type {\n",
              "        vertical-align: middle;\n",
              "    }\n",
              "\n",
              "    .dataframe tbody tr th {\n",
              "        vertical-align: top;\n",
              "    }\n",
              "\n",
              "    .dataframe thead th {\n",
              "        text-align: right;\n",
              "    }\n",
              "</style>\n",
              "<table border=\"1\" class=\"dataframe\">\n",
              "  <thead>\n",
              "    <tr style=\"text-align: right;\">\n",
              "      <th></th>\n",
              "      <th>jpg_file</th>\n",
              "      <th>txt_content</th>\n",
              "      <th>preds</th>\n",
              "    </tr>\n",
              "  </thead>\n",
              "  <tbody>\n",
              "    <tr>\n",
              "      <th>0</th>\n",
              "      <td>009001.jpg</td>\n",
              "      <td>JW4CZF</td>\n",
              "      <td>JW4CZF</td>\n",
              "    </tr>\n",
              "    <tr>\n",
              "      <th>1</th>\n",
              "      <td>009002.jpg</td>\n",
              "      <td>H27LCM</td>\n",
              "      <td>H27LCM</td>\n",
              "    </tr>\n",
              "    <tr>\n",
              "      <th>2</th>\n",
              "      <td>009003.jpg</td>\n",
              "      <td>1EF8W0</td>\n",
              "      <td>1EF8W0</td>\n",
              "    </tr>\n",
              "    <tr>\n",
              "      <th>3</th>\n",
              "      <td>009004.jpg</td>\n",
              "      <td>HZ1HQE</td>\n",
              "      <td>HZ1HQE</td>\n",
              "    </tr>\n",
              "    <tr>\n",
              "      <th>4</th>\n",
              "      <td>009005.jpg</td>\n",
              "      <td>97CZ9Z</td>\n",
              "      <td>97CZ9Z</td>\n",
              "    </tr>\n",
              "  </tbody>\n",
              "</table>\n",
              "</div>"
            ],
            "text/plain": [
              "     jpg_file txt_content   preds\n",
              "0  009001.jpg      JW4CZF  JW4CZF\n",
              "1  009002.jpg      H27LCM  H27LCM\n",
              "2  009003.jpg      1EF8W0  1EF8W0\n",
              "3  009004.jpg      HZ1HQE  HZ1HQE\n",
              "4  009005.jpg      97CZ9Z  97CZ9Z"
            ]
          },
          "execution_count": 14,
          "metadata": {},
          "output_type": "execute_result"
        }
      ],
      "source": [
        "df.head()"
      ]
    },
    {
      "cell_type": "code",
      "execution_count": 15,
      "metadata": {},
      "outputs": [
        {
          "data": {
            "text/html": [
              "<div>\n",
              "<style scoped>\n",
              "    .dataframe tbody tr th:only-of-type {\n",
              "        vertical-align: middle;\n",
              "    }\n",
              "\n",
              "    .dataframe tbody tr th {\n",
              "        vertical-align: top;\n",
              "    }\n",
              "\n",
              "    .dataframe thead th {\n",
              "        text-align: right;\n",
              "    }\n",
              "</style>\n",
              "<table border=\"1\" class=\"dataframe\">\n",
              "  <thead>\n",
              "    <tr style=\"text-align: right;\">\n",
              "      <th></th>\n",
              "      <th>jpg_file</th>\n",
              "      <th>txt_content</th>\n",
              "      <th>preds</th>\n",
              "      <th>matches</th>\n",
              "    </tr>\n",
              "  </thead>\n",
              "  <tbody>\n",
              "    <tr>\n",
              "      <th>66</th>\n",
              "      <td>009067.jpg</td>\n",
              "      <td>WMB8YMN</td>\n",
              "      <td>WMBYMN</td>\n",
              "      <td>3</td>\n",
              "    </tr>\n",
              "    <tr>\n",
              "      <th>926</th>\n",
              "      <td>009927.jpg</td>\n",
              "      <td>N7ZS5W</td>\n",
              "      <td>N7ZDSW</td>\n",
              "      <td>4</td>\n",
              "    </tr>\n",
              "    <tr>\n",
              "      <th>70</th>\n",
              "      <td>009071.jpg</td>\n",
              "      <td>FVVTLX</td>\n",
              "      <td>FW7TLX</td>\n",
              "      <td>4</td>\n",
              "    </tr>\n",
              "    <tr>\n",
              "      <th>51</th>\n",
              "      <td>009052.jpg</td>\n",
              "      <td>WOFI0O</td>\n",
              "      <td>WDFIOO</td>\n",
              "      <td>4</td>\n",
              "    </tr>\n",
              "    <tr>\n",
              "      <th>152</th>\n",
              "      <td>009153.jpg</td>\n",
              "      <td>XW7OQW</td>\n",
              "      <td>XWVOQV</td>\n",
              "      <td>4</td>\n",
              "    </tr>\n",
              "    <tr>\n",
              "      <th>112</th>\n",
              "      <td>009113.jpg</td>\n",
              "      <td>URGBCI</td>\n",
              "      <td>URGBG1</td>\n",
              "      <td>4</td>\n",
              "    </tr>\n",
              "    <tr>\n",
              "      <th>937</th>\n",
              "      <td>009938.jpg</td>\n",
              "      <td>PVVR1W</td>\n",
              "      <td>PWWR1W</td>\n",
              "      <td>4</td>\n",
              "    </tr>\n",
              "    <tr>\n",
              "      <th>314</th>\n",
              "      <td>009315.jpg</td>\n",
              "      <td>RJHB0D</td>\n",
              "      <td>RJH8OD</td>\n",
              "      <td>4</td>\n",
              "    </tr>\n",
              "    <tr>\n",
              "      <th>371</th>\n",
              "      <td>009372.jpg</td>\n",
              "      <td>RWXEYF</td>\n",
              "      <td>RVVEYF</td>\n",
              "      <td>4</td>\n",
              "    </tr>\n",
              "    <tr>\n",
              "      <th>431</th>\n",
              "      <td>009432.jpg</td>\n",
              "      <td>DYDMLG</td>\n",
              "      <td>DYDM66</td>\n",
              "      <td>4</td>\n",
              "    </tr>\n",
              "    <tr>\n",
              "      <th>812</th>\n",
              "      <td>009813.jpg</td>\n",
              "      <td>DEHWHD</td>\n",
              "      <td>DEHWNO</td>\n",
              "      <td>4</td>\n",
              "    </tr>\n",
              "    <tr>\n",
              "      <th>207</th>\n",
              "      <td>009208.jpg</td>\n",
              "      <td>T0L08E</td>\n",
              "      <td>T0LO8F</td>\n",
              "      <td>4</td>\n",
              "    </tr>\n",
              "    <tr>\n",
              "      <th>338</th>\n",
              "      <td>009339.jpg</td>\n",
              "      <td>MVLXWL</td>\n",
              "      <td>MVEXWU</td>\n",
              "      <td>4</td>\n",
              "    </tr>\n",
              "    <tr>\n",
              "      <th>377</th>\n",
              "      <td>009378.jpg</td>\n",
              "      <td>CX1LC2</td>\n",
              "      <td>CX1LC3</td>\n",
              "      <td>5</td>\n",
              "    </tr>\n",
              "    <tr>\n",
              "      <th>136</th>\n",
              "      <td>009137.jpg</td>\n",
              "      <td>L7VW74</td>\n",
              "      <td>L7VWZ4</td>\n",
              "      <td>5</td>\n",
              "    </tr>\n",
              "    <tr>\n",
              "      <th>428</th>\n",
              "      <td>009429.jpg</td>\n",
              "      <td>QPJI9M</td>\n",
              "      <td>QPJT9M</td>\n",
              "      <td>5</td>\n",
              "    </tr>\n",
              "    <tr>\n",
              "      <th>552</th>\n",
              "      <td>009553.jpg</td>\n",
              "      <td>1FE681</td>\n",
              "      <td>1EE681</td>\n",
              "      <td>5</td>\n",
              "    </tr>\n",
              "    <tr>\n",
              "      <th>123</th>\n",
              "      <td>009124.jpg</td>\n",
              "      <td>E7IA2I</td>\n",
              "      <td>E7IA2T</td>\n",
              "      <td>5</td>\n",
              "    </tr>\n",
              "    <tr>\n",
              "      <th>902</th>\n",
              "      <td>009903.jpg</td>\n",
              "      <td>HOVCKZ</td>\n",
              "      <td>HOVOKZ</td>\n",
              "      <td>5</td>\n",
              "    </tr>\n",
              "    <tr>\n",
              "      <th>901</th>\n",
              "      <td>009902.jpg</td>\n",
              "      <td>IEVVYQ</td>\n",
              "      <td>IEVVJQ</td>\n",
              "      <td>5</td>\n",
              "    </tr>\n",
              "  </tbody>\n",
              "</table>\n",
              "</div>"
            ],
            "text/plain": [
              "       jpg_file txt_content   preds  matches\n",
              "66   009067.jpg     WMB8YMN  WMBYMN        3\n",
              "926  009927.jpg      N7ZS5W  N7ZDSW        4\n",
              "70   009071.jpg      FVVTLX  FW7TLX        4\n",
              "51   009052.jpg      WOFI0O  WDFIOO        4\n",
              "152  009153.jpg      XW7OQW  XWVOQV        4\n",
              "112  009113.jpg      URGBCI  URGBG1        4\n",
              "937  009938.jpg      PVVR1W  PWWR1W        4\n",
              "314  009315.jpg      RJHB0D  RJH8OD        4\n",
              "371  009372.jpg      RWXEYF  RVVEYF        4\n",
              "431  009432.jpg      DYDMLG  DYDM66        4\n",
              "812  009813.jpg      DEHWHD  DEHWNO        4\n",
              "207  009208.jpg      T0L08E  T0LO8F        4\n",
              "338  009339.jpg      MVLXWL  MVEXWU        4\n",
              "377  009378.jpg      CX1LC2  CX1LC3        5\n",
              "136  009137.jpg      L7VW74  L7VWZ4        5\n",
              "428  009429.jpg      QPJI9M  QPJT9M        5\n",
              "552  009553.jpg      1FE681  1EE681        5\n",
              "123  009124.jpg      E7IA2I  E7IA2T        5\n",
              "902  009903.jpg      HOVCKZ  HOVOKZ        5\n",
              "901  009902.jpg      IEVVYQ  IEVVJQ        5"
            ]
          },
          "execution_count": 15,
          "metadata": {},
          "output_type": "execute_result"
        }
      ],
      "source": [
        "def count_matches(row):\n",
        "    txt_content = row['txt_content']\n",
        "    pred = row['preds']\n",
        "    return sum(1 for a, b in zip(txt_content, pred) if a == b)\n",
        "\n",
        "# Apply the function to each row\n",
        "df['matches'] = df.apply(count_matches, axis=1)\n",
        "df.sort_values(by=\"matches\").head(20)"
      ]
    },
    {
      "cell_type": "code",
      "execution_count": 16,
      "metadata": {},
      "outputs": [
        {
          "data": {
            "image/png": "[encoded data removed]",
            "text/plain": [
              "<Figure size 1000x600 with 1 Axes>"
            ]
          },
          "metadata": {},
          "output_type": "display_data"
        }
      ],
      "source": [
        "match_counts = df['matches'].value_counts().sort_index()\n",
        "\n",
        "# Plot the bar plot\n",
        "plt.figure(figsize=(10, 6))\n",
        "plt.bar(match_counts.index, match_counts.values, color='skyblue')\n",
        "plt.xlabel('Number of Matches')\n",
        "plt.ylabel('Count')\n",
        "plt.title('Count of Matches per Row')\n",
        "plt.xticks(match_counts.index)  # Ensure x-axis labels match the match counts\n",
        "plt.grid(axis='y', linestyle='--')\n",
        "\n",
        "# Show the plot\n",
        "plt.show()"
      ]
    },
    {
      "cell_type": "code",
      "execution_count": 17,
      "metadata": {},
      "outputs": [
        {
          "data": {
            "text/plain": [
              "0.819"
            ]
          },
          "execution_count": 17,
          "metadata": {},
          "output_type": "execute_result"
        }
      ],
      "source": [
        "miss = (df[\"matches\"] != df[\"txt_content\"].str.len()).sum()\n",
        "acc = (len(df) - miss)/len(df)\n",
        "acc"
      ]
    },
    {
      "cell_type": "code",
      "execution_count": 18,
      "metadata": {},
      "outputs": [
        {
          "data": {
            "image/png": "[encoded data removed]",
            "text/plain": [
              "<Figure size 1000x600 with 1 Axes>"
            ]
          },
          "metadata": {},
          "output_type": "display_data"
        }
      ],
      "source": [
        "# Calculate recognition rates\n",
        "max_chars = df['txt_content'].map(len).max()\n",
        "recognition_rates = []\n",
        "\n",
        "for min_correct in range(1, max_chars + 1):\n",
        "    count_correct = df['matches'] >= min_correct\n",
        "    rate = count_correct.mean()\n",
        "    recognition_rates.append(rate)\n",
        "\n",
        "# Plot the recognition rates\n",
        "plt.figure(figsize=(10, 6))\n",
        "plt.axhline(y=acc, color='r', linestyle='--', label=f'Overall Accuracy: {acc:.2f}')\n",
        "plt.plot(range(1, max_chars + 1), recognition_rates, marker='o', color='skyblue', label='Recognition Rate')\n",
        "plt.xlabel('Minimum Number of Correct Characters')\n",
        "plt.ylabel('Recognition Rate')\n",
        "plt.title('Recognition Rate vs Minimum Number of Correct Characters')\n",
        "plt.grid(axis='y', linestyle='--')\n",
        "plt.ylim(0, 1)\n",
        "plt.xticks(range(1, max_chars + 1))\n",
        "plt.legend()\n",
        "plt.show()"
      ]
    }
  ],
  "metadata": {
    "accelerator": "GPU",
    "colab": {
      "gpuType": "T4",
      "provenance": []
    },
    "kernelspec": {
      "display_name": "Python 3",
      "name": "python3"
    },
    "language_info": {
      "codemirror_mode": {
        "name": "ipython",
        "version": 3
      },
      "file_extension": ".py",
      "mimetype": "text/x-python",
      "name": "python",
      "nbconvert_exporter": "python",
      "pygments_lexer": "ipython3",
      "version": "3.9.19"
    }
  },
  "nbformat": 4,
  "nbformat_minor": 0
}

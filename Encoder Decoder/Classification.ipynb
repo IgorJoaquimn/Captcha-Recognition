{
  "cells": [
    {
      "cell_type": "code",
      "execution_count": 41,
      "metadata": {
        "id": "gxI4LLcnZqRN"
      },
      "outputs": [],
      "source": [
        "import pandas as pd\n",
        "import numpy as np\n",
        "import os\n",
        "import matplotlib.pyplot as plt\n",
        "import cv2"
      ]
    },
    {
      "cell_type": "code",
      "execution_count": 42,
      "metadata": {
        "id": "SY3XUmVsqEM1"
      },
      "outputs": [],
      "source": [
        "from keras.models import Sequential, Model\n",
        "from keras.layers import Dense, Conv2D, MaxPooling2D, UpSampling2D, Input,Flatten,Reshape,AveragePooling2D,Dropout,LayerNormalization, ReLU,concatenate,Cropping2D, BatchNormalization\n",
        "from keras.datasets import mnist\n",
        "import tensorflow as tf\n",
        "\n",
        "import keras\n",
        "from keras import regularizers\n",
        "from tensorflow.keras.preprocessing.image import ImageDataGenerator\n",
        "from tensorflow.keras.callbacks import ModelCheckpoint\n"
      ]
    },
    {
      "cell_type": "code",
      "execution_count": 43,
      "metadata": {
        "colab": {
          "base_uri": "https://localhost:8080/"
        },
        "id": "dVhNVxxbZ6qj",
        "outputId": "1ac5b4e0-1aad-4cd1-f1a3-70c23c374ef6"
      },
      "outputs": [
        {
          "name": "stdout",
          "output_type": "stream",
          "text": [
            "/bin/bash: /home/igu/miniconda3/envs/ml/lib/python3.9/site-packages/cv2/../../../../lib/libtinfo.so.6: no version information available (required by /bin/bash)\n",
            "/bin/bash: /home/igu/miniconda3/envs/ml/lib/python3.9/site-packages/cv2/../../../../lib/libtinfo.so.6: no version information available (required by /bin/bash)\n",
            "unzip:  cannot find or open dados.zip?rlkey=lnqcb79vbu8j6cdbfgofogius, dados.zip?rlkey=lnqcb79vbu8j6cdbfgofogius.zip or dados.zip?rlkey=lnqcb79vbu8j6cdbfgofogius.ZIP.\n",
            "\n",
            "No zipfiles found.\n"
          ]
        }
      ],
      "source": [
        "!wget  -nc https://www.dropbox.com/scl/fi/uaiyxp0t2l8hfcszfadtj/dados.zip?rlkey=lnqcb79vbu8j6cdbfgofogius&dl=1\n",
        "!unzip -n -q dados.zip?rlkey=lnqcb79vbu8j6cdbfgofogius"
      ]
    },
    {
      "cell_type": "code",
      "execution_count": 44,
      "metadata": {
        "colab": {
          "base_uri": "https://localhost:8080/",
          "height": 206
        },
        "id": "-owKNFD5ah24",
        "outputId": "adecb30f-3918-47dd-f02d-b8c94163f530"
      },
      "outputs": [
        {
          "data": {
            "text/html": [
              "<div>\n",
              "<style scoped>\n",
              "    .dataframe tbody tr th:only-of-type {\n",
              "        vertical-align: middle;\n",
              "    }\n",
              "\n",
              "    .dataframe tbody tr th {\n",
              "        vertical-align: top;\n",
              "    }\n",
              "\n",
              "    .dataframe thead th {\n",
              "        text-align: right;\n",
              "    }\n",
              "</style>\n",
              "<table border=\"1\" class=\"dataframe\">\n",
              "  <thead>\n",
              "    <tr style=\"text-align: right;\">\n",
              "      <th></th>\n",
              "      <th>jpg_file</th>\n",
              "      <th>txt_content</th>\n",
              "    </tr>\n",
              "  </thead>\n",
              "  <tbody>\n",
              "    <tr>\n",
              "      <th>0</th>\n",
              "      <td>000001.jpg</td>\n",
              "      <td>RNINIC</td>\n",
              "    </tr>\n",
              "    <tr>\n",
              "      <th>1</th>\n",
              "      <td>000002.jpg</td>\n",
              "      <td>TVCFS8</td>\n",
              "    </tr>\n",
              "    <tr>\n",
              "      <th>2</th>\n",
              "      <td>000003.jpg</td>\n",
              "      <td>N1O1EH</td>\n",
              "    </tr>\n",
              "    <tr>\n",
              "      <th>3</th>\n",
              "      <td>000004.jpg</td>\n",
              "      <td>OQZSL4</td>\n",
              "    </tr>\n",
              "    <tr>\n",
              "      <th>4</th>\n",
              "      <td>000005.jpg</td>\n",
              "      <td>GST2YA</td>\n",
              "    </tr>\n",
              "  </tbody>\n",
              "</table>\n",
              "</div>"
            ],
            "text/plain": [
              "     jpg_file txt_content\n",
              "0  000001.jpg      RNINIC\n",
              "1  000002.jpg      TVCFS8\n",
              "2  000003.jpg      N1O1EH\n",
              "3  000004.jpg      OQZSL4\n",
              "4  000005.jpg      GST2YA"
            ]
          },
          "execution_count": 44,
          "metadata": {},
          "output_type": "execute_result"
        }
      ],
      "source": [
        "image_path = '../dados/CAPTCHA-10k/treinamento'\n",
        "def generate_df(image_path):\n",
        "  label_path = '../dados/CAPTCHA-10k/labels10k'\n",
        "\n",
        "  jpg_files = [f for f in os.listdir(image_path) if f.endswith('.jpg')]\n",
        "  jpg_files.sort()\n",
        "  data = []\n",
        "\n",
        "  for jpg_file in jpg_files:\n",
        "      txt_file = os.path.splitext(jpg_file)[0] + '.txt'\n",
        "      txt_file_path = os.path.join(label_path, txt_file)\n",
        "\n",
        "      if os.path.exists(txt_file_path):\n",
        "          with open(txt_file_path, 'r') as file:\n",
        "              txt_content = file.read().strip()\n",
        "\n",
        "          data.append({'jpg_file': jpg_file, 'txt_content': txt_content})\n",
        "  return pd.DataFrame(data)\n",
        "\n",
        "df = generate_df(image_path)\n",
        "df.head()"
      ]
    },
    {
      "cell_type": "code",
      "execution_count": 45,
      "metadata": {},
      "outputs": [
        {
          "data": {
            "text/html": [
              "<div>\n",
              "<style scoped>\n",
              "    .dataframe tbody tr th:only-of-type {\n",
              "        vertical-align: middle;\n",
              "    }\n",
              "\n",
              "    .dataframe tbody tr th {\n",
              "        vertical-align: top;\n",
              "    }\n",
              "\n",
              "    .dataframe thead th {\n",
              "        text-align: right;\n",
              "    }\n",
              "</style>\n",
              "<table border=\"1\" class=\"dataframe\">\n",
              "  <thead>\n",
              "    <tr style=\"text-align: right;\">\n",
              "      <th></th>\n",
              "      <th>jpg_file</th>\n",
              "      <th>txt_content</th>\n",
              "    </tr>\n",
              "  </thead>\n",
              "  <tbody>\n",
              "    <tr>\n",
              "      <th>6342</th>\n",
              "      <td>006343.jpg</td>\n",
              "      <td>Y4JS1VW</td>\n",
              "    </tr>\n",
              "    <tr>\n",
              "      <th>6741</th>\n",
              "      <td>006742.jpg</td>\n",
              "      <td>3TB9QOO</td>\n",
              "    </tr>\n",
              "    <tr>\n",
              "      <th>7180</th>\n",
              "      <td>007181.jpg</td>\n",
              "      <td>AMSML13</td>\n",
              "    </tr>\n",
              "  </tbody>\n",
              "</table>\n",
              "</div>"
            ],
            "text/plain": [
              "        jpg_file txt_content\n",
              "6342  006343.jpg     Y4JS1VW\n",
              "6741  006742.jpg     3TB9QOO\n",
              "7180  007181.jpg     AMSML13"
            ]
          },
          "execution_count": 45,
          "metadata": {},
          "output_type": "execute_result"
        }
      ],
      "source": [
        "df[df['txt_content'].str.len() == 7]"
      ]
    },
    {
      "cell_type": "code",
      "execution_count": 46,
      "metadata": {
        "colab": {
          "base_uri": "https://localhost:8080/"
        },
        "id": "ZOjGMcBJpcxt",
        "outputId": "abbf5544-6fdf-4684-ae99-cf322310b255"
      },
      "outputs": [
        {
          "data": {
            "text/plain": [
              "txt_content\n",
              "6    7997\n",
              "7       3\n",
              "Name: count, dtype: int64"
            ]
          },
          "execution_count": 46,
          "metadata": {},
          "output_type": "execute_result"
        }
      ],
      "source": [
        "df['txt_content'].str.len().value_counts()"
      ]
    },
    {
      "cell_type": "code",
      "execution_count": 47,
      "metadata": {},
      "outputs": [
        {
          "data": {
            "text/plain": [
              "array(['0', '1', '2', '3', '4', '5', '6', '7', '8', '9', '?', 'A', 'B',\n",
              "       'C', 'D', 'E', 'F', 'G', 'H', 'I', 'J', 'K', 'L', 'M', 'N', 'O',\n",
              "       'P', 'Q', 'R', 'S', 'T', 'U', 'V', 'W', 'X', 'Y', 'Z', '*'],\n",
              "      dtype='<U1')"
            ]
          },
          "execution_count": 47,
          "metadata": {},
          "output_type": "execute_result"
        }
      ],
      "source": [
        "vocab = np.unique(list(df['txt_content'].sum()))\n",
        "vocab = list(vocab)\n",
        "vocab.append(\"*\")\n",
        "np.array(vocab)"
      ]
    },
    {
      "cell_type": "code",
      "execution_count": 48,
      "metadata": {
        "id": "NGKSD3tFpvIH"
      },
      "outputs": [],
      "source": [
        "def generate_clean_captcha(text):\n",
        "    # Fixed parameters\n",
        "    size = (50, 180)\n",
        "    font = cv2.FONT_HERSHEY_SIMPLEX\n",
        "    font_scale = 1\n",
        "    font_thickness = 2\n",
        "    num_parts = 7\n",
        "\n",
        "    # Create a blank white image\n",
        "    image = np.ones((*size, 1), dtype=np.uint8) * 255  # White background\n",
        "\n",
        "    # Calculate positions for each part\n",
        "    part_width = size[1] / num_parts\n",
        "    vertical_positions = [int(part_width * i + part_width / 2) for i in range(num_parts)]\n",
        "    vertical_positions = vertical_positions[:len(text)]  # Adjust to the length of the text\n",
        "\n",
        "    # Calculate y position to center the text vertically\n",
        "    text_y = int((size[0] + cv2.getTextSize(text, font, font_scale, font_thickness)[0][1]) / 2)\n",
        "\n",
        "    # Draw each letter at the calculated position\n",
        "    for char, x in zip(text, vertical_positions):\n",
        "        char_size, _ = cv2.getTextSize(char, font, font_scale, font_thickness)\n",
        "        char_x = x - char_size[0] // 2  # Center the character horizontally within its part\n",
        "        cv2.putText(image, char, (char_x, text_y), font, font_scale, (0,), font_thickness, lineType=cv2.LINE_AA)\n",
        "    return image"
      ]
    },
    {
      "cell_type": "code",
      "execution_count": 49,
      "metadata": {},
      "outputs": [],
      "source": [
        "def preprocess(img):\n",
        "  kernel  = cv2.getStructuringElement(cv2.MORPH_RECT, (4, 4))\n",
        "  img     = cv2.morphologyEx(img, cv2.MORPH_CLOSE, kernel)\n",
        "  _, img  = cv2.threshold(img, 90, 255, cv2.THRESH_BINARY)\n",
        "  return img"
      ]
    },
    {
      "cell_type": "code",
      "execution_count": 50,
      "metadata": {
        "id": "zpd9GwIhpKMe"
      },
      "outputs": [],
      "source": [
        "def generate_X_Y(image_path):\n",
        "  df = generate_df(image_path)\n",
        "  X = [preprocess(cv2.imread(os.path.join(image_path, x),cv2.IMREAD_GRAYSCALE)) for x in df[\"jpg_file\"]]\n",
        "  X = np.array(X)\n",
        "  X = np.expand_dims(X, axis=-1)\n",
        "\n",
        "  Y = np.array([generate_clean_captcha(x) for x in df[\"txt_content\"]])\n",
        "  X = X.astype('float32') / 255.\n",
        "  Y = Y.astype('float32') / 255.\n",
        "\n",
        "  \n",
        "  return X,Y,df['txt_content']\n",
        "\n",
        "X_train, Y_train,labels_train = generate_X_Y('../dados/CAPTCHA-10k/treinamento')\n",
        "X_val, Y_val,labels_val = generate_X_Y('../dados/CAPTCHA-10k/validacao')"
      ]
    },
    {
      "cell_type": "code",
      "execution_count": 51,
      "metadata": {},
      "outputs": [
        {
          "data": {
            "text/plain": [
              "<matplotlib.image.AxesImage at 0x72b4be8d2b20>"
            ]
          },
          "execution_count": 51,
          "metadata": {},
          "output_type": "execute_result"
        },
        {
          "data": {
            "image/png": "[encoded data removed]",
            "text/plain": [
              "<Figure size 640x480 with 1 Axes>"
            ]
          },
          "metadata": {},
          "output_type": "display_data"
        }
      ],
      "source": [
        "plt.imshow(X_train[0], cmap='gray')"
      ]
    },
    {
      "cell_type": "code",
      "execution_count": 52,
      "metadata": {
        "colab": {
          "base_uri": "https://localhost:8080/",
          "height": 163
        },
        "id": "QBnc_yZxb-at",
        "outputId": "7287c59d-c697-4fbf-eae5-8b6d6b6adf26"
      },
      "outputs": [
        {
          "data": {
            "image/png": "[encoded data removed]",
            "text/plain": [
              "<Figure size 1000x500 with 2 Axes>"
            ]
          },
          "metadata": {},
          "output_type": "display_data"
        }
      ],
      "source": [
        "plt.figure(figsize=(10, 5))\n",
        "\n",
        "plt.subplot(1, 2, 1)\n",
        "plt.imshow(X_train[0], cmap='gray')\n",
        "\n",
        "# Display the corresponding Y_train[0]\n",
        "plt.subplot(1, 2, 2)\n",
        "plt.imshow(Y_train[0], cmap='gray')\n",
        "plt.show()"
      ]
    },
    {
      "cell_type": "code",
      "execution_count": 53,
      "metadata": {},
      "outputs": [],
      "source": [
        "def rmse(y_true, y_pred):\n",
        "    return tf.sqrt(tf.reduce_mean(tf.square(y_pred - y_true)))\n",
        "\n",
        "def psnr(y_true, y_pred):\n",
        "    max_pixel = 1.0\n",
        "    return tf.image.psnr(y_true, y_pred, max_val=max_pixel)"
      ]
    },
    {
      "cell_type": "code",
      "execution_count": 54,
      "metadata": {},
      "outputs": [],
      "source": [
        "autoencoder = tf.keras.models.load_model('model_BCE_aug_best_3.tf',custom_objects={\"rmse\": rmse,\"psnr\":psnr})"
      ]
    },
    {
      "cell_type": "code",
      "execution_count": 55,
      "metadata": {},
      "outputs": [
        {
          "name": "stdout",
          "output_type": "stream",
          "text": [
            "250/250 [==============================] - 12s 45ms/step\n",
            "32/32 [==============================] - 2s 45ms/step\n"
          ]
        }
      ],
      "source": [
        "Y_train_pred = autoencoder.predict(X_train)\n",
        "Y_val_pred = autoencoder.predict(X_val)"
      ]
    },
    {
      "cell_type": "code",
      "execution_count": 58,
      "metadata": {},
      "outputs": [
        {
          "ename": "AttributeError",
          "evalue": "'tuple' object has no attribute 'shape'",
          "output_type": "error",
          "traceback": [
            "\u001b[0;31m---------------------------------------------------------------------------\u001b[0m",
            "\u001b[0;31mAttributeError\u001b[0m                            Traceback (most recent call last)",
            "Cell \u001b[0;32mIn[58], line 1\u001b[0m\n\u001b[0;32m----> 1\u001b[0m \u001b[43mY_val_pred\u001b[49m\u001b[43m[\u001b[49m\u001b[43m:\u001b[49m\u001b[38;5;241;43m2\u001b[39;49m\u001b[43m]\u001b[49m\u001b[38;5;241;43m.\u001b[39;49m\u001b[43mshape\u001b[49m\u001b[38;5;241;43m.\u001b[39;49m\u001b[43mshape\u001b[49m[\u001b[38;5;241m2\u001b[39m]\n",
            "\u001b[0;31mAttributeError\u001b[0m: 'tuple' object has no attribute 'shape'"
          ]
        }
      ],
      "source": [
        "Y_val_pred[:2].shape.shape[2]"
      ]
    },
    {
      "cell_type": "code",
      "execution_count": 68,
      "metadata": {},
      "outputs": [],
      "source": [
        "from sklearn.preprocessing import OneHotEncoder\n",
        "\n",
        "def get_x_y_classification(X_pred, labels):\n",
        "    # Adjust labels if their length is not equal to 7\n",
        "    labels = labels.apply(lambda x: x + '*' if len(x) != 7 else x)\n",
        "\n",
        "    # Define bins\n",
        "    num_parts = 7\n",
        "    img_width = 180\n",
        "    bins = np.arange(0,180,180//7)\n",
        "\n",
        "    # Initialize lists to hold the split images and one-hot encoded labels\n",
        "    x = []\n",
        "    y = []\n",
        "\n",
        "    # One-hot encoder for labels\n",
        "    encoder = OneHotEncoder()\n",
        "\n",
        "    # Fit the encoder on the labels (unique characters)\n",
        "    unique_chars = set(''.join(labels))\n",
        "    encoder.fit(np.array(list(unique_chars)).reshape(-1, 1))\n",
        "\n",
        "    # Process each image and corresponding label\n",
        "    for img, label in zip(X_pred, labels):\n",
        "        # Split the image into 7 parts\n",
        "        for i in range(num_parts):\n",
        "            start, end = bins[i], bins[i + 1]\n",
        "            part_img = img[:, start:end,:]\n",
        "            x.append(part_img)\n",
        "\n",
        "            # One-hot encode the corresponding character\n",
        "            char = label[i]\n",
        "            one_hot = encoder.transform([[char]])[0]\n",
        "            y.append(one_hot.toarray())\n",
        "\n",
        "    # Convert lists to numpy arrays\n",
        "    x = np.array(x)\n",
        "    y = np.array(y)\n",
        "\n",
        "    return x, y\n",
        "\n",
        "X_train,Y_train = get_x_y_classification(Y_train_pred,labels_train)\n",
        "X_val,Y_val = get_x_y_classification(Y_val_pred,labels_val)"
      ]
    },
    {
      "cell_type": "code",
      "execution_count": 66,
      "metadata": {},
      "outputs": [
        {
          "data": {
            "image/png": "[encoded data removed]",
            "text/plain": [
              "<Figure size 1500x500 with 7 Axes>"
            ]
          },
          "metadata": {},
          "output_type": "display_data"
        }
      ],
      "source": [
        "bins = np.arange(0,180,180//7)\n",
        "\n",
        "# Create subplots\n",
        "num_bins = len(bins) - 1\n",
        "fig, axes = plt.subplots(1, num_bins, figsize=(15, 5))\n",
        "\n",
        "# Plot each bin separately\n",
        "for i in range(num_bins):\n",
        "    bin_start = bins[i]\n",
        "    bin_end = bins[i + 1]\n",
        "    bin_slice = Y_train_pred[0,:,bin_start:bin_end]\n",
        "    axes[i].imshow(bin_slice, cmap='gray')\n",
        "    axes[i].set_title(f'Bin {i+1}: {bin_start}-{bin_end}')\n",
        "plt.tight_layout()\n",
        "plt.show()"
      ]
    },
    {
      "cell_type": "code",
      "execution_count": 18,
      "metadata": {
        "id": "nmnJm6_VxcPe"
      },
      "outputs": [],
      "source": [
        "datagen = ImageDataGenerator(\n",
        "    rotation_range=0.1,\n",
        "    width_shift_range=0.1,\n",
        "    height_shift_range=0.05,\n",
        "    shear_range=0.1,\n",
        "    zoom_range=0.1,\n",
        "    horizontal_flip=False,\n",
        "    fill_mode='nearest'\n",
        ")\n",
        "\n",
        "datagen.fit(X_train)\n",
        "batch_size = 64\n",
        "augmented_data_generator = datagen.flow(X_train, Y_train, batch_size=batch_size)"
      ]
    },
    {
      "cell_type": "code",
      "execution_count": 19,
      "metadata": {},
      "outputs": [],
      "source": [
        "def conv_bn_relu(filters, kernel_size, strides=(1, 1), padding='same'):\n",
        "    def layer(x):\n",
        "        x = Conv2D(filters, kernel_size, strides=strides, padding=padding)(x)\n",
        "        x = BatchNormalization()(x)\n",
        "        x = ReLU()(x)\n",
        "        return x\n",
        "    return layer\n",
        "\n",
        "def crop(x1, x2):\n",
        "    # Crop x2 to the shape of x1\n",
        "    x1_shape = x1.shape\n",
        "    x2_shape = x2.shape\n",
        "    height_diff = x2_shape[1] - x1_shape[1]\n",
        "    width_diff = x2_shape[2] - x1_shape[2]\n",
        "\n",
        "    cropping = ((height_diff // 2, height_diff - height_diff // 2),\n",
        "                (width_diff // 2, width_diff - width_diff // 2))\n",
        "    x2_cropped = Cropping2D(cropping)(x2)\n",
        "    return x2_cropped"
      ]
    },
    {
      "cell_type": "code",
      "execution_count": 69,
      "metadata": {
        "id": "CO4vUj5cUNDE"
      },
      "outputs": [
        {
          "name": "stdout",
          "output_type": "stream",
          "text": [
            "Model: \"model_3\"\n",
            "_________________________________________________________________\n",
            " Layer (type)                Output Shape              Param #   \n",
            "=================================================================\n",
            " input_4 (InputLayer)        [(None, 50, 25, 1)]       0         \n",
            "                                                                 \n",
            " conv2d_54 (Conv2D)          (None, 50, 25, 64)        640       \n",
            "                                                                 \n",
            " batch_normalization_51 (Ba  (None, 50, 25, 64)        256       \n",
            " tchNormalization)                                               \n",
            "                                                                 \n",
            " re_lu_51 (ReLU)             (None, 50, 25, 64)        0         \n",
            "                                                                 \n",
            " conv2d_55 (Conv2D)          (None, 50, 25, 64)        36928     \n",
            "                                                                 \n",
            " batch_normalization_52 (Ba  (None, 50, 25, 64)        256       \n",
            " tchNormalization)                                               \n",
            "                                                                 \n",
            " re_lu_52 (ReLU)             (None, 50, 25, 64)        0         \n",
            "                                                                 \n",
            " conv2d_56 (Conv2D)          (None, 50, 25, 32)        18464     \n",
            "                                                                 \n",
            " batch_normalization_53 (Ba  (None, 50, 25, 32)        128       \n",
            " tchNormalization)                                               \n",
            "                                                                 \n",
            " re_lu_53 (ReLU)             (None, 50, 25, 32)        0         \n",
            "                                                                 \n",
            " conv2d_57 (Conv2D)          (None, 50, 25, 32)        9248      \n",
            "                                                                 \n",
            " batch_normalization_54 (Ba  (None, 50, 25, 32)        128       \n",
            " tchNormalization)                                               \n",
            "                                                                 \n",
            " re_lu_54 (ReLU)             (None, 50, 25, 32)        0         \n",
            "                                                                 \n",
            " conv2d_58 (Conv2D)          (None, 50, 25, 32)        9248      \n",
            "                                                                 \n",
            " batch_normalization_55 (Ba  (None, 50, 25, 32)        128       \n",
            " tchNormalization)                                               \n",
            "                                                                 \n",
            " re_lu_55 (ReLU)             (None, 50, 25, 32)        0         \n",
            "                                                                 \n",
            " max_pooling2d_12 (MaxPooli  (None, 25, 13, 32)        0         \n",
            " ng2D)                                                           \n",
            "                                                                 \n",
            " conv2d_59 (Conv2D)          (None, 25, 13, 32)        9248      \n",
            "                                                                 \n",
            " batch_normalization_56 (Ba  (None, 25, 13, 32)        128       \n",
            " tchNormalization)                                               \n",
            "                                                                 \n",
            " re_lu_56 (ReLU)             (None, 25, 13, 32)        0         \n",
            "                                                                 \n",
            " conv2d_60 (Conv2D)          (None, 25, 13, 32)        9248      \n",
            "                                                                 \n",
            " batch_normalization_57 (Ba  (None, 25, 13, 32)        128       \n",
            " tchNormalization)                                               \n",
            "                                                                 \n",
            " re_lu_57 (ReLU)             (None, 25, 13, 32)        0         \n",
            "                                                                 \n",
            " conv2d_61 (Conv2D)          (None, 25, 13, 32)        9248      \n",
            "                                                                 \n",
            " batch_normalization_58 (Ba  (None, 25, 13, 32)        128       \n",
            " tchNormalization)                                               \n",
            "                                                                 \n",
            " re_lu_58 (ReLU)             (None, 25, 13, 32)        0         \n",
            "                                                                 \n",
            " max_pooling2d_13 (MaxPooli  (None, 13, 7, 32)         0         \n",
            " ng2D)                                                           \n",
            "                                                                 \n",
            " conv2d_62 (Conv2D)          (None, 13, 7, 32)         9248      \n",
            "                                                                 \n",
            " batch_normalization_59 (Ba  (None, 13, 7, 32)         128       \n",
            " tchNormalization)                                               \n",
            "                                                                 \n",
            " re_lu_59 (ReLU)             (None, 13, 7, 32)         0         \n",
            "                                                                 \n",
            " conv2d_63 (Conv2D)          (None, 13, 7, 32)         9248      \n",
            "                                                                 \n",
            " batch_normalization_60 (Ba  (None, 13, 7, 32)         128       \n",
            " tchNormalization)                                               \n",
            "                                                                 \n",
            " re_lu_60 (ReLU)             (None, 13, 7, 32)         0         \n",
            "                                                                 \n",
            " conv2d_64 (Conv2D)          (None, 13, 7, 32)         9248      \n",
            "                                                                 \n",
            " batch_normalization_61 (Ba  (None, 13, 7, 32)         128       \n",
            " tchNormalization)                                               \n",
            "                                                                 \n",
            " re_lu_61 (ReLU)             (None, 13, 7, 32)         0         \n",
            "                                                                 \n",
            " max_pooling2d_14 (MaxPooli  (None, 7, 4, 32)          0         \n",
            " ng2D)                                                           \n",
            "                                                                 \n",
            " conv2d_65 (Conv2D)          (None, 7, 4, 32)          9248      \n",
            "                                                                 \n",
            " batch_normalization_62 (Ba  (None, 7, 4, 32)          128       \n",
            " tchNormalization)                                               \n",
            "                                                                 \n",
            " re_lu_62 (ReLU)             (None, 7, 4, 32)          0         \n",
            "                                                                 \n",
            " conv2d_66 (Conv2D)          (None, 7, 4, 32)          9248      \n",
            "                                                                 \n",
            " batch_normalization_63 (Ba  (None, 7, 4, 32)          128       \n",
            " tchNormalization)                                               \n",
            "                                                                 \n",
            " re_lu_63 (ReLU)             (None, 7, 4, 32)          0         \n",
            "                                                                 \n",
            " conv2d_67 (Conv2D)          (None, 7, 4, 32)          9248      \n",
            "                                                                 \n",
            " batch_normalization_64 (Ba  (None, 7, 4, 32)          128       \n",
            " tchNormalization)                                               \n",
            "                                                                 \n",
            " re_lu_64 (ReLU)             (None, 7, 4, 32)          0         \n",
            "                                                                 \n",
            " max_pooling2d_15 (MaxPooli  (None, 4, 2, 32)          0         \n",
            " ng2D)                                                           \n",
            "                                                                 \n",
            " conv2d_68 (Conv2D)          (None, 4, 2, 32)          9248      \n",
            "                                                                 \n",
            " batch_normalization_65 (Ba  (None, 4, 2, 32)          128       \n",
            " tchNormalization)                                               \n",
            "                                                                 \n",
            " re_lu_65 (ReLU)             (None, 4, 2, 32)          0         \n",
            "                                                                 \n",
            " conv2d_69 (Conv2D)          (None, 4, 2, 32)          9248      \n",
            "                                                                 \n",
            " batch_normalization_66 (Ba  (None, 4, 2, 32)          128       \n",
            " tchNormalization)                                               \n",
            "                                                                 \n",
            " re_lu_66 (ReLU)             (None, 4, 2, 32)          0         \n",
            "                                                                 \n",
            " conv2d_70 (Conv2D)          (None, 4, 2, 32)          9248      \n",
            "                                                                 \n",
            " batch_normalization_67 (Ba  (None, 4, 2, 32)          128       \n",
            " tchNormalization)                                               \n",
            "                                                                 \n",
            " re_lu_67 (ReLU)             (None, 4, 2, 32)          0         \n",
            "                                                                 \n",
            " conv2d_71 (Conv2D)          (None, 4, 2, 16)          528       \n",
            "                                                                 \n",
            " flatten_3 (Flatten)         (None, 128)               0         \n",
            "                                                                 \n",
            " dense_6 (Dense)             (None, 64)                8256      \n",
            "                                                                 \n",
            " dense_7 (Dense)             (None, 38)                2470      \n",
            "                                                                 \n",
            "=================================================================\n",
            "Total params: 199190 (778.09 KB)\n",
            "Trainable params: 197974 (773.34 KB)\n",
            "Non-trainable params: 1216 (4.75 KB)\n",
            "_________________________________________________________________\n"
          ]
        }
      ],
      "source": [
        "def classifier(input_img, num_blocks=1, num_downsample=3,n_out = 38):\n",
        "    x = input_img\n",
        "\n",
        "    for _ in range(2):\n",
        "        x = conv_bn_relu(64, (3, 3))(x)\n",
        "\n",
        "    # Contracting path\n",
        "    for _ in range(num_downsample):\n",
        "        for _ in range(num_blocks):\n",
        "            x = conv_bn_relu(32, (3, 3))(x)\n",
        "        x = MaxPooling2D((2, 2), padding='same')(x)\n",
        "    \n",
        "    # Bottleneck\n",
        "    for _ in range(num_blocks):\n",
        "        x = conv_bn_relu(32, (3, 3))(x)\n",
        "    x = Conv2D(16, (1, 1), activation='relu')(x)\n",
        "\n",
        "    x = Flatten()(x)\n",
        "    x = Dense(64, activation='relu')(x)\n",
        "    output = Dense(n_out, activation='softmax')(x)\n",
        "\n",
        "    return tf.keras.Model(inputs=input_img, outputs=output)\n",
        "\n",
        "\n",
        "input_shape = X_train.shape[1:]  # Example input shape\n",
        "input_img = Input(shape=input_shape)\n",
        "model = classifier(input_img, num_blocks=3, num_downsample=4)\n",
        "model.compile(optimizer='adam', loss=tf.keras.losses.SparseCategoricalCrossentropy(from_logits=False), metrics=['accuracy'])\n",
        "model.summary()"
      ]
    },
    {
      "cell_type": "code",
      "execution_count": null,
      "metadata": {},
      "outputs": [],
      "source": [
        "keras.utils.plot_model(model, to_file=\"here.png\", show_shapes=True)"
      ]
    },
    {
      "cell_type": "code",
      "execution_count": null,
      "metadata": {
        "id": "qEeK5i-XosYB"
      },
      "outputs": [],
      "source": [
        "checkpoint = ModelCheckpoint(\n",
        "    'classifier_aug_best.tf',\n",
        "    monitor='val_rmse',  # Use 'val_loss' as an approximation of RMSE if the metric isn't directly available\n",
        "    save_best_only=True,\n",
        "    mode='min',\n",
        "    verbose=1\n",
        ")"
      ]
    },
    {
      "cell_type": "code",
      "execution_count": null,
      "metadata": {
        "colab": {
          "base_uri": "https://localhost:8080/"
        },
        "id": "j-ky9n_4VO2g",
        "outputId": "4dc87997-1d28-4a42-c4b1-470ad68ffb87"
      },
      "outputs": [
        {
          "name": "stdout",
          "output_type": "stream",
          "text": [
            "Epoch 1/150\n"
          ]
        },
        {
          "name": "stderr",
          "output_type": "stream",
          "text": [
            "2024-07-19 16:38:30.485616: I tensorflow/compiler/xla/stream_executor/cuda/cuda_dnn.cc:432] Loaded cuDNN version 8907\n",
            "2024-07-19 16:38:31.859150: I tensorflow/compiler/xla/stream_executor/cuda/cuda_blas.cc:606] TensorFloat-32 will be used for the matrix multiplication. This will only be logged once.\n",
            "2024-07-19 16:38:32.579140: I tensorflow/compiler/xla/service/service.cc:168] XLA service 0x798804d082c0 initialized for platform CUDA (this does not guarantee that XLA will be used). Devices:\n",
            "2024-07-19 16:38:32.579168: I tensorflow/compiler/xla/service/service.cc:176]   StreamExecutor device (0): NVIDIA GeForce RTX 4060 Ti, Compute Capability 8.9\n",
            "2024-07-19 16:38:32.583315: I tensorflow/compiler/mlir/tensorflow/utils/dump_mlir_util.cc:255] disabling MLIR crash reproducer, set env var `MLIR_CRASH_REPRODUCER_DIRECTORY` to enable.\n",
            "2024-07-19 16:38:32.697820: I ./tensorflow/compiler/jit/device_compiler.h:186] Compiled cluster using XLA!  This line is logged at most once for the lifetime of the process.\n"
          ]
        }
      ],
      "source": [
        "history = model.fit(augmented_data_generator,\n",
        "                steps_per_epoch=len(X_train) // batch_size,\n",
        "                epochs=150,\n",
        "                batch_size=batch_size,\n",
        "                shuffle=True,\n",
        "                callbacks=[checkpoint],\n",
        "                validation_data=(X_val, Y_val))"
      ]
    },
    {
      "cell_type": "code",
      "execution_count": 70,
      "metadata": {
        "colab": {
          "base_uri": "https://localhost:8080/"
        },
        "id": "bycR9-wTXadc",
        "outputId": "0e31fc0a-d09e-469e-f618-f65186cfea00"
      },
      "outputs": [
        {
          "name": "stdout",
          "output_type": "stream",
          "text": [
            "1750/1750 [==============================] - 6s 3ms/step\n",
            "219/219 [==============================] - 1s 3ms/step\n"
          ]
        }
      ],
      "source": [
        "Y_train_pred = model.predict(X_train)\n",
        "Y_val_pred = model.predict(X_val)"
      ]
    },
    {
      "cell_type": "code",
      "execution_count": 71,
      "metadata": {},
      "outputs": [],
      "source": [
        "def one_hot_to_class_indices(one_hot_labels):\n",
        "    return np.argmax(one_hot_labels, axis=-1)"
      ]
    },
    {
      "cell_type": "code",
      "execution_count": 74,
      "metadata": {},
      "outputs": [
        {
          "name": "stdout",
          "output_type": "stream",
          "text": [
            "Classification Accuracy: 0.023428571428571427\n"
          ]
        }
      ],
      "source": [
        "from sklearn.metrics import accuracy_score,classification_report\n",
        "\n",
        "# Convert one-hot encoded labels to class indices for true labels\n",
        "Y_val_class_indices = np.argmax(Y_val, axis=-1)\n",
        "\n",
        "# Convert predictions to class indices\n",
        "Y_val_pred_class_indices = np.argmax(Y_val_pred, axis=-1)\n",
        "\n",
        "# Compute accuracy\n",
        "accuracy = accuracy_score(Y_val_class_indices, Y_val_pred_class_indices)\n",
        "print(f'Classification Accuracy: {accuracy}')"
      ]
    },
    {
      "cell_type": "code",
      "execution_count": 90,
      "metadata": {},
      "outputs": [
        {
          "name": "stdout",
          "output_type": "stream",
          "text": [
            "Class 0:\n",
            "  Precision: 0.00\n",
            "  Recall: 0.00\n",
            "  F1-score: 0.00\n",
            "  Support: 999.00\n",
            "\n",
            "Class 1:\n",
            "  Precision: 0.00\n",
            "  Recall: 0.00\n",
            "  F1-score: 0.00\n",
            "  Support: 184.00\n",
            "\n",
            "Class 2:\n",
            "  Precision: 0.00\n",
            "  Recall: 0.00\n",
            "  F1-score: 0.00\n",
            "  Support: 198.00\n",
            "\n",
            "Class 3:\n",
            "  Precision: 0.00\n",
            "  Recall: 0.00\n",
            "  F1-score: 0.00\n",
            "  Support: 162.00\n",
            "\n",
            "Class 4:\n",
            "  Precision: 0.00\n",
            "  Recall: 0.00\n",
            "  F1-score: 0.00\n",
            "  Support: 138.00\n",
            "\n",
            "Class 5:\n",
            "  Precision: 0.00\n",
            "  Recall: 0.00\n",
            "  F1-score: 0.00\n",
            "  Support: 153.00\n",
            "\n",
            "Class 6:\n",
            "  Precision: 0.00\n",
            "  Recall: 0.00\n",
            "  F1-score: 0.00\n",
            "  Support: 161.00\n",
            "\n",
            "Class 7:\n",
            "  Precision: 0.00\n",
            "  Recall: 0.00\n",
            "  F1-score: 0.00\n",
            "  Support: 175.00\n",
            "\n",
            "Class 8:\n",
            "  Precision: 0.00\n",
            "  Recall: 0.00\n",
            "  F1-score: 0.00\n",
            "  Support: 189.00\n",
            "\n",
            "Class 9:\n",
            "  Precision: 0.00\n",
            "  Recall: 0.00\n",
            "  F1-score: 0.00\n",
            "  Support: 147.00\n",
            "\n",
            "Class ?:\n",
            "  Precision: 0.00\n",
            "  Recall: 0.00\n",
            "  F1-score: 0.00\n",
            "  Support: 150.00\n",
            "\n",
            "Class A:\n",
            "  Precision: 0.00\n",
            "  Recall: 0.00\n",
            "  F1-score: 0.00\n",
            "  Support: 150.00\n",
            "\n",
            "Class B:\n",
            "  Precision: 0.00\n",
            "  Recall: 0.00\n",
            "  F1-score: 0.00\n",
            "  Support: 161.00\n",
            "\n",
            "Class C:\n",
            "  Precision: 0.00\n",
            "  Recall: 0.00\n",
            "  F1-score: 0.00\n",
            "  Support: 161.00\n",
            "\n",
            "Class D:\n",
            "  Precision: 0.00\n",
            "  Recall: 0.00\n",
            "  F1-score: 0.00\n",
            "  Support: 183.00\n",
            "\n",
            "Class E:\n",
            "  Precision: 0.00\n",
            "  Recall: 0.00\n",
            "  F1-score: 0.00\n",
            "  Support: 147.00\n",
            "\n",
            "Class F:\n",
            "  Precision: 0.00\n",
            "  Recall: 0.00\n",
            "  F1-score: 0.00\n",
            "  Support: 178.00\n",
            "\n",
            "Class G:\n",
            "  Precision: 0.00\n",
            "  Recall: 0.00\n",
            "  F1-score: 0.00\n",
            "  Support: 188.00\n",
            "\n",
            "Class H:\n",
            "  Precision: 0.00\n",
            "  Recall: 0.00\n",
            "  F1-score: 0.00\n",
            "  Support: 176.00\n",
            "\n",
            "Class I:\n",
            "  Precision: 0.00\n",
            "  Recall: 0.00\n",
            "  F1-score: 0.00\n",
            "  Support: 166.00\n",
            "\n",
            "Class J:\n",
            "  Precision: 0.00\n",
            "  Recall: 0.00\n",
            "  F1-score: 0.00\n",
            "  Support: 177.00\n",
            "\n",
            "Class K:\n",
            "  Precision: 0.00\n",
            "  Recall: 0.00\n",
            "  F1-score: 0.00\n",
            "  Support: 161.00\n",
            "\n",
            "Class L:\n",
            "  Precision: 0.00\n",
            "  Recall: 0.00\n",
            "  F1-score: 0.00\n",
            "  Support: 160.00\n",
            "\n",
            "Class M:\n",
            "  Precision: 0.02\n",
            "  Recall: 1.00\n",
            "  F1-score: 0.05\n",
            "  Support: 164.00\n",
            "\n",
            "Class N:\n",
            "  Precision: 0.00\n",
            "  Recall: 0.00\n",
            "  F1-score: 0.00\n",
            "  Support: 168.00\n",
            "\n",
            "Class O:\n",
            "  Precision: 0.00\n",
            "  Recall: 0.00\n",
            "  F1-score: 0.00\n",
            "  Support: 180.00\n",
            "\n",
            "Class P:\n",
            "  Precision: 0.00\n",
            "  Recall: 0.00\n",
            "  F1-score: 0.00\n",
            "  Support: 173.00\n",
            "\n",
            "Class Q:\n",
            "  Precision: 0.00\n",
            "  Recall: 0.00\n",
            "  F1-score: 0.00\n",
            "  Support: 150.00\n",
            "\n",
            "Class R:\n",
            "  Precision: 0.00\n",
            "  Recall: 0.00\n",
            "  F1-score: 0.00\n",
            "  Support: 152.00\n",
            "\n",
            "Class S:\n",
            "  Precision: 0.00\n",
            "  Recall: 0.00\n",
            "  F1-score: 0.00\n",
            "  Support: 195.00\n",
            "\n",
            "Class T:\n",
            "  Precision: 0.00\n",
            "  Recall: 0.00\n",
            "  F1-score: 0.00\n",
            "  Support: 145.00\n",
            "\n",
            "Class U:\n",
            "  Precision: 0.00\n",
            "  Recall: 0.00\n",
            "  F1-score: 0.00\n",
            "  Support: 194.00\n",
            "\n",
            "Class V:\n",
            "  Precision: 0.00\n",
            "  Recall: 0.00\n",
            "  F1-score: 0.00\n",
            "  Support: 156.00\n",
            "\n",
            "Class W:\n",
            "  Precision: 0.00\n",
            "  Recall: 0.00\n",
            "  F1-score: 0.00\n",
            "  Support: 159.00\n",
            "\n",
            "Class X:\n",
            "  Precision: 0.00\n",
            "  Recall: 0.00\n",
            "  F1-score: 0.00\n",
            "  Support: 191.00\n",
            "\n",
            "Class Y:\n",
            "  Precision: 0.00\n",
            "  Recall: 0.00\n",
            "  F1-score: 0.00\n",
            "  Support: 170.00\n",
            "\n",
            "Class Z:\n",
            "  Precision: 0.00\n",
            "  Recall: 0.00\n",
            "  F1-score: 0.00\n",
            "  Support: 139.00\n",
            "\n",
            "accuracy 0.023428571428571427\n",
            "macro avg {'precision': 0.0006332046332046332, 'recall': 0.02702702702702703, 'f1-score': 0.0012374183228454586, 'support': 7000.0}\n",
            "weighted avg {'precision': 0.0005488979591836735, 'recall': 0.023428571428571427, 'f1-score': 0.0010726649118608918, 'support': 7000.0}\n"
          ]
        }
      ],
      "source": [
        "report = classification_report(Y_val_class_indices, Y_val_pred_class_indices, output_dict=True, zero_division=0)\n",
        "for label, metrics in report.items():\n",
        "    if label.isdecimal():\n",
        "        print(f'Class {vocab[int(label)]}:')\n",
        "        print(f\"  Precision: {metrics['precision']:.2f}\")\n",
        "        print(f\"  Recall: {metrics['recall']:.2f}\")\n",
        "        print(f\"  F1-score: {metrics['f1-score']:.2f}\")\n",
        "        print(f\"  Support: {metrics['support']:.2f}\\n\")\n",
        "    else:\n",
        "        print(label,metrics)\n"
      ]
    },
    {
      "cell_type": "code",
      "execution_count": null,
      "metadata": {
        "id": "22zephHittkg"
      },
      "outputs": [],
      "source": [
        "model.save('classifier_aug_best.keras')"
      ]
    }
  ],
  "metadata": {
    "accelerator": "GPU",
    "colab": {
      "gpuType": "T4",
      "provenance": []
    },
    "kernelspec": {
      "display_name": "Python 3",
      "name": "python3"
    },
    "language_info": {
      "codemirror_mode": {
        "name": "ipython",
        "version": 3
      },
      "file_extension": ".py",
      "mimetype": "text/x-python",
      "name": "python",
      "nbconvert_exporter": "python",
      "pygments_lexer": "ipython3",
      "version": "3.9.19"
    }
  },
  "nbformat": 4,
  "nbformat_minor": 0
}

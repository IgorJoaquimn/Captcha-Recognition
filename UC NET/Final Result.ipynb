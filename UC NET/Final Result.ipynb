{
  "cells": [
    {
      "cell_type": "code",
      "execution_count": 39,
      "metadata": {
        "id": "gxI4LLcnZqRN"
      },
      "outputs": [],
      "source": [
        "import pandas as pd\n",
        "import numpy as np\n",
        "import os\n",
        "import matplotlib.pyplot as plt\n",
        "import cv2\n",
        "import seaborn as sns"
      ]
    },
    {
      "cell_type": "code",
      "execution_count": 2,
      "metadata": {
        "id": "SY3XUmVsqEM1"
      },
      "outputs": [
        {
          "name": "stderr",
          "output_type": "stream",
          "text": [
            "2024-07-20 20:43:22.282915: I tensorflow/core/platform/cpu_feature_guard.cc:182] This TensorFlow binary is optimized to use available CPU instructions in performance-critical operations.\n",
            "To enable the following instructions: AVX2 FMA, in other operations, rebuild TensorFlow with the appropriate compiler flags.\n",
            "/home/igu/miniconda3/envs/ml/lib/python3.9/site-packages/requests/__init__.py:86: RequestsDependencyWarning: Unable to find acceptable character detection dependency (chardet or charset_normalizer).\n",
            "  warnings.warn(\n"
          ]
        }
      ],
      "source": [
        "from keras.models import Sequential, Model\n",
        "from keras.layers import Dense, Conv2D, MaxPooling2D, UpSampling2D, Input,Flatten,Reshape,Embedding, ReLU,concatenate,Cropping2D, BatchNormalization\n",
        "\n",
        "from keras.datasets import mnist\n",
        "import tensorflow as tf\n",
        "\n",
        "import keras\n",
        "from keras import regularizers\n",
        "from tensorflow.keras.preprocessing.image import ImageDataGenerator\n",
        "from tensorflow.keras.callbacks import ModelCheckpoint\n"
      ]
    },
    {
      "cell_type": "code",
      "execution_count": 3,
      "metadata": {
        "colab": {
          "base_uri": "https://localhost:8080/",
          "height": 206
        },
        "id": "-owKNFD5ah24",
        "outputId": "adecb30f-3918-47dd-f02d-b8c94163f530"
      },
      "outputs": [
        {
          "data": {
            "text/html": [
              "<div>\n",
              "<style scoped>\n",
              "    .dataframe tbody tr th:only-of-type {\n",
              "        vertical-align: middle;\n",
              "    }\n",
              "\n",
              "    .dataframe tbody tr th {\n",
              "        vertical-align: top;\n",
              "    }\n",
              "\n",
              "    .dataframe thead th {\n",
              "        text-align: right;\n",
              "    }\n",
              "</style>\n",
              "<table border=\"1\" class=\"dataframe\">\n",
              "  <thead>\n",
              "    <tr style=\"text-align: right;\">\n",
              "      <th></th>\n",
              "      <th>jpg_file</th>\n",
              "      <th>txt_content</th>\n",
              "    </tr>\n",
              "  </thead>\n",
              "  <tbody>\n",
              "    <tr>\n",
              "      <th>0</th>\n",
              "      <td>009001.jpg</td>\n",
              "      <td>JW4CZF</td>\n",
              "    </tr>\n",
              "    <tr>\n",
              "      <th>1</th>\n",
              "      <td>009002.jpg</td>\n",
              "      <td>H27LCM</td>\n",
              "    </tr>\n",
              "    <tr>\n",
              "      <th>2</th>\n",
              "      <td>009003.jpg</td>\n",
              "      <td>1EF8W0</td>\n",
              "    </tr>\n",
              "    <tr>\n",
              "      <th>3</th>\n",
              "      <td>009004.jpg</td>\n",
              "      <td>HZ1HQE</td>\n",
              "    </tr>\n",
              "    <tr>\n",
              "      <th>4</th>\n",
              "      <td>009005.jpg</td>\n",
              "      <td>97CZ9Z</td>\n",
              "    </tr>\n",
              "  </tbody>\n",
              "</table>\n",
              "</div>"
            ],
            "text/plain": [
              "     jpg_file txt_content\n",
              "0  009001.jpg      JW4CZF\n",
              "1  009002.jpg      H27LCM\n",
              "2  009003.jpg      1EF8W0\n",
              "3  009004.jpg      HZ1HQE\n",
              "4  009005.jpg      97CZ9Z"
            ]
          },
          "execution_count": 3,
          "metadata": {},
          "output_type": "execute_result"
        }
      ],
      "source": [
        "image_path = '../dados/CAPTCHA-10k/teste'\n",
        "def generate_df(image_path):\n",
        "  label_path = '../dados/CAPTCHA-10k/labels10k'\n",
        "\n",
        "  jpg_files = [f for f in os.listdir(image_path) if f.endswith('.jpg')]\n",
        "  jpg_files.sort()\n",
        "  data = []\n",
        "\n",
        "  for jpg_file in jpg_files:\n",
        "      txt_file = os.path.splitext(jpg_file)[0] + '.txt'\n",
        "      txt_file_path = os.path.join(label_path, txt_file)\n",
        "\n",
        "      if os.path.exists(txt_file_path):\n",
        "          with open(txt_file_path, 'r') as file:\n",
        "              txt_content = file.read().strip()\n",
        "\n",
        "          data.append({'jpg_file': jpg_file, 'txt_content': txt_content})\n",
        "  return pd.DataFrame(data)\n",
        "\n",
        "df = generate_df(image_path)\n",
        "df.head()"
      ]
    },
    {
      "cell_type": "code",
      "execution_count": 4,
      "metadata": {
        "colab": {
          "base_uri": "https://localhost:8080/"
        },
        "id": "ZOjGMcBJpcxt",
        "outputId": "abbf5544-6fdf-4684-ae99-cf322310b255"
      },
      "outputs": [
        {
          "data": {
            "text/plain": [
              "txt_content\n",
              "6    999\n",
              "7      1\n",
              "Name: count, dtype: int64"
            ]
          },
          "execution_count": 4,
          "metadata": {},
          "output_type": "execute_result"
        }
      ],
      "source": [
        "df['txt_content'].str.len().value_counts()"
      ]
    },
    {
      "cell_type": "code",
      "execution_count": 5,
      "metadata": {},
      "outputs": [
        {
          "data": {
            "text/plain": [
              "array(['0', '1', '2', '3', '4', '5', '6', '7', '8', '9', '?', 'A', 'B',\n",
              "       'C', 'D', 'E', 'F', 'G', 'H', 'I', 'J', 'K', 'L', 'M', 'N', 'O',\n",
              "       'P', 'Q', 'R', 'S', 'T', 'U', 'V', 'W', 'X', 'Y', 'Z', '*'],\n",
              "      dtype='<U1')"
            ]
          },
          "execution_count": 5,
          "metadata": {},
          "output_type": "execute_result"
        }
      ],
      "source": [
        "vocab = ['0', '1', '2', '3', '4', '5', '6', '7', '8', '9', '?', 'A', 'B',\n",
        "       'C', 'D', 'E', 'F', 'G', 'H', 'I', 'J', 'K', 'L', 'M', 'N', 'O',\n",
        "       'P', 'Q', 'R', 'S', 'T', 'U', 'V', 'W', 'X', 'Y', 'Z', '*']\n",
        "np.array(vocab)"
      ]
    },
    {
      "cell_type": "code",
      "execution_count": 6,
      "metadata": {},
      "outputs": [],
      "source": [
        "def preprocess(img):\n",
        "  kernel  = cv2.getStructuringElement(cv2.MORPH_RECT, (4, 4))\n",
        "  img     = cv2.morphologyEx(img, cv2.MORPH_CLOSE, kernel)\n",
        "  _, img  = cv2.threshold(img, 90, 255, cv2.THRESH_BINARY)\n",
        "  return img"
      ]
    },
    {
      "cell_type": "code",
      "execution_count": 7,
      "metadata": {},
      "outputs": [],
      "source": [
        "def generate_X_Y(image_path):\n",
        "  df = generate_df(image_path)\n",
        "\n",
        "  df[\"index\"] = [f\"{i}\" for i in range(len(df))]\n",
        "  file_index = (df[\"index\"] + \" \") * df['txt_content'].str.len()\n",
        "  file_index = file_index.sum().split(\" \")\n",
        "  file_index = [int(x) for x in file_index if x] \n",
        "\n",
        "  X = [preprocess(cv2.imread(os.path.join(image_path, x),cv2.IMREAD_GRAYSCALE)) for x in df[\"jpg_file\"]]\n",
        "  X = np.array(X)\n",
        "  X = np.expand_dims(X, axis=-1)\n",
        "\n",
        "\n",
        "  X   = X[file_index]\n",
        "  pos = np.array([i for text in df[\"txt_content\"] for i,char in enumerate(text)]).reshape(-1,1)\n",
        "  \n",
        "  rows = []\n",
        "  for row_index, text in enumerate(df[\"txt_content\"]):\n",
        "      for char_index, char in enumerate(text):\n",
        "         rows.append(row_index)\n",
        "\n",
        "\n",
        "  X = X.astype('float32') / 255.\n",
        "  return X,pos,rows\n",
        "\n",
        "X_teste,pos_teste,rows_teste = generate_X_Y('../dados/CAPTCHA-10k/teste')"
      ]
    },
    {
      "cell_type": "code",
      "execution_count": 8,
      "metadata": {},
      "outputs": [
        {
          "data": {
            "text/plain": [
              "<matplotlib.image.AxesImage at 0x78d64c1927f0>"
            ]
          },
          "execution_count": 8,
          "metadata": {},
          "output_type": "execute_result"
        },
        {
          "data": {
            "image/png": "[encoded data removed]",
            "text/plain": [
              "<Figure size 640x480 with 1 Axes>"
            ]
          },
          "metadata": {},
          "output_type": "display_data"
        }
      ],
      "source": [
        "plt.imshow(X_teste[0], cmap='gray')"
      ]
    },
    {
      "cell_type": "code",
      "execution_count": 30,
      "metadata": {},
      "outputs": [],
      "source": [
        "df[\"preds\"] = \"\""
      ]
    },
    {
      "cell_type": "code",
      "execution_count": 9,
      "metadata": {},
      "outputs": [],
      "source": [
        "def rmse(y_true, y_pred):\n",
        "    return tf.sqrt(tf.reduce_mean(tf.square(y_pred - y_true)))\n",
        "\n",
        "def psnr(y_true, y_pred):\n",
        "    max_pixel = 1.0\n",
        "    return tf.image.psnr(y_true, y_pred, max_val=max_pixel)"
      ]
    },
    {
      "cell_type": "code",
      "execution_count": 10,
      "metadata": {},
      "outputs": [
        {
          "name": "stderr",
          "output_type": "stream",
          "text": [
            "2024-07-20 20:43:24.391260: I tensorflow/core/common_runtime/gpu/gpu_device.cc:1639] Created device /job:localhost/replica:0/task:0/device:GPU:0 with 13905 MB memory:  -> device: 0, name: NVIDIA GeForce RTX 4060 Ti, pci bus id: 0000:01:00.0, compute capability: 8.9\n"
          ]
        }
      ],
      "source": [
        "autoencoder = tf.keras.models.load_model('model_BCE_aug_best_unet.tf',custom_objects={\"rmse\": rmse,\"psnr\":psnr})\n",
        "classifier  = tf.keras.models.load_model('classifier_aug_best.tf')"
      ]
    },
    {
      "cell_type": "code",
      "execution_count": 18,
      "metadata": {},
      "outputs": [
        {
          "name": "stdout",
          "output_type": "stream",
          "text": [
            "188/188 [==============================] - 4s 19ms/step\n"
          ]
        }
      ],
      "source": [
        "aes = autoencoder.predict([X_teste,pos_teste])"
      ]
    },
    {
      "cell_type": "code",
      "execution_count": 19,
      "metadata": {},
      "outputs": [
        {
          "name": "stdout",
          "output_type": "stream",
          "text": [
            "188/188 [==============================] - 1s 3ms/step\n"
          ]
        }
      ],
      "source": [
        "preds = classifier.predict(aes)"
      ]
    },
    {
      "cell_type": "code",
      "execution_count": 23,
      "metadata": {},
      "outputs": [],
      "source": [
        "one_hot = np.argmax(preds,axis=-1)\n",
        "preds = np.array([vocab[p] for p in one_hot])"
      ]
    },
    {
      "cell_type": "code",
      "execution_count": 31,
      "metadata": {},
      "outputs": [],
      "source": [
        "for i in range(len(preds)):\n",
        "    row = rows_teste[i]\n",
        "    df.loc[row,\"preds\"] += preds[i]"
      ]
    },
    {
      "cell_type": "code",
      "execution_count": 33,
      "metadata": {},
      "outputs": [
        {
          "data": {
            "text/html": [
              "<div>\n",
              "<style scoped>\n",
              "    .dataframe tbody tr th:only-of-type {\n",
              "        vertical-align: middle;\n",
              "    }\n",
              "\n",
              "    .dataframe tbody tr th {\n",
              "        vertical-align: top;\n",
              "    }\n",
              "\n",
              "    .dataframe thead th {\n",
              "        text-align: right;\n",
              "    }\n",
              "</style>\n",
              "<table border=\"1\" class=\"dataframe\">\n",
              "  <thead>\n",
              "    <tr style=\"text-align: right;\">\n",
              "      <th></th>\n",
              "      <th>jpg_file</th>\n",
              "      <th>txt_content</th>\n",
              "      <th>preds</th>\n",
              "    </tr>\n",
              "  </thead>\n",
              "  <tbody>\n",
              "    <tr>\n",
              "      <th>0</th>\n",
              "      <td>009001.jpg</td>\n",
              "      <td>JW4CZF</td>\n",
              "      <td>JW4CZF</td>\n",
              "    </tr>\n",
              "    <tr>\n",
              "      <th>1</th>\n",
              "      <td>009002.jpg</td>\n",
              "      <td>H27LCM</td>\n",
              "      <td>H27LCM</td>\n",
              "    </tr>\n",
              "    <tr>\n",
              "      <th>2</th>\n",
              "      <td>009003.jpg</td>\n",
              "      <td>1EF8W0</td>\n",
              "      <td>IEF8W0</td>\n",
              "    </tr>\n",
              "    <tr>\n",
              "      <th>3</th>\n",
              "      <td>009004.jpg</td>\n",
              "      <td>HZ1HQE</td>\n",
              "      <td>HZ1HQE</td>\n",
              "    </tr>\n",
              "    <tr>\n",
              "      <th>4</th>\n",
              "      <td>009005.jpg</td>\n",
              "      <td>97CZ9Z</td>\n",
              "      <td>97CZ9Z</td>\n",
              "    </tr>\n",
              "    <tr>\n",
              "      <th>...</th>\n",
              "      <td>...</td>\n",
              "      <td>...</td>\n",
              "      <td>...</td>\n",
              "    </tr>\n",
              "    <tr>\n",
              "      <th>995</th>\n",
              "      <td>009996.jpg</td>\n",
              "      <td>66ZDPA</td>\n",
              "      <td>66ZDPA</td>\n",
              "    </tr>\n",
              "    <tr>\n",
              "      <th>996</th>\n",
              "      <td>009997.jpg</td>\n",
              "      <td>2044B3</td>\n",
              "      <td>2044B3</td>\n",
              "    </tr>\n",
              "    <tr>\n",
              "      <th>997</th>\n",
              "      <td>009998.jpg</td>\n",
              "      <td>SNB9SO</td>\n",
              "      <td>SNB9SC</td>\n",
              "    </tr>\n",
              "    <tr>\n",
              "      <th>998</th>\n",
              "      <td>009999.jpg</td>\n",
              "      <td>0DTW1D</td>\n",
              "      <td>0DTWID</td>\n",
              "    </tr>\n",
              "    <tr>\n",
              "      <th>999</th>\n",
              "      <td>010000.jpg</td>\n",
              "      <td>C921ZU</td>\n",
              "      <td>C921ZU</td>\n",
              "    </tr>\n",
              "  </tbody>\n",
              "</table>\n",
              "<p>1000 rows × 3 columns</p>\n",
              "</div>"
            ],
            "text/plain": [
              "       jpg_file txt_content   preds\n",
              "0    009001.jpg      JW4CZF  JW4CZF\n",
              "1    009002.jpg      H27LCM  H27LCM\n",
              "2    009003.jpg      1EF8W0  IEF8W0\n",
              "3    009004.jpg      HZ1HQE  HZ1HQE\n",
              "4    009005.jpg      97CZ9Z  97CZ9Z\n",
              "..          ...         ...     ...\n",
              "995  009996.jpg      66ZDPA  66ZDPA\n",
              "996  009997.jpg      2044B3  2044B3\n",
              "997  009998.jpg      SNB9SO  SNB9SC\n",
              "998  009999.jpg      0DTW1D  0DTWID\n",
              "999  010000.jpg      C921ZU  C921ZU\n",
              "\n",
              "[1000 rows x 3 columns]"
            ]
          },
          "execution_count": 33,
          "metadata": {},
          "output_type": "execute_result"
        }
      ],
      "source": [
        "df"
      ]
    },
    {
      "cell_type": "code",
      "execution_count": 37,
      "metadata": {},
      "outputs": [
        {
          "data": {
            "text/html": [
              "<div>\n",
              "<style scoped>\n",
              "    .dataframe tbody tr th:only-of-type {\n",
              "        vertical-align: middle;\n",
              "    }\n",
              "\n",
              "    .dataframe tbody tr th {\n",
              "        vertical-align: top;\n",
              "    }\n",
              "\n",
              "    .dataframe thead th {\n",
              "        text-align: right;\n",
              "    }\n",
              "</style>\n",
              "<table border=\"1\" class=\"dataframe\">\n",
              "  <thead>\n",
              "    <tr style=\"text-align: right;\">\n",
              "      <th></th>\n",
              "      <th>jpg_file</th>\n",
              "      <th>txt_content</th>\n",
              "      <th>preds</th>\n",
              "      <th>matches</th>\n",
              "    </tr>\n",
              "  </thead>\n",
              "  <tbody>\n",
              "    <tr>\n",
              "      <th>0</th>\n",
              "      <td>009001.jpg</td>\n",
              "      <td>JW4CZF</td>\n",
              "      <td>JW4CZF</td>\n",
              "      <td>6</td>\n",
              "    </tr>\n",
              "    <tr>\n",
              "      <th>1</th>\n",
              "      <td>009002.jpg</td>\n",
              "      <td>H27LCM</td>\n",
              "      <td>H27LCM</td>\n",
              "      <td>6</td>\n",
              "    </tr>\n",
              "    <tr>\n",
              "      <th>2</th>\n",
              "      <td>009003.jpg</td>\n",
              "      <td>1EF8W0</td>\n",
              "      <td>IEF8W0</td>\n",
              "      <td>5</td>\n",
              "    </tr>\n",
              "    <tr>\n",
              "      <th>3</th>\n",
              "      <td>009004.jpg</td>\n",
              "      <td>HZ1HQE</td>\n",
              "      <td>HZ1HQE</td>\n",
              "      <td>6</td>\n",
              "    </tr>\n",
              "    <tr>\n",
              "      <th>4</th>\n",
              "      <td>009005.jpg</td>\n",
              "      <td>97CZ9Z</td>\n",
              "      <td>97CZ9Z</td>\n",
              "      <td>6</td>\n",
              "    </tr>\n",
              "    <tr>\n",
              "      <th>...</th>\n",
              "      <td>...</td>\n",
              "      <td>...</td>\n",
              "      <td>...</td>\n",
              "      <td>...</td>\n",
              "    </tr>\n",
              "    <tr>\n",
              "      <th>995</th>\n",
              "      <td>009996.jpg</td>\n",
              "      <td>66ZDPA</td>\n",
              "      <td>66ZDPA</td>\n",
              "      <td>6</td>\n",
              "    </tr>\n",
              "    <tr>\n",
              "      <th>996</th>\n",
              "      <td>009997.jpg</td>\n",
              "      <td>2044B3</td>\n",
              "      <td>2044B3</td>\n",
              "      <td>6</td>\n",
              "    </tr>\n",
              "    <tr>\n",
              "      <th>997</th>\n",
              "      <td>009998.jpg</td>\n",
              "      <td>SNB9SO</td>\n",
              "      <td>SNB9SC</td>\n",
              "      <td>5</td>\n",
              "    </tr>\n",
              "    <tr>\n",
              "      <th>998</th>\n",
              "      <td>009999.jpg</td>\n",
              "      <td>0DTW1D</td>\n",
              "      <td>0DTWID</td>\n",
              "      <td>5</td>\n",
              "    </tr>\n",
              "    <tr>\n",
              "      <th>999</th>\n",
              "      <td>010000.jpg</td>\n",
              "      <td>C921ZU</td>\n",
              "      <td>C921ZU</td>\n",
              "      <td>6</td>\n",
              "    </tr>\n",
              "  </tbody>\n",
              "</table>\n",
              "<p>1000 rows × 4 columns</p>\n",
              "</div>"
            ],
            "text/plain": [
              "       jpg_file txt_content   preds  matches\n",
              "0    009001.jpg      JW4CZF  JW4CZF        6\n",
              "1    009002.jpg      H27LCM  H27LCM        6\n",
              "2    009003.jpg      1EF8W0  IEF8W0        5\n",
              "3    009004.jpg      HZ1HQE  HZ1HQE        6\n",
              "4    009005.jpg      97CZ9Z  97CZ9Z        6\n",
              "..          ...         ...     ...      ...\n",
              "995  009996.jpg      66ZDPA  66ZDPA        6\n",
              "996  009997.jpg      2044B3  2044B3        6\n",
              "997  009998.jpg      SNB9SO  SNB9SC        5\n",
              "998  009999.jpg      0DTW1D  0DTWID        5\n",
              "999  010000.jpg      C921ZU  C921ZU        6\n",
              "\n",
              "[1000 rows x 4 columns]"
            ]
          },
          "execution_count": 37,
          "metadata": {},
          "output_type": "execute_result"
        }
      ],
      "source": [
        "def count_matches(row):\n",
        "    txt_content = row['txt_content']\n",
        "    pred = row['preds']\n",
        "    return sum(1 for a, b in zip(txt_content, pred) if a == b)\n",
        "\n",
        "# Apply the function to each row\n",
        "df['matches'] = df.apply(count_matches, axis=1)\n",
        "df"
      ]
    },
    {
      "cell_type": "code",
      "execution_count": 75,
      "metadata": {},
      "outputs": [
        {
          "data": {
            "text/html": [
              "<div>\n",
              "<style scoped>\n",
              "    .dataframe tbody tr th:only-of-type {\n",
              "        vertical-align: middle;\n",
              "    }\n",
              "\n",
              "    .dataframe tbody tr th {\n",
              "        vertical-align: top;\n",
              "    }\n",
              "\n",
              "    .dataframe thead th {\n",
              "        text-align: right;\n",
              "    }\n",
              "</style>\n",
              "<table border=\"1\" class=\"dataframe\">\n",
              "  <thead>\n",
              "    <tr style=\"text-align: right;\">\n",
              "      <th></th>\n",
              "      <th>jpg_file</th>\n",
              "      <th>txt_content</th>\n",
              "      <th>preds</th>\n",
              "      <th>matches</th>\n",
              "    </tr>\n",
              "  </thead>\n",
              "  <tbody>\n",
              "    <tr>\n",
              "      <th>720</th>\n",
              "      <td>009721.jpg</td>\n",
              "      <td>AZNAWY</td>\n",
              "      <td>AZNAW?</td>\n",
              "      <td>5</td>\n",
              "    </tr>\n",
              "    <tr>\n",
              "      <th>532</th>\n",
              "      <td>009533.jpg</td>\n",
              "      <td>R0I825</td>\n",
              "      <td>RQI825</td>\n",
              "      <td>5</td>\n",
              "    </tr>\n",
              "    <tr>\n",
              "      <th>392</th>\n",
              "      <td>009393.jpg</td>\n",
              "      <td>CM4EWL</td>\n",
              "      <td>CM4EW?</td>\n",
              "      <td>5</td>\n",
              "    </tr>\n",
              "    <tr>\n",
              "      <th>191</th>\n",
              "      <td>009192.jpg</td>\n",
              "      <td>BTC6AO</td>\n",
              "      <td>BTG6AO</td>\n",
              "      <td>5</td>\n",
              "    </tr>\n",
              "    <tr>\n",
              "      <th>763</th>\n",
              "      <td>009764.jpg</td>\n",
              "      <td>V9NWRD</td>\n",
              "      <td>W9NWRD</td>\n",
              "      <td>5</td>\n",
              "    </tr>\n",
              "  </tbody>\n",
              "</table>\n",
              "</div>"
            ],
            "text/plain": [
              "       jpg_file txt_content   preds  matches\n",
              "720  009721.jpg      AZNAWY  AZNAW?        5\n",
              "532  009533.jpg      R0I825  RQI825        5\n",
              "392  009393.jpg      CM4EWL  CM4EW?        5\n",
              "191  009192.jpg      BTC6AO  BTG6AO        5\n",
              "763  009764.jpg      V9NWRD  W9NWRD        5"
            ]
          },
          "execution_count": 75,
          "metadata": {},
          "output_type": "execute_result"
        }
      ],
      "source": [
        "df[df[\"txt_content\"] != df[\"preds\"]].sample(100).head()"
      ]
    },
    {
      "cell_type": "code",
      "execution_count": 42,
      "metadata": {},
      "outputs": [
        {
          "data": {
            "image/png": "[encoded data removed]",
            "text/plain": [
              "<Figure size 1000x600 with 1 Axes>"
            ]
          },
          "metadata": {},
          "output_type": "display_data"
        }
      ],
      "source": [
        "match_counts = df['matches'].value_counts().sort_index()\n",
        "\n",
        "# Plot the bar plot\n",
        "plt.figure(figsize=(10, 6))\n",
        "plt.bar(match_counts.index, match_counts.values, color='skyblue')\n",
        "plt.xlabel('Number of Matches')\n",
        "plt.ylabel('Count')\n",
        "plt.title('Count of Matches per Row')\n",
        "plt.xticks(match_counts.index)  # Ensure x-axis labels match the match counts\n",
        "plt.grid(axis='y', linestyle='--')\n",
        "\n",
        "# Show the plot\n",
        "plt.show()"
      ]
    },
    {
      "cell_type": "code",
      "execution_count": 76,
      "metadata": {},
      "outputs": [
        {
          "data": {
            "text/plain": [
              "0.743"
            ]
          },
          "execution_count": 76,
          "metadata": {},
          "output_type": "execute_result"
        }
      ],
      "source": [
        "miss = (df[\"matches\"] != df[\"txt_content\"].str.len()).sum()\n",
        "acc = (len(df) - miss)/len(df)\n",
        "acc"
      ]
    },
    {
      "cell_type": "code",
      "execution_count": 79,
      "metadata": {},
      "outputs": [
        {
          "data": {
            "image/png": "[encoded data removed]",
            "text/plain": [
              "<Figure size 1000x600 with 1 Axes>"
            ]
          },
          "metadata": {},
          "output_type": "display_data"
        }
      ],
      "source": [
        "# Calculate recognition rates\n",
        "max_chars = df['txt_content'].map(len).max()\n",
        "recognition_rates = []\n",
        "\n",
        "for min_correct in range(1, max_chars + 1):\n",
        "    count_correct = df['matches'] >= min_correct\n",
        "    rate = count_correct.mean()\n",
        "    recognition_rates.append(rate)\n",
        "\n",
        "# Plot the recognition rates\n",
        "plt.figure(figsize=(10, 6))\n",
        "plt.axhline(y=acc, color='r', linestyle='--', label=f'Overall Accuracy: {acc:.2f}')\n",
        "plt.plot(range(1, max_chars + 1), recognition_rates, marker='o', color='skyblue', label='Recognition Rate')\n",
        "plt.xlabel('Minimum Number of Correct Characters')\n",
        "plt.ylabel('Recognition Rate')\n",
        "plt.title('Recognition Rate vs Minimum Number of Correct Characters')\n",
        "plt.grid(axis='y', linestyle='--')\n",
        "plt.ylim(0, 1)\n",
        "plt.xticks(range(1, max_chars + 1))\n",
        "plt.legend()\n",
        "plt.show()"
      ]
    },
    {
      "cell_type": "code",
      "execution_count": 56,
      "metadata": {},
      "outputs": [
        {
          "data": {
            "text/plain": [
              "(257, 0.743)"
            ]
          },
          "execution_count": 56,
          "metadata": {},
          "output_type": "execute_result"
        }
      ],
      "source": [
        "miss = (df[\"matches\"] != df[\"txt_content\"].str.len()).sum()\n",
        "miss,(len(df) - miss)/len(df)"
      ]
    }
  ],
  "metadata": {
    "accelerator": "GPU",
    "colab": {
      "gpuType": "T4",
      "provenance": []
    },
    "kernelspec": {
      "display_name": "Python 3",
      "name": "python3"
    },
    "language_info": {
      "codemirror_mode": {
        "name": "ipython",
        "version": 3
      },
      "file_extension": ".py",
      "mimetype": "text/x-python",
      "name": "python",
      "nbconvert_exporter": "python",
      "pygments_lexer": "ipython3",
      "version": "3.9.19"
    }
  },
  "nbformat": 4,
  "nbformat_minor": 0
}

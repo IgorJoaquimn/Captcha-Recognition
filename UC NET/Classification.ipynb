{
  "cells": [
    {
      "cell_type": "code",
      "execution_count": 1,
      "metadata": {
        "id": "gxI4LLcnZqRN"
      },
      "outputs": [],
      "source": [
        "import pandas as pd\n",
        "import numpy as np\n",
        "import os\n",
        "import matplotlib.pyplot as plt\n",
        "import cv2"
      ]
    },
    {
      "cell_type": "code",
      "execution_count": 2,
      "metadata": {
        "id": "SY3XUmVsqEM1"
      },
      "outputs": [
        {
          "name": "stderr",
          "output_type": "stream",
          "text": [
            "2024-07-20 19:35:43.744786: I tensorflow/core/platform/cpu_feature_guard.cc:182] This TensorFlow binary is optimized to use available CPU instructions in performance-critical operations.\n",
            "To enable the following instructions: AVX2 FMA, in other operations, rebuild TensorFlow with the appropriate compiler flags.\n",
            "/home/igu/miniconda3/envs/ml/lib/python3.9/site-packages/requests/__init__.py:86: RequestsDependencyWarning: Unable to find acceptable character detection dependency (chardet or charset_normalizer).\n",
            "  warnings.warn(\n"
          ]
        }
      ],
      "source": [
        "from keras.models import Sequential, Model\n",
        "from keras.layers import Dense, Conv2D, MaxPooling2D, UpSampling2D, Input,Flatten,Reshape,AveragePooling2D,Dropout,LayerNormalization, ReLU,concatenate,Cropping2D, BatchNormalization\n",
        "from keras.datasets import mnist\n",
        "import tensorflow as tf\n",
        "\n",
        "import keras\n",
        "from keras import regularizers\n",
        "from tensorflow.keras.preprocessing.image import ImageDataGenerator\n",
        "from tensorflow.keras.callbacks import ModelCheckpoint\n"
      ]
    },
    {
      "cell_type": "code",
      "execution_count": 3,
      "metadata": {
        "colab": {
          "base_uri": "https://localhost:8080/"
        },
        "id": "dVhNVxxbZ6qj",
        "outputId": "1ac5b4e0-1aad-4cd1-f1a3-70c23c374ef6"
      },
      "outputs": [
        {
          "name": "stdout",
          "output_type": "stream",
          "text": [
            "/bin/bash: /home/igu/miniconda3/envs/ml/lib/python3.9/site-packages/cv2/../../../../lib/libtinfo.so.6: no version information available (required by /bin/bash)\n",
            "/bin/bash: /home/igu/miniconda3/envs/ml/lib/python3.9/site-packages/cv2/../../../../lib/libtinfo.so.6: no version information available (required by /bin/bash)\n",
            "unzip:  cannot find or open dados.zip?rlkey=lnqcb79vbu8j6cdbfgofogius, dados.zip?rlkey=lnqcb79vbu8j6cdbfgofogius.zip or dados.zip?rlkey=lnqcb79vbu8j6cdbfgofogius.ZIP.\n",
            "\n",
            "No zipfiles found.\n"
          ]
        }
      ],
      "source": [
        "!wget  -nc https://www.dropbox.com/scl/fi/uaiyxp0t2l8hfcszfadtj/dados.zip?rlkey=lnqcb79vbu8j6cdbfgofogius&dl=1\n",
        "!unzip -n -q dados.zip?rlkey=lnqcb79vbu8j6cdbfgofogius"
      ]
    },
    {
      "cell_type": "code",
      "execution_count": 4,
      "metadata": {
        "colab": {
          "base_uri": "https://localhost:8080/",
          "height": 206
        },
        "id": "-owKNFD5ah24",
        "outputId": "adecb30f-3918-47dd-f02d-b8c94163f530"
      },
      "outputs": [
        {
          "data": {
            "text/html": [
              "<div>\n",
              "<style scoped>\n",
              "    .dataframe tbody tr th:only-of-type {\n",
              "        vertical-align: middle;\n",
              "    }\n",
              "\n",
              "    .dataframe tbody tr th {\n",
              "        vertical-align: top;\n",
              "    }\n",
              "\n",
              "    .dataframe thead th {\n",
              "        text-align: right;\n",
              "    }\n",
              "</style>\n",
              "<table border=\"1\" class=\"dataframe\">\n",
              "  <thead>\n",
              "    <tr style=\"text-align: right;\">\n",
              "      <th></th>\n",
              "      <th>jpg_file</th>\n",
              "      <th>txt_content</th>\n",
              "    </tr>\n",
              "  </thead>\n",
              "  <tbody>\n",
              "    <tr>\n",
              "      <th>0</th>\n",
              "      <td>000001.jpg</td>\n",
              "      <td>RNINIC</td>\n",
              "    </tr>\n",
              "    <tr>\n",
              "      <th>1</th>\n",
              "      <td>000002.jpg</td>\n",
              "      <td>TVCFS8</td>\n",
              "    </tr>\n",
              "    <tr>\n",
              "      <th>2</th>\n",
              "      <td>000003.jpg</td>\n",
              "      <td>N1O1EH</td>\n",
              "    </tr>\n",
              "    <tr>\n",
              "      <th>3</th>\n",
              "      <td>000004.jpg</td>\n",
              "      <td>OQZSL4</td>\n",
              "    </tr>\n",
              "    <tr>\n",
              "      <th>4</th>\n",
              "      <td>000005.jpg</td>\n",
              "      <td>GST2YA</td>\n",
              "    </tr>\n",
              "  </tbody>\n",
              "</table>\n",
              "</div>"
            ],
            "text/plain": [
              "     jpg_file txt_content\n",
              "0  000001.jpg      RNINIC\n",
              "1  000002.jpg      TVCFS8\n",
              "2  000003.jpg      N1O1EH\n",
              "3  000004.jpg      OQZSL4\n",
              "4  000005.jpg      GST2YA"
            ]
          },
          "execution_count": 4,
          "metadata": {},
          "output_type": "execute_result"
        }
      ],
      "source": [
        "image_path = '../dados/CAPTCHA-10k/treinamento'\n",
        "def generate_df(image_path):\n",
        "  label_path = '../dados/CAPTCHA-10k/labels10k'\n",
        "\n",
        "  jpg_files = [f for f in os.listdir(image_path) if f.endswith('.jpg')]\n",
        "  jpg_files.sort()\n",
        "  data = []\n",
        "\n",
        "  for jpg_file in jpg_files:\n",
        "      txt_file = os.path.splitext(jpg_file)[0] + '.txt'\n",
        "      txt_file_path = os.path.join(label_path, txt_file)\n",
        "\n",
        "      if os.path.exists(txt_file_path):\n",
        "          with open(txt_file_path, 'r') as file:\n",
        "              txt_content = file.read().strip()\n",
        "\n",
        "          data.append({'jpg_file': jpg_file, 'txt_content': txt_content})\n",
        "  return pd.DataFrame(data)\n",
        "\n",
        "df = generate_df(image_path)\n",
        "df.head()"
      ]
    },
    {
      "cell_type": "code",
      "execution_count": 5,
      "metadata": {},
      "outputs": [
        {
          "data": {
            "text/plain": [
              "array(['0', '1', '2', '3', '4', '5', '6', '7', '8', '9', '?', 'A', 'B',\n",
              "       'C', 'D', 'E', 'F', 'G', 'H', 'I', 'J', 'K', 'L', 'M', 'N', 'O',\n",
              "       'P', 'Q', 'R', 'S', 'T', 'U', 'V', 'W', 'X', 'Y', 'Z', '*'],\n",
              "      dtype='<U1')"
            ]
          },
          "execution_count": 5,
          "metadata": {},
          "output_type": "execute_result"
        }
      ],
      "source": [
        "vocab = np.unique(list(df['txt_content'].sum()))\n",
        "vocab = list(vocab)\n",
        "vocab.append(\"*\")\n",
        "np.array(vocab)"
      ]
    },
    {
      "cell_type": "code",
      "execution_count": 6,
      "metadata": {
        "id": "NGKSD3tFpvIH"
      },
      "outputs": [],
      "source": [
        "def generate_clean_captcha(char):\n",
        "    # Fixed parameters\n",
        "    size = (50, 50)\n",
        "    font = cv2.FONT_HERSHEY_SIMPLEX\n",
        "    font_scale = 1\n",
        "    font_thickness = 2\n",
        "\n",
        "    # Create a blank white image\n",
        "    image = np.ones((*size, 1), dtype=np.uint8) * 255  # White background\n",
        "\n",
        "    # Calculate the position to center the character in the image\n",
        "    text_size = cv2.getTextSize(char, font, font_scale, font_thickness)[0]\n",
        "    text_x = (size[1] - text_size[0]) // 2  # Center horizontally\n",
        "    text_y = (size[0] + text_size[1]) // 2  # Center vertically\n",
        "\n",
        "    # Draw the character at the calculated position\n",
        "    cv2.putText(image, char, (text_x, text_y), font, font_scale, (0,), font_thickness, lineType=cv2.LINE_AA)\n",
        "    \n",
        "    return image"
      ]
    },
    {
      "cell_type": "code",
      "execution_count": 7,
      "metadata": {},
      "outputs": [],
      "source": [
        "def preprocess(img):\n",
        "  kernel  = cv2.getStructuringElement(cv2.MORPH_RECT, (4, 4))\n",
        "  img     = cv2.morphologyEx(img, cv2.MORPH_CLOSE, kernel)\n",
        "  _, img  = cv2.threshold(img, 90, 255, cv2.THRESH_BINARY)\n",
        "  return img"
      ]
    },
    {
      "cell_type": "code",
      "execution_count": 60,
      "metadata": {
        "id": "zpd9GwIhpKMe"
      },
      "outputs": [],
      "source": [
        "def generate_X_Y(image_path):\n",
        "  df = generate_df(image_path)\n",
        "\n",
        "  df[\"index\"] = [f\"{i}\" for i in range(len(df))]\n",
        "  file_index = (df[\"index\"] + \" \") * df['txt_content'].str.len()\n",
        "  file_index = file_index.sum().split(\" \")\n",
        "  file_index = [int(x) for x in file_index if x] \n",
        "\n",
        "  X = [preprocess(cv2.imread(os.path.join(image_path, x),cv2.IMREAD_GRAYSCALE)) for x in df[\"jpg_file\"]]\n",
        "  X = np.array(X)\n",
        "  X = np.expand_dims(X, axis=-1)\n",
        "\n",
        "\n",
        "  X   = X[file_index]\n",
        "  Y   = np.array([generate_clean_captcha(char) for char in df[\"txt_content\"].sum()])\n",
        "  pos = np.array([i for text in df[\"txt_content\"] for i,char in enumerate(text)]).reshape(-1,1)\n",
        "  X = X.astype('float32') / 255.\n",
        "  Y = Y.astype('float32') / 255.\n",
        "\n",
        "  labels = np.array([char for char in df[\"txt_content\"].sum()])\n",
        "  char_to_index = {char: idx for idx, char in enumerate(vocab)}\n",
        "  num_classes = len(vocab)  # Number of unique characters\n",
        "\n",
        "  # Step 2: Convert characters to indices\n",
        "  indices = np.array([char_to_index[char] for char in labels])\n",
        "\n",
        "  # Step 3: Create one-hot encoded vectors\n",
        "  one_hot_encoded = np.eye(num_classes)[indices]\n",
        "\n",
        "  # Create a mapping from index to DataFrame row index\n",
        "\n",
        "\n",
        "  rows = []\n",
        "  for row_index, text in enumerate(df[\"txt_content\"]):\n",
        "      for char_index, char in enumerate(text):\n",
        "         rows.append(row_index)\n",
        "\n",
        "  return X,Y,pos,one_hot_encoded,np.array(rows)\n",
        "\n",
        "X_train,Y_train,pos_train,labels_train,_ = generate_X_Y('../dados/CAPTCHA-10k/treinamento')\n",
        "X_val,Y_val,pos_val,labels_val,rows_val = generate_X_Y('../dados/CAPTCHA-10k/validacao')"
      ]
    },
    {
      "cell_type": "code",
      "execution_count": 9,
      "metadata": {},
      "outputs": [
        {
          "data": {
            "text/plain": [
              "<matplotlib.image.AxesImage at 0x7175955262b0>"
            ]
          },
          "execution_count": 9,
          "metadata": {},
          "output_type": "execute_result"
        },
        {
          "data": {
            "image/png": "[encoded data removed]",
            "text/plain": [
              "<Figure size 640x480 with 1 Axes>"
            ]
          },
          "metadata": {},
          "output_type": "display_data"
        }
      ],
      "source": [
        "plt.imshow(X_train[0], cmap='gray')"
      ]
    },
    {
      "cell_type": "code",
      "execution_count": 10,
      "metadata": {
        "colab": {
          "base_uri": "https://localhost:8080/",
          "height": 163
        },
        "id": "QBnc_yZxb-at",
        "outputId": "7287c59d-c697-4fbf-eae5-8b6d6b6adf26"
      },
      "outputs": [
        {
          "data": {
            "image/png": "[encoded data removed]",
            "text/plain": [
              "<Figure size 1000x500 with 2 Axes>"
            ]
          },
          "metadata": {},
          "output_type": "display_data"
        }
      ],
      "source": [
        "plt.figure(figsize=(10, 5))\n",
        "\n",
        "plt.subplot(1, 2, 1)\n",
        "plt.imshow(X_train[0], cmap='gray')\n",
        "\n",
        "# Display the corresponding Y_train[0]\n",
        "plt.subplot(1, 2, 2)\n",
        "plt.imshow(Y_train[0], cmap='gray')\n",
        "plt.show()"
      ]
    },
    {
      "cell_type": "code",
      "execution_count": 21,
      "metadata": {},
      "outputs": [],
      "source": [
        "def create_tf_dataset(X, Y, pos):\n",
        "    X_ds = tf.data.Dataset.from_tensor_slices(X)\n",
        "    Y_ds = tf.data.Dataset.from_tensor_slices(Y)\n",
        "    POS_ds = tf.data.Dataset.from_tensor_slices(pos)\n",
        "\n",
        "    dataset = tf.data.Dataset.zip(((X_ds, POS_ds), Y_ds))\n",
        "    \n",
        "    def preprocess_data(inputs, Y):\n",
        "        X, POS = inputs\n",
        "        return (X, POS), Y\n",
        "\n",
        "    dataset = dataset.map(preprocess_data)\n",
        "    return dataset\n",
        "\n",
        "# Create the dataset\n",
        "train_set   = create_tf_dataset(X_train, Y_train, pos_train)\n",
        "val_set     = create_tf_dataset(X_val, Y_val, pos_val)\n",
        "\n",
        "\n",
        "# Shuffle and batch the dataset\n",
        "batch_size  = 64\n",
        "train_set   = train_set.batch(batch_size)\n",
        "val_set     = val_set.batch(batch_size)"
      ]
    },
    {
      "cell_type": "code",
      "execution_count": 18,
      "metadata": {},
      "outputs": [],
      "source": [
        "def rmse(y_true, y_pred):\n",
        "    return tf.sqrt(tf.reduce_mean(tf.square(y_pred - y_true)))\n",
        "\n",
        "def psnr(y_true, y_pred):\n",
        "    max_pixel = 1.0\n",
        "    return tf.image.psnr(y_true, y_pred, max_val=max_pixel)"
      ]
    },
    {
      "cell_type": "code",
      "execution_count": 19,
      "metadata": {},
      "outputs": [
        {
          "name": "stderr",
          "output_type": "stream",
          "text": [
            "2024-07-20 19:38:21.529425: I tensorflow/core/common_runtime/gpu/gpu_device.cc:1639] Created device /job:localhost/replica:0/task:0/device:GPU:0 with 13773 MB memory:  -> device: 0, name: NVIDIA GeForce RTX 4060 Ti, pci bus id: 0000:01:00.0, compute capability: 8.9\n"
          ]
        }
      ],
      "source": [
        "autoencoder = tf.keras.models.load_model('model_BCE_aug_best_unet.tf',custom_objects={\"rmse\": rmse,\"psnr\":psnr})"
      ]
    },
    {
      "cell_type": "code",
      "execution_count": 22,
      "metadata": {},
      "outputs": [
        {
          "name": "stderr",
          "output_type": "stream",
          "text": [
            "2024-07-20 19:38:55.235405: I tensorflow/compiler/xla/stream_executor/cuda/cuda_dnn.cc:432] Loaded cuDNN version 8907\n",
            "2024-07-20 19:38:56.828828: I tensorflow/compiler/xla/stream_executor/cuda/cuda_blas.cc:606] TensorFloat-32 will be used for the matrix multiplication. This will only be logged once.\n"
          ]
        },
        {
          "name": "stdout",
          "output_type": "stream",
          "text": [
            "751/751 [==============================] - 32s 38ms/step\n",
            "94/94 [==============================] - 5s 51ms/step\n"
          ]
        }
      ],
      "source": [
        "Y_train_pred_ae = autoencoder.predict(train_set)\n",
        "Y_val_pred_ae = autoencoder.predict(val_set)"
      ]
    },
    {
      "cell_type": "code",
      "execution_count": 25,
      "metadata": {},
      "outputs": [
        {
          "data": {
            "text/plain": [
              "<matplotlib.image.AxesImage at 0x71743004aa00>"
            ]
          },
          "execution_count": 25,
          "metadata": {},
          "output_type": "execute_result"
        },
        {
          "data": {
            "image/png": "[encoded data removed]",
            "text/plain": [
              "<Figure size 640x480 with 1 Axes>"
            ]
          },
          "metadata": {},
          "output_type": "display_data"
        }
      ],
      "source": [
        "plt.imshow(Y_train_pred_ae[0])"
      ]
    },
    {
      "cell_type": "code",
      "execution_count": 26,
      "metadata": {},
      "outputs": [],
      "source": [
        "bins = np.arange(0,180,180//7)"
      ]
    },
    {
      "cell_type": "code",
      "execution_count": 27,
      "metadata": {},
      "outputs": [],
      "source": [
        "X_train_class,Y_train_class = Y_train_pred_ae,labels_train\n",
        "X_val_class,Y_val_class = Y_val_pred_ae,labels_val"
      ]
    },
    {
      "cell_type": "code",
      "execution_count": 28,
      "metadata": {},
      "outputs": [
        {
          "data": {
            "image/png": "[encoded data removed]",
            "text/plain": [
              "<Figure size 1500x500 with 7 Axes>"
            ]
          },
          "metadata": {},
          "output_type": "display_data"
        }
      ],
      "source": [
        "# Create subplots\n",
        "num_bins = 7\n",
        "fig, axes = plt.subplots(1, num_bins, figsize=(15, 5))\n",
        "\n",
        "# Plot each bin separately\n",
        "for i in range(num_bins):\n",
        "    bin_slice = X_train_class[i]\n",
        "    axes[i].imshow(bin_slice, cmap='gray')\n",
        "    axes[i].set_title(f'Bin {i+1}')\n",
        "plt.tight_layout()\n",
        "plt.show()"
      ]
    },
    {
      "cell_type": "code",
      "execution_count": 29,
      "metadata": {},
      "outputs": [],
      "source": [
        "def conv_bn_relu(filters, kernel_size, strides=(1, 1), padding='same'):\n",
        "    def layer(x):\n",
        "        x = Conv2D(filters, kernel_size, strides=strides, padding=padding)(x)\n",
        "        x = BatchNormalization()(x)\n",
        "        x = ReLU()(x)\n",
        "        return x\n",
        "    return layer\n",
        "\n",
        "def crop(x1, x2):\n",
        "    # Crop x2 to the shape of x1\n",
        "    x1_shape = x1.shape\n",
        "    x2_shape = x2.shape\n",
        "    height_diff = x2_shape[1] - x1_shape[1]\n",
        "    width_diff = x2_shape[2] - x1_shape[2]\n",
        "\n",
        "    cropping = ((height_diff // 2, height_diff - height_diff // 2),\n",
        "                (width_diff // 2, width_diff - width_diff // 2))\n",
        "    x2_cropped = Cropping2D(cropping)(x2)\n",
        "    return x2_cropped"
      ]
    },
    {
      "cell_type": "code",
      "execution_count": 30,
      "metadata": {
        "id": "CO4vUj5cUNDE"
      },
      "outputs": [
        {
          "name": "stdout",
          "output_type": "stream",
          "text": [
            "Model: \"model\"\n",
            "_________________________________________________________________\n",
            " Layer (type)                Output Shape              Param #   \n",
            "=================================================================\n",
            " input_1 (InputLayer)        [(None, 50, 50, 1)]       0         \n",
            "                                                                 \n",
            " conv2d (Conv2D)             (None, 50, 50, 32)        320       \n",
            "                                                                 \n",
            " batch_normalization (Batch  (None, 50, 50, 32)        128       \n",
            " Normalization)                                                  \n",
            "                                                                 \n",
            " re_lu (ReLU)                (None, 50, 50, 32)        0         \n",
            "                                                                 \n",
            " conv2d_1 (Conv2D)           (None, 50, 50, 32)        9248      \n",
            "                                                                 \n",
            " batch_normalization_1 (Bat  (None, 50, 50, 32)        128       \n",
            " chNormalization)                                                \n",
            "                                                                 \n",
            " re_lu_1 (ReLU)              (None, 50, 50, 32)        0         \n",
            "                                                                 \n",
            " conv2d_2 (Conv2D)           (None, 50, 50, 32)        9248      \n",
            "                                                                 \n",
            " batch_normalization_2 (Bat  (None, 50, 50, 32)        128       \n",
            " chNormalization)                                                \n",
            "                                                                 \n",
            " re_lu_2 (ReLU)              (None, 50, 50, 32)        0         \n",
            "                                                                 \n",
            " max_pooling2d (MaxPooling2  (None, 25, 25, 32)        0         \n",
            " D)                                                              \n",
            "                                                                 \n",
            " conv2d_3 (Conv2D)           (None, 25, 25, 32)        9248      \n",
            "                                                                 \n",
            " batch_normalization_3 (Bat  (None, 25, 25, 32)        128       \n",
            " chNormalization)                                                \n",
            "                                                                 \n",
            " re_lu_3 (ReLU)              (None, 25, 25, 32)        0         \n",
            "                                                                 \n",
            " max_pooling2d_1 (MaxPoolin  (None, 13, 13, 32)        0         \n",
            " g2D)                                                            \n",
            "                                                                 \n",
            " conv2d_4 (Conv2D)           (None, 13, 13, 32)        9248      \n",
            "                                                                 \n",
            " batch_normalization_4 (Bat  (None, 13, 13, 32)        128       \n",
            " chNormalization)                                                \n",
            "                                                                 \n",
            " re_lu_4 (ReLU)              (None, 13, 13, 32)        0         \n",
            "                                                                 \n",
            " max_pooling2d_2 (MaxPoolin  (None, 7, 7, 32)          0         \n",
            " g2D)                                                            \n",
            "                                                                 \n",
            " conv2d_5 (Conv2D)           (None, 7, 7, 32)          9248      \n",
            "                                                                 \n",
            " batch_normalization_5 (Bat  (None, 7, 7, 32)          128       \n",
            " chNormalization)                                                \n",
            "                                                                 \n",
            " re_lu_5 (ReLU)              (None, 7, 7, 32)          0         \n",
            "                                                                 \n",
            " max_pooling2d_3 (MaxPoolin  (None, 4, 4, 32)          0         \n",
            " g2D)                                                            \n",
            "                                                                 \n",
            " conv2d_6 (Conv2D)           (None, 4, 4, 32)          9248      \n",
            "                                                                 \n",
            " batch_normalization_6 (Bat  (None, 4, 4, 32)          128       \n",
            " chNormalization)                                                \n",
            "                                                                 \n",
            " re_lu_6 (ReLU)              (None, 4, 4, 32)          0         \n",
            "                                                                 \n",
            " max_pooling2d_4 (MaxPoolin  (None, 2, 2, 32)          0         \n",
            " g2D)                                                            \n",
            "                                                                 \n",
            " conv2d_7 (Conv2D)           (None, 2, 2, 32)          9248      \n",
            "                                                                 \n",
            " batch_normalization_7 (Bat  (None, 2, 2, 32)          128       \n",
            " chNormalization)                                                \n",
            "                                                                 \n",
            " re_lu_7 (ReLU)              (None, 2, 2, 32)          0         \n",
            "                                                                 \n",
            " conv2d_8 (Conv2D)           (None, 2, 2, 16)          528       \n",
            "                                                                 \n",
            " flatten (Flatten)           (None, 64)                0         \n",
            "                                                                 \n",
            " dense (Dense)               (None, 32)                2080      \n",
            "                                                                 \n",
            " dense_1 (Dense)             (None, 38)                1254      \n",
            "                                                                 \n",
            "=================================================================\n",
            "Total params: 69942 (273.21 KB)\n",
            "Trainable params: 69430 (271.21 KB)\n",
            "Non-trainable params: 512 (2.00 KB)\n",
            "_________________________________________________________________\n"
          ]
        }
      ],
      "source": [
        "def classifier(input_img, num_blocks=1, num_downsample=3,n_out = 38):\n",
        "    x = input_img\n",
        "\n",
        "    for _ in range(2):\n",
        "        x = conv_bn_relu(32, (3, 3))(x)\n",
        "\n",
        "    # Contracting path\n",
        "    for _ in range(num_downsample):\n",
        "        for _ in range(num_blocks):\n",
        "            x = conv_bn_relu(32, (3, 3))(x)\n",
        "        x = MaxPooling2D((2, 2), padding='same')(x)\n",
        "    \n",
        "    # Bottleneck\n",
        "    for _ in range(num_blocks):\n",
        "        x = conv_bn_relu(32, (3, 3))(x)\n",
        "    x = Conv2D(16, (1, 1), activation='relu')(x)\n",
        "\n",
        "    x = Flatten()(x)\n",
        "    x = Dense(32, activation='relu')(x)\n",
        "    output = Dense(n_out, activation='softmax')(x)\n",
        "\n",
        "    return tf.keras.Model(inputs=input_img, outputs=output)\n",
        "\n",
        "\n",
        "input_shape = X_train_class.shape[1:]  # Example input shape\n",
        "input_img = Input(shape=input_shape)\n",
        "model = classifier(input_img, num_blocks=1, num_downsample=5)\n",
        "model.compile(optimizer='adam', loss='categorical_crossentropy', metrics=['accuracy'])\n",
        "model.summary()"
      ]
    },
    {
      "cell_type": "code",
      "execution_count": 31,
      "metadata": {
        "id": "qEeK5i-XosYB"
      },
      "outputs": [],
      "source": [
        "checkpoint = ModelCheckpoint(\n",
        "    'classifier_aug_best.tf',\n",
        "    monitor='val_accuracy',  # Use 'val_loss' as an approximation of RMSE if the metric isn't directly available\n",
        "    save_best_only=True,\n",
        "    mode='max',\n",
        "    verbose=1\n",
        ")"
      ]
    },
    {
      "cell_type": "code",
      "execution_count": 32,
      "metadata": {},
      "outputs": [],
      "source": [
        "datagen = ImageDataGenerator(\n",
        "    rotation_range=0.1,\n",
        "    width_shift_range=0.1,\n",
        "    height_shift_range=0.05,\n",
        "    shear_range=0.1,\n",
        "    zoom_range=0.1,\n",
        "    horizontal_flip=False,\n",
        "    fill_mode='nearest'\n",
        ")\n",
        "\n",
        "datagen.fit(X_train_class)\n",
        "batch_size = 64\n",
        "augmented_data_generator = datagen.flow(X_train_class, Y_train_class, batch_size=batch_size)"
      ]
    },
    {
      "cell_type": "code",
      "execution_count": 74,
      "metadata": {},
      "outputs": [
        {
          "data": {
            "text/plain": [
              "array([0])"
            ]
          },
          "execution_count": 74,
          "metadata": {},
          "output_type": "execute_result"
        }
      ],
      "source": [
        "pos_train[0]"
      ]
    },
    {
      "cell_type": "code",
      "execution_count": 33,
      "metadata": {
        "colab": {
          "base_uri": "https://localhost:8080/"
        },
        "id": "j-ky9n_4VO2g",
        "outputId": "4dc87997-1d28-4a42-c4b1-470ad68ffb87"
      },
      "outputs": [
        {
          "name": "stdout",
          "output_type": "stream",
          "text": [
            "Epoch 1/50\n"
          ]
        },
        {
          "name": "stderr",
          "output_type": "stream",
          "text": [
            "2024-07-20 19:40:24.526933: I tensorflow/compiler/xla/service/service.cc:168] XLA service 0x7172d890c7d0 initialized for platform CUDA (this does not guarantee that XLA will be used). Devices:\n",
            "2024-07-20 19:40:24.526971: I tensorflow/compiler/xla/service/service.cc:176]   StreamExecutor device (0): NVIDIA GeForce RTX 4060 Ti, Compute Capability 8.9\n",
            "2024-07-20 19:40:24.531250: I tensorflow/compiler/mlir/tensorflow/utils/dump_mlir_util.cc:255] disabling MLIR crash reproducer, set env var `MLIR_CRASH_REPRODUCER_DIRECTORY` to enable.\n",
            "2024-07-20 19:40:24.645946: I ./tensorflow/compiler/jit/device_compiler.h:186] Compiled cluster using XLA!  This line is logged at most once for the lifetime of the process.\n"
          ]
        },
        {
          "name": "stdout",
          "output_type": "stream",
          "text": [
            "748/750 [============================>.] - ETA: 0s - loss: 0.4373 - accuracy: 0.9025\n",
            "Epoch 1: val_accuracy improved from -inf to 0.89968, saving model to classifier_aug_best.tf\n",
            "INFO:tensorflow:Assets written to: classifier_aug_best.tf/assets\n"
          ]
        },
        {
          "name": "stderr",
          "output_type": "stream",
          "text": [
            "INFO:tensorflow:Assets written to: classifier_aug_best.tf/assets\n"
          ]
        },
        {
          "name": "stdout",
          "output_type": "stream",
          "text": [
            "750/750 [==============================] - 23s 23ms/step - loss: 0.4363 - accuracy: 0.9028 - val_loss: 0.4923 - val_accuracy: 0.8997\n",
            "Epoch 2/50\n",
            "750/750 [==============================] - ETA: 0s - loss: 0.0933 - accuracy: 0.9794\n",
            "Epoch 2: val_accuracy did not improve from 0.89968\n",
            "750/750 [==============================] - 14s 19ms/step - loss: 0.0933 - accuracy: 0.9794 - val_loss: 1.3459 - val_accuracy: 0.6732\n",
            "Epoch 3/50\n",
            "750/750 [==============================] - ETA: 0s - loss: 0.0859 - accuracy: 0.9791\n",
            "Epoch 3: val_accuracy did not improve from 0.89968\n",
            "750/750 [==============================] - 14s 19ms/step - loss: 0.0859 - accuracy: 0.9791 - val_loss: 2.9574 - val_accuracy: 0.5629\n",
            "Epoch 4/50\n",
            "748/750 [============================>.] - ETA: 0s - loss: 0.0822 - accuracy: 0.9804\n",
            "Epoch 4: val_accuracy improved from 0.89968 to 0.92285, saving model to classifier_aug_best.tf\n",
            "INFO:tensorflow:Assets written to: classifier_aug_best.tf/assets\n"
          ]
        },
        {
          "name": "stderr",
          "output_type": "stream",
          "text": [
            "INFO:tensorflow:Assets written to: classifier_aug_best.tf/assets\n"
          ]
        },
        {
          "name": "stdout",
          "output_type": "stream",
          "text": [
            "750/750 [==============================] - 17s 23ms/step - loss: 0.0823 - accuracy: 0.9804 - val_loss: 0.5096 - val_accuracy: 0.9228\n",
            "Epoch 5/50\n",
            "749/750 [============================>.] - ETA: 0s - loss: 0.0831 - accuracy: 0.9793\n",
            "Epoch 5: val_accuracy did not improve from 0.92285\n",
            "750/750 [==============================] - 16s 22ms/step - loss: 0.0831 - accuracy: 0.9793 - val_loss: 1.3229 - val_accuracy: 0.6679\n",
            "Epoch 6/50\n",
            "749/750 [============================>.] - ETA: 0s - loss: 0.0792 - accuracy: 0.9807\n",
            "Epoch 6: val_accuracy did not improve from 0.92285\n",
            "750/750 [==============================] - 15s 20ms/step - loss: 0.0791 - accuracy: 0.9808 - val_loss: 4.6423 - val_accuracy: 0.3991\n",
            "Epoch 7/50\n",
            "748/750 [============================>.] - ETA: 0s - loss: 0.0756 - accuracy: 0.9812\n",
            "Epoch 7: val_accuracy did not improve from 0.92285\n",
            "750/750 [==============================] - 15s 20ms/step - loss: 0.0754 - accuracy: 0.9813 - val_loss: 0.4273 - val_accuracy: 0.8664\n",
            "Epoch 8/50\n",
            "750/750 [==============================] - ETA: 0s - loss: 0.0719 - accuracy: 0.9815\n",
            "Epoch 8: val_accuracy did not improve from 0.92285\n",
            "750/750 [==============================] - 15s 20ms/step - loss: 0.0719 - accuracy: 0.9815 - val_loss: 0.4795 - val_accuracy: 0.8999\n",
            "Epoch 9/50\n",
            "748/750 [============================>.] - ETA: 0s - loss: 0.0733 - accuracy: 0.9814\n",
            "Epoch 9: val_accuracy did not improve from 0.92285\n",
            "750/750 [==============================] - 15s 20ms/step - loss: 0.0731 - accuracy: 0.9814 - val_loss: 1.6937 - val_accuracy: 0.5751\n",
            "Epoch 10/50\n",
            "748/750 [============================>.] - ETA: 0s - loss: 0.0758 - accuracy: 0.9808\n",
            "Epoch 10: val_accuracy improved from 0.92285 to 0.94684, saving model to classifier_aug_best.tf\n",
            "INFO:tensorflow:Assets written to: classifier_aug_best.tf/assets\n"
          ]
        },
        {
          "name": "stderr",
          "output_type": "stream",
          "text": [
            "INFO:tensorflow:Assets written to: classifier_aug_best.tf/assets\n"
          ]
        },
        {
          "name": "stdout",
          "output_type": "stream",
          "text": [
            "750/750 [==============================] - 18s 23ms/step - loss: 0.0757 - accuracy: 0.9808 - val_loss: 0.3540 - val_accuracy: 0.9468\n",
            "Epoch 11/50\n",
            "748/750 [============================>.] - ETA: 0s - loss: 0.0707 - accuracy: 0.9814\n",
            "Epoch 11: val_accuracy did not improve from 0.94684\n",
            "750/750 [==============================] - 15s 20ms/step - loss: 0.0708 - accuracy: 0.9814 - val_loss: 0.6866 - val_accuracy: 0.8674\n",
            "Epoch 12/50\n",
            "750/750 [==============================] - ETA: 0s - loss: 0.0717 - accuracy: 0.9809\n",
            "Epoch 12: val_accuracy did not improve from 0.94684\n",
            "750/750 [==============================] - 15s 19ms/step - loss: 0.0717 - accuracy: 0.9809 - val_loss: 0.4231 - val_accuracy: 0.8997\n",
            "Epoch 13/50\n",
            "748/750 [============================>.] - ETA: 0s - loss: 0.0695 - accuracy: 0.9824\n",
            "Epoch 13: val_accuracy did not improve from 0.94684\n",
            "750/750 [==============================] - 15s 20ms/step - loss: 0.0695 - accuracy: 0.9824 - val_loss: 2.1974 - val_accuracy: 0.3751\n",
            "Epoch 14/50\n",
            "750/750 [==============================] - ETA: 0s - loss: 0.0677 - accuracy: 0.9823\n",
            "Epoch 14: val_accuracy did not improve from 0.94684\n",
            "750/750 [==============================] - 15s 19ms/step - loss: 0.0677 - accuracy: 0.9823 - val_loss: 1.3545 - val_accuracy: 0.7137\n",
            "Epoch 15/50\n",
            "749/750 [============================>.] - ETA: 0s - loss: 0.0685 - accuracy: 0.9821\n",
            "Epoch 15: val_accuracy did not improve from 0.94684\n",
            "750/750 [==============================] - 15s 19ms/step - loss: 0.0685 - accuracy: 0.9821 - val_loss: 0.4760 - val_accuracy: 0.9275\n",
            "Epoch 16/50\n",
            "750/750 [==============================] - ETA: 0s - loss: 0.0671 - accuracy: 0.9824\n",
            "Epoch 16: val_accuracy did not improve from 0.94684\n",
            "750/750 [==============================] - 15s 20ms/step - loss: 0.0671 - accuracy: 0.9824 - val_loss: 3.2424 - val_accuracy: 0.4574\n",
            "Epoch 17/50\n",
            "748/750 [============================>.] - ETA: 0s - loss: 0.0686 - accuracy: 0.9818\n",
            "Epoch 17: val_accuracy did not improve from 0.94684\n",
            "750/750 [==============================] - 15s 20ms/step - loss: 0.0687 - accuracy: 0.9817 - val_loss: 1.8472 - val_accuracy: 0.6694\n",
            "Epoch 18/50\n",
            "748/750 [============================>.] - ETA: 0s - loss: 0.0659 - accuracy: 0.9823\n",
            "Epoch 18: val_accuracy did not improve from 0.94684\n",
            "750/750 [==============================] - 15s 19ms/step - loss: 0.0661 - accuracy: 0.9822 - val_loss: 0.4521 - val_accuracy: 0.9460\n",
            "Epoch 19/50\n",
            "749/750 [============================>.] - ETA: 0s - loss: 0.0655 - accuracy: 0.9824\n",
            "Epoch 19: val_accuracy did not improve from 0.94684\n",
            "750/750 [==============================] - 15s 20ms/step - loss: 0.0654 - accuracy: 0.9825 - val_loss: 6.9019 - val_accuracy: 0.2895\n",
            "Epoch 20/50\n",
            "750/750 [==============================] - ETA: 0s - loss: 0.0665 - accuracy: 0.9819\n",
            "Epoch 20: val_accuracy did not improve from 0.94684\n",
            "750/750 [==============================] - 15s 20ms/step - loss: 0.0665 - accuracy: 0.9819 - val_loss: 28.4111 - val_accuracy: 0.0268\n",
            "Epoch 21/50\n",
            "750/750 [==============================] - ETA: 0s - loss: 0.0654 - accuracy: 0.9827\n",
            "Epoch 21: val_accuracy did not improve from 0.94684\n",
            "750/750 [==============================] - 15s 19ms/step - loss: 0.0654 - accuracy: 0.9827 - val_loss: 0.5025 - val_accuracy: 0.8942\n",
            "Epoch 22/50\n",
            "750/750 [==============================] - ETA: 0s - loss: 0.0666 - accuracy: 0.9819\n",
            "Epoch 22: val_accuracy did not improve from 0.94684\n",
            "750/750 [==============================] - 15s 20ms/step - loss: 0.0666 - accuracy: 0.9819 - val_loss: 1.2587 - val_accuracy: 0.6787\n",
            "Epoch 23/50\n",
            "748/750 [============================>.] - ETA: 0s - loss: 0.0645 - accuracy: 0.9830\n",
            "Epoch 23: val_accuracy did not improve from 0.94684\n",
            "750/750 [==============================] - 14s 19ms/step - loss: 0.0645 - accuracy: 0.9830 - val_loss: 1.8896 - val_accuracy: 0.4658\n",
            "Epoch 24/50\n",
            "748/750 [============================>.] - ETA: 0s - loss: 0.0651 - accuracy: 0.9825\n",
            "Epoch 24: val_accuracy did not improve from 0.94684\n",
            "750/750 [==============================] - 14s 19ms/step - loss: 0.0650 - accuracy: 0.9825 - val_loss: 2.3556 - val_accuracy: 0.6876\n",
            "Epoch 25/50\n",
            "750/750 [==============================] - ETA: 0s - loss: 0.0626 - accuracy: 0.9828\n",
            "Epoch 25: val_accuracy improved from 0.94684 to 0.94884, saving model to classifier_aug_best.tf\n",
            "INFO:tensorflow:Assets written to: classifier_aug_best.tf/assets\n"
          ]
        },
        {
          "name": "stderr",
          "output_type": "stream",
          "text": [
            "INFO:tensorflow:Assets written to: classifier_aug_best.tf/assets\n"
          ]
        },
        {
          "name": "stdout",
          "output_type": "stream",
          "text": [
            "750/750 [==============================] - 17s 22ms/step - loss: 0.0626 - accuracy: 0.9828 - val_loss: 0.3377 - val_accuracy: 0.9488\n",
            "Epoch 26/50\n",
            "748/750 [============================>.] - ETA: 0s - loss: 0.0621 - accuracy: 0.9830\n",
            "Epoch 26: val_accuracy did not improve from 0.94884\n",
            "750/750 [==============================] - 14s 19ms/step - loss: 0.0621 - accuracy: 0.9830 - val_loss: 0.8075 - val_accuracy: 0.7902\n",
            "Epoch 27/50\n",
            "750/750 [==============================] - ETA: 0s - loss: 0.0620 - accuracy: 0.9828\n",
            "Epoch 27: val_accuracy did not improve from 0.94884\n",
            "750/750 [==============================] - 14s 19ms/step - loss: 0.0620 - accuracy: 0.9828 - val_loss: 10.5232 - val_accuracy: 0.1788\n",
            "Epoch 28/50\n",
            "750/750 [==============================] - ETA: 0s - loss: 0.0620 - accuracy: 0.9831\n",
            "Epoch 28: val_accuracy did not improve from 0.94884\n",
            "750/750 [==============================] - 14s 19ms/step - loss: 0.0620 - accuracy: 0.9831 - val_loss: 1.9758 - val_accuracy: 0.7542\n",
            "Epoch 29/50\n",
            "749/750 [============================>.] - ETA: 0s - loss: 0.0623 - accuracy: 0.9826\n",
            "Epoch 29: val_accuracy improved from 0.94884 to 0.94951, saving model to classifier_aug_best.tf\n",
            "INFO:tensorflow:Assets written to: classifier_aug_best.tf/assets\n"
          ]
        },
        {
          "name": "stderr",
          "output_type": "stream",
          "text": [
            "INFO:tensorflow:Assets written to: classifier_aug_best.tf/assets\n"
          ]
        },
        {
          "name": "stdout",
          "output_type": "stream",
          "text": [
            "750/750 [==============================] - 16s 21ms/step - loss: 0.0622 - accuracy: 0.9826 - val_loss: 0.2626 - val_accuracy: 0.9495\n",
            "Epoch 30/50\n",
            "748/750 [============================>.] - ETA: 0s - loss: 0.0616 - accuracy: 0.9830\n",
            "Epoch 30: val_accuracy did not improve from 0.94951\n",
            "750/750 [==============================] - 14s 19ms/step - loss: 0.0616 - accuracy: 0.9830 - val_loss: 0.2872 - val_accuracy: 0.9463\n",
            "Epoch 31/50\n",
            "749/750 [============================>.] - ETA: 0s - loss: 0.0605 - accuracy: 0.9829\n",
            "Epoch 31: val_accuracy did not improve from 0.94951\n",
            "750/750 [==============================] - 14s 19ms/step - loss: 0.0605 - accuracy: 0.9829 - val_loss: 2.6433 - val_accuracy: 0.6047\n",
            "Epoch 32/50\n",
            "748/750 [============================>.] - ETA: 0s - loss: 0.0610 - accuracy: 0.9830\n",
            "Epoch 32: val_accuracy did not improve from 0.94951\n",
            "750/750 [==============================] - 14s 19ms/step - loss: 0.0609 - accuracy: 0.9831 - val_loss: 0.9149 - val_accuracy: 0.7490\n",
            "Epoch 33/50\n",
            "748/750 [============================>.] - ETA: 0s - loss: 0.0613 - accuracy: 0.9830\n",
            "Epoch 33: val_accuracy did not improve from 0.94951\n",
            "750/750 [==============================] - 14s 19ms/step - loss: 0.0612 - accuracy: 0.9830 - val_loss: 0.9431 - val_accuracy: 0.7450\n",
            "Epoch 34/50\n",
            "750/750 [==============================] - ETA: 0s - loss: 0.0600 - accuracy: 0.9832\n",
            "Epoch 34: val_accuracy did not improve from 0.94951\n",
            "750/750 [==============================] - 14s 19ms/step - loss: 0.0600 - accuracy: 0.9832 - val_loss: 0.2924 - val_accuracy: 0.9478\n",
            "Epoch 35/50\n",
            "748/750 [============================>.] - ETA: 0s - loss: 0.0592 - accuracy: 0.9833\n",
            "Epoch 35: val_accuracy did not improve from 0.94951\n",
            "750/750 [==============================] - 14s 19ms/step - loss: 0.0591 - accuracy: 0.9833 - val_loss: 4.6458 - val_accuracy: 0.4719\n",
            "Epoch 36/50\n",
            "750/750 [==============================] - ETA: 0s - loss: 0.0587 - accuracy: 0.9836\n",
            "Epoch 36: val_accuracy did not improve from 0.94951\n",
            "750/750 [==============================] - 14s 19ms/step - loss: 0.0587 - accuracy: 0.9836 - val_loss: 19.0455 - val_accuracy: 0.1533\n",
            "Epoch 37/50\n",
            "749/750 [============================>.] - ETA: 0s - loss: 0.0585 - accuracy: 0.9832\n",
            "Epoch 37: val_accuracy did not improve from 0.94951\n",
            "750/750 [==============================] - 14s 19ms/step - loss: 0.0584 - accuracy: 0.9833 - val_loss: 0.2997 - val_accuracy: 0.9490\n",
            "Epoch 38/50\n",
            "749/750 [============================>.] - ETA: 0s - loss: 0.0599 - accuracy: 0.9830\n",
            "Epoch 38: val_accuracy improved from 0.94951 to 0.95017, saving model to classifier_aug_best.tf\n",
            "INFO:tensorflow:Assets written to: classifier_aug_best.tf/assets\n"
          ]
        },
        {
          "name": "stderr",
          "output_type": "stream",
          "text": [
            "INFO:tensorflow:Assets written to: classifier_aug_best.tf/assets\n"
          ]
        },
        {
          "name": "stdout",
          "output_type": "stream",
          "text": [
            "750/750 [==============================] - 16s 22ms/step - loss: 0.0599 - accuracy: 0.9830 - val_loss: 0.3186 - val_accuracy: 0.9502\n",
            "Epoch 39/50\n",
            "750/750 [==============================] - ETA: 0s - loss: 0.0582 - accuracy: 0.9833\n",
            "Epoch 39: val_accuracy did not improve from 0.95017\n",
            "750/750 [==============================] - 14s 19ms/step - loss: 0.0582 - accuracy: 0.9833 - val_loss: 0.4689 - val_accuracy: 0.9378\n",
            "Epoch 40/50\n",
            "750/750 [==============================] - ETA: 0s - loss: 0.0582 - accuracy: 0.9833\n",
            "Epoch 40: val_accuracy did not improve from 0.95017\n",
            "750/750 [==============================] - 14s 19ms/step - loss: 0.0582 - accuracy: 0.9833 - val_loss: 0.3200 - val_accuracy: 0.9323\n",
            "Epoch 41/50\n",
            "748/750 [============================>.] - ETA: 0s - loss: 0.0574 - accuracy: 0.9835\n",
            "Epoch 41: val_accuracy did not improve from 0.95017\n",
            "750/750 [==============================] - 15s 20ms/step - loss: 0.0573 - accuracy: 0.9835 - val_loss: 1.5849 - val_accuracy: 0.6341\n",
            "Epoch 42/50\n",
            "749/750 [============================>.] - ETA: 0s - loss: 0.0573 - accuracy: 0.9839\n",
            "Epoch 42: val_accuracy did not improve from 0.95017\n",
            "750/750 [==============================] - 15s 19ms/step - loss: 0.0572 - accuracy: 0.9839 - val_loss: 0.5231 - val_accuracy: 0.8769\n",
            "Epoch 43/50\n",
            "748/750 [============================>.] - ETA: 0s - loss: 0.0567 - accuracy: 0.9840\n",
            "Epoch 43: val_accuracy did not improve from 0.95017\n",
            "750/750 [==============================] - 15s 20ms/step - loss: 0.0567 - accuracy: 0.9840 - val_loss: 1.3202 - val_accuracy: 0.8297\n",
            "Epoch 44/50\n",
            "749/750 [============================>.] - ETA: 0s - loss: 0.0562 - accuracy: 0.9836\n",
            "Epoch 44: val_accuracy did not improve from 0.95017\n",
            "750/750 [==============================] - 15s 20ms/step - loss: 0.0562 - accuracy: 0.9836 - val_loss: 1.8941 - val_accuracy: 0.4006\n",
            "Epoch 45/50\n",
            "749/750 [============================>.] - ETA: 0s - loss: 0.0581 - accuracy: 0.9832\n",
            "Epoch 45: val_accuracy did not improve from 0.95017\n",
            "750/750 [==============================] - 15s 20ms/step - loss: 0.0581 - accuracy: 0.9833 - val_loss: 46.3283 - val_accuracy: 0.1026\n",
            "Epoch 46/50\n",
            "749/750 [============================>.] - ETA: 0s - loss: 0.0594 - accuracy: 0.9833\n",
            "Epoch 46: val_accuracy did not improve from 0.95017\n",
            "750/750 [==============================] - 15s 20ms/step - loss: 0.0595 - accuracy: 0.9833 - val_loss: 0.3019 - val_accuracy: 0.9473\n",
            "Epoch 47/50\n",
            "750/750 [==============================] - ETA: 0s - loss: 0.0555 - accuracy: 0.9839\n",
            "Epoch 47: val_accuracy did not improve from 0.95017\n",
            "750/750 [==============================] - 15s 19ms/step - loss: 0.0555 - accuracy: 0.9839 - val_loss: 0.9600 - val_accuracy: 0.7420\n",
            "Epoch 48/50\n",
            "749/750 [============================>.] - ETA: 0s - loss: 0.0551 - accuracy: 0.9842\n",
            "Epoch 48: val_accuracy did not improve from 0.95017\n",
            "750/750 [==============================] - 15s 20ms/step - loss: 0.0550 - accuracy: 0.9843 - val_loss: 0.6819 - val_accuracy: 0.8784\n",
            "Epoch 49/50\n",
            "749/750 [============================>.] - ETA: 0s - loss: 0.0546 - accuracy: 0.9839\n",
            "Epoch 49: val_accuracy did not improve from 0.95017\n",
            "750/750 [==============================] - 15s 20ms/step - loss: 0.0545 - accuracy: 0.9839 - val_loss: 12.0406 - val_accuracy: 0.2645\n",
            "Epoch 50/50\n",
            "750/750 [==============================] - ETA: 0s - loss: 0.0550 - accuracy: 0.9841\n",
            "Epoch 50: val_accuracy did not improve from 0.95017\n",
            "750/750 [==============================] - 15s 20ms/step - loss: 0.0550 - accuracy: 0.9841 - val_loss: 0.3523 - val_accuracy: 0.9482\n"
          ]
        }
      ],
      "source": [
        "history = model.fit(augmented_data_generator,\n",
        "                steps_per_epoch=len(X_train_class) // batch_size,\n",
        "                epochs=50,\n",
        "                batch_size=batch_size,\n",
        "                shuffle=True,\n",
        "                callbacks=[checkpoint],\n",
        "                validation_data=(X_val_class, Y_val_class))"
      ]
    },
    {
      "cell_type": "code",
      "execution_count": 34,
      "metadata": {},
      "outputs": [],
      "source": [
        "model = tf.keras.models.load_model('classifier_aug_best.tf')"
      ]
    },
    {
      "cell_type": "code",
      "execution_count": 35,
      "metadata": {
        "colab": {
          "base_uri": "https://localhost:8080/"
        },
        "id": "bycR9-wTXadc",
        "outputId": "0e31fc0a-d09e-469e-f618-f65186cfea00"
      },
      "outputs": [
        {
          "name": "stdout",
          "output_type": "stream",
          "text": [
            "1501/1501 [==============================] - 4s 3ms/step\n",
            "188/188 [==============================] - 1s 4ms/step\n"
          ]
        }
      ],
      "source": [
        "Y_train_pred = model.predict(X_train_class)\n",
        "Y_val_pred = model.predict(X_val_class)"
      ]
    },
    {
      "cell_type": "code",
      "execution_count": 36,
      "metadata": {},
      "outputs": [
        {
          "name": "stdout",
          "output_type": "stream",
          "text": [
            "Classification Accuracy: 0.9501749708381937\n"
          ]
        }
      ],
      "source": [
        "from sklearn.metrics import accuracy_score,classification_report\n",
        "\n",
        "# Convert one-hot encoded labels to class indices for true labels\n",
        "Y_val_class_indices = np.argmax(Y_val_class, axis=-1)\n",
        "\n",
        "# Convert predictions to class indices\n",
        "Y_val_pred_class_indices = np.argmax(Y_val_pred, axis=-1)\n",
        "\n",
        "# Compute accuracy\n",
        "accuracy = accuracy_score(Y_val_class_indices, Y_val_pred_class_indices)\n",
        "print(f'Classification Accuracy: {accuracy}')"
      ]
    },
    {
      "cell_type": "code",
      "execution_count": 37,
      "metadata": {},
      "outputs": [
        {
          "name": "stdout",
          "output_type": "stream",
          "text": [
            "Class 0:\n",
            "  Precision: 0.90\n",
            "  Recall: 0.86\n",
            "  F1-score: 0.88\n",
            "  Support: 184.00\n",
            "\n",
            "Class 1:\n",
            "  Precision: 0.95\n",
            "  Recall: 0.92\n",
            "  F1-score: 0.94\n",
            "  Support: 198.00\n",
            "\n",
            "Class 2:\n",
            "  Precision: 0.98\n",
            "  Recall: 0.99\n",
            "  F1-score: 0.98\n",
            "  Support: 162.00\n",
            "\n",
            "Class 3:\n",
            "  Precision: 0.98\n",
            "  Recall: 0.91\n",
            "  F1-score: 0.94\n",
            "  Support: 138.00\n",
            "\n",
            "Class 4:\n",
            "  Precision: 0.96\n",
            "  Recall: 0.98\n",
            "  F1-score: 0.97\n",
            "  Support: 153.00\n",
            "\n",
            "Class 5:\n",
            "  Precision: 0.95\n",
            "  Recall: 0.98\n",
            "  F1-score: 0.96\n",
            "  Support: 161.00\n",
            "\n",
            "Class 6:\n",
            "  Precision: 0.96\n",
            "  Recall: 0.97\n",
            "  F1-score: 0.96\n",
            "  Support: 175.00\n",
            "\n",
            "Class 7:\n",
            "  Precision: 0.99\n",
            "  Recall: 0.97\n",
            "  F1-score: 0.98\n",
            "  Support: 189.00\n",
            "\n",
            "Class 8:\n",
            "  Precision: 0.90\n",
            "  Recall: 0.94\n",
            "  F1-score: 0.92\n",
            "  Support: 147.00\n",
            "\n",
            "Class 9:\n",
            "  Precision: 0.92\n",
            "  Recall: 0.96\n",
            "  F1-score: 0.94\n",
            "  Support: 150.00\n",
            "\n",
            "Class ?:\n",
            "  Precision: 0.00\n",
            "  Recall: 0.00\n",
            "  F1-score: 0.00\n",
            "  Support: 0.00\n",
            "\n",
            "Class A:\n",
            "  Precision: 0.98\n",
            "  Recall: 0.97\n",
            "  F1-score: 0.98\n",
            "  Support: 150.00\n",
            "\n",
            "Class B:\n",
            "  Precision: 0.94\n",
            "  Recall: 0.96\n",
            "  F1-score: 0.95\n",
            "  Support: 161.00\n",
            "\n",
            "Class C:\n",
            "  Precision: 0.81\n",
            "  Recall: 0.88\n",
            "  F1-score: 0.84\n",
            "  Support: 161.00\n",
            "\n",
            "Class D:\n",
            "  Precision: 0.96\n",
            "  Recall: 0.97\n",
            "  F1-score: 0.96\n",
            "  Support: 183.00\n",
            "\n",
            "Class E:\n",
            "  Precision: 0.97\n",
            "  Recall: 0.95\n",
            "  F1-score: 0.96\n",
            "  Support: 147.00\n",
            "\n",
            "Class F:\n",
            "  Precision: 0.97\n",
            "  Recall: 0.96\n",
            "  F1-score: 0.96\n",
            "  Support: 178.00\n",
            "\n",
            "Class G:\n",
            "  Precision: 0.98\n",
            "  Recall: 0.93\n",
            "  F1-score: 0.95\n",
            "  Support: 188.00\n",
            "\n",
            "Class H:\n",
            "  Precision: 1.00\n",
            "  Recall: 0.97\n",
            "  F1-score: 0.98\n",
            "  Support: 176.00\n",
            "\n",
            "Class I:\n",
            "  Precision: 0.94\n",
            "  Recall: 0.93\n",
            "  F1-score: 0.94\n",
            "  Support: 166.00\n",
            "\n",
            "Class J:\n",
            "  Precision: 0.98\n",
            "  Recall: 0.97\n",
            "  F1-score: 0.97\n",
            "  Support: 177.00\n",
            "\n",
            "Class K:\n",
            "  Precision: 0.98\n",
            "  Recall: 0.98\n",
            "  F1-score: 0.98\n",
            "  Support: 161.00\n",
            "\n",
            "Class L:\n",
            "  Precision: 0.96\n",
            "  Recall: 0.98\n",
            "  F1-score: 0.97\n",
            "  Support: 160.00\n",
            "\n",
            "Class M:\n",
            "  Precision: 0.99\n",
            "  Recall: 1.00\n",
            "  F1-score: 1.00\n",
            "  Support: 164.00\n",
            "\n",
            "Class N:\n",
            "  Precision: 0.97\n",
            "  Recall: 0.98\n",
            "  F1-score: 0.98\n",
            "  Support: 168.00\n",
            "\n",
            "Class O:\n",
            "  Precision: 0.81\n",
            "  Recall: 0.73\n",
            "  F1-score: 0.77\n",
            "  Support: 180.00\n",
            "\n",
            "Class P:\n",
            "  Precision: 0.99\n",
            "  Recall: 0.95\n",
            "  F1-score: 0.97\n",
            "  Support: 173.00\n",
            "\n",
            "Class Q:\n",
            "  Precision: 0.99\n",
            "  Recall: 0.98\n",
            "  F1-score: 0.98\n",
            "  Support: 150.00\n",
            "\n",
            "Class R:\n",
            "  Precision: 0.97\n",
            "  Recall: 0.97\n",
            "  F1-score: 0.97\n",
            "  Support: 152.00\n",
            "\n",
            "Class S:\n",
            "  Precision: 0.97\n",
            "  Recall: 0.98\n",
            "  F1-score: 0.98\n",
            "  Support: 195.00\n",
            "\n",
            "Class T:\n",
            "  Precision: 0.96\n",
            "  Recall: 0.97\n",
            "  F1-score: 0.96\n",
            "  Support: 145.00\n",
            "\n",
            "Class U:\n",
            "  Precision: 0.99\n",
            "  Recall: 0.98\n",
            "  F1-score: 0.98\n",
            "  Support: 194.00\n",
            "\n",
            "Class V:\n",
            "  Precision: 0.88\n",
            "  Recall: 0.97\n",
            "  F1-score: 0.93\n",
            "  Support: 156.00\n",
            "\n",
            "Class W:\n",
            "  Precision: 0.99\n",
            "  Recall: 0.92\n",
            "  F1-score: 0.95\n",
            "  Support: 159.00\n",
            "\n",
            "Class X:\n",
            "  Precision: 0.97\n",
            "  Recall: 0.95\n",
            "  F1-score: 0.96\n",
            "  Support: 191.00\n",
            "\n",
            "Class Y:\n",
            "  Precision: 0.99\n",
            "  Recall: 0.97\n",
            "  F1-score: 0.98\n",
            "  Support: 170.00\n",
            "\n",
            "Class Z:\n",
            "  Precision: 0.97\n",
            "  Recall: 0.96\n",
            "  F1-score: 0.96\n",
            "  Support: 139.00\n",
            "\n",
            "accuracy 0.9501749708381937\n",
            "macro avg {'precision': 0.9298183479477617, 'recall': 0.9251316732791243, 'f1-score': 0.9271402900350912, 'support': 6001.0}\n",
            "weighted avg {'precision': 0.9558736588291629, 'recall': 0.9501749708381937, 'f1-score': 0.95268683239807, 'support': 6001.0}\n"
          ]
        }
      ],
      "source": [
        "report = classification_report(Y_val_class_indices, Y_val_pred_class_indices, output_dict=True, zero_division=0)\n",
        "for label, metrics in report.items():\n",
        "    if label.isdecimal():\n",
        "        print(f'Class {vocab[int(label)]}:')\n",
        "        print(f\"  Precision: {metrics['precision']:.2f}\")\n",
        "        print(f\"  Recall: {metrics['recall']:.2f}\")\n",
        "        print(f\"  F1-score: {metrics['f1-score']:.2f}\")\n",
        "        print(f\"  Support: {metrics['support']:.2f}\\n\")\n",
        "    else:\n",
        "        print(label,metrics)\n"
      ]
    },
    {
      "cell_type": "code",
      "execution_count": 38,
      "metadata": {},
      "outputs": [],
      "source": [
        "import cv2\n",
        "def draw_red_box_cv2(image, start_x, end_x, height=50):\n",
        "    # Create a copy of the Simage\n",
        "    image_copy = image.copy()\n",
        "    \n",
        "    # Define the rectangle color (BGR format for OpenCV)\n",
        "    color = (0, 0, 255)  # Red color in BGR\n",
        "    thickness = 2  # Thickness of the rectangle\n",
        "    \n",
        "    # Draw the rectangle\n",
        "    top_left = (start_x, 0)\n",
        "    bottom_right = (end_x, height)\n",
        "    cv2.rectangle(image_copy, top_left, bottom_right, color, thickness)\n",
        "    \n",
        "    return image_copy"
      ]
    },
    {
      "cell_type": "code",
      "execution_count": 46,
      "metadata": {},
      "outputs": [
        {
          "name": "stdout",
          "output_type": "stream",
          "text": [
            "Number of misclassified instances: 299\n",
            "Number of misclassified images: 260\n"
          ]
        },
        {
          "data": {
            "image/png": "[encoded data removed]",
            "text/plain": [
              "<Figure size 1200x600 with 2 Axes>"
            ]
          },
          "metadata": {},
          "output_type": "display_data"
        },
        {
          "data": {
            "image/png": "[encoded data removed]",
            "text/plain": [
              "<Figure size 1200x600 with 2 Axes>"
            ]
          },
          "metadata": {},
          "output_type": "display_data"
        },
        {
          "data": {
            "image/png": "[encoded data removed]",
            "text/plain": [
              "<Figure size 1200x600 with 2 Axes>"
            ]
          },
          "metadata": {},
          "output_type": "display_data"
        },
        {
          "data": {
            "image/png": "[encoded data removed]",
            "text/plain": [
              "<Figure size 1200x600 with 2 Axes>"
            ]
          },
          "metadata": {},
          "output_type": "display_data"
        },
        {
          "data": {
            "image/png": "[encoded data removed]",
            "text/plain": [
              "<Figure size 1200x600 with 2 Axes>"
            ]
          },
          "metadata": {},
          "output_type": "display_data"
        }
      ],
      "source": [
        "misclassified_indices = np.where(Y_val_class_indices != Y_val_pred_class_indices)[0]\n",
        "print(f\"Number of misclassified instances: {len(misclassified_indices)}\")\n",
        "print(f\"Number of misclassified images: {len(np.unique(misclassified_indices//7))}\")\n",
        "\n",
        "# Print the first few misclassified instances\n",
        "for i in misclassified_indices[:5]:  # Adjust the number as needed\n",
        "\n",
        "    original_image  = X_val[i]  # Original image\n",
        "    predicted_image = Y_val_pred_ae[i]# Remove the single channel dimension if it exists\n",
        "\n",
        "    plt.figure(figsize=(12, 6))  # Adjust the size as needed\n",
        "    plt.subplot(1, 3, 1)\n",
        "    plt.imshow(cv2.cvtColor(original_image, cv2.COLOR_BGR2RGB))\n",
        "    plt.title(f\"True: {vocab[Y_val_class_indices[i]]}, Predicted: {vocab[Y_val_pred_class_indices[i]]}\")\n",
        "    plt.axis('off')\n",
        "    \n",
        "    plt.subplot(1, 3, 2)\n",
        "    plt.imshow(cv2.cvtColor(predicted_image, cv2.COLOR_BGR2RGB))\n",
        "    plt.title(f\"True: {vocab[Y_val_class_indices[i]]}, Predicted: {vocab[Y_val_pred_class_indices[i]]}\")\n",
        "    plt.axis('off')\n",
        "    plt.show()"
      ]
    },
    {
      "cell_type": "code",
      "execution_count": 70,
      "metadata": {},
      "outputs": [
        {
          "data": {
            "text/plain": [
              "0.956507248791868"
            ]
          },
          "execution_count": 70,
          "metadata": {},
          "output_type": "execute_result"
        }
      ],
      "source": [
        "images_that_has_some_error = rows_val[misclassified_indices]\n",
        "unique_miss = len(np.unique(images_that_has_some_error))\n",
        "unique_miss /=X_val.shape[0]\n",
        "1 - unique_miss"
      ]
    },
    {
      "cell_type": "code",
      "execution_count": 41,
      "metadata": {},
      "outputs": [],
      "source": [
        "model.save('classifier_aug_20.keras')"
      ]
    }
  ],
  "metadata": {
    "accelerator": "GPU",
    "colab": {
      "gpuType": "T4",
      "provenance": []
    },
    "kernelspec": {
      "display_name": "Python 3",
      "name": "python3"
    },
    "language_info": {
      "codemirror_mode": {
        "name": "ipython",
        "version": 3
      },
      "file_extension": ".py",
      "mimetype": "text/x-python",
      "name": "python",
      "nbconvert_exporter": "python",
      "pygments_lexer": "ipython3",
      "version": "3.9.19"
    }
  },
  "nbformat": 4,
  "nbformat_minor": 0
}
